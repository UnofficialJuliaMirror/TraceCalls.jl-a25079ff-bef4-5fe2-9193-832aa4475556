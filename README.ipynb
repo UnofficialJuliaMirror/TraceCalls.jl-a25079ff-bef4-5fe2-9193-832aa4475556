{
 "cells": [
  {
   "cell_type": "markdown",
   "metadata": {},
   "source": [
    "# Overview"
   ]
  },
  {
   "cell_type": "code",
   "execution_count": 1,
   "metadata": {},
   "outputs": [
    {
     "name": "stderr",
     "output_type": "stream",
     "text": [
      "\u001b[1m\u001b[36mINFO: \u001b[39m\u001b[22m\u001b[36mRecompiling stale cache file /Users/cedric/.julia/lib/v0.6/TraceCalls.ji for module TraceCalls.\n",
      "\u001b[39m"
     ]
    }
   ],
   "source": [
    "using PyCall, TraceCalls"
   ]
  },
  {
   "cell_type": "code",
   "execution_count": 2,
   "metadata": {
    "collapsed": true
   },
   "outputs": [],
   "source": [
    "using DataStructures"
   ]
  },
  {
   "cell_type": "code",
   "execution_count": 3,
   "metadata": {},
   "outputs": [
    {
     "data": {
      "text/plain": [
       "DataStructures.OrderedDict{Int64,Int64} with 2 entries:\n",
       "  1 => 2\n",
       "  3 => 4"
      ]
     },
     "execution_count": 3,
     "metadata": {},
     "output_type": "execute_result"
    }
   ],
   "source": [
    "OrderedDict(1=>2, 3=>4)"
   ]
  },
  {
   "cell_type": "code",
   "execution_count": 4,
   "metadata": {},
   "outputs": [
    {
     "name": "stderr",
     "output_type": "stream",
     "text": [
      "\u001b[1m\u001b[33mWARNING: \u001b[39m\u001b[22m\u001b[33mOnly 0/1 methods of DataStructures.OrderedDict in /Applications/Julia-0.6.app/Contents/Resources/julia/bin/../share/julia/base/sysimg.jl were found.\u001b[39m\n"
     ]
    }
   ],
   "source": [
    "tr = @trace ClobberingReload TraceCalls.traceable_update(DataStructures.OrderedDict);"
   ]
  },
  {
   "cell_type": "code",
   "execution_count": 5,
   "metadata": {},
   "outputs": [
    {
     "data": {
      "text/html": [
       "<pre><a href=\"https://github.com/cstjean/TraceCalls.jl/tree/5df93d531045a8473622df291eef21314f4f46d4//src/TraceCalls.jl#L247\" target=\"_blank\" style=\"color: black; text-decoration: none; border-bottom: 1px #C3C3C3 dotted\">TraceCalls.#16</a>() => <font color=red>SystemError(\"opening file nothing\", 2, nothing)</font></pre><ul><li><pre>ClobberingReload.update_code_revertible(TraceCalls.traceable_update_handle_expr, DataStructures.OrderedDict; when_missing=TraceCalls.custom_when_missing) => <font color=red>SystemError(\"opening file nothing\", 2, nothing)</font></pre><ul><li><pre><a href=\"https://github.com/cstjean/ClobberingReload.jl/tree/ebe0d3eb05cf71eade88a8ae343f73d9fc6e81fd//src/code_update.jl#L2\" target=\"_blank\" style=\"color: black; text-decoration: none; border-bottom: 1px #C3C3C3 dotted\">ClobberingReload.method_file_counts</a>(DataStructures.OrderedDict) => <b><font color=green>Dict{Any,Any}(Pair{Any,Any}((DataStructures, \"/Users/cedric/.julia/v0.6/DataStructures/src/ordered_dict.jl\"), 12),Pair{Any,Any}((Base, \"/Applications/Julia-0.6.app/Contents/Resources/julia/bin/../share/julia/base/sysimg.jl\"), 1),Pair{Any,Any}((DataStructures, nothing), 1))</font></b></pre><ul><li><pre><a href=\"https://github.com/cstjean/ClobberingReload.jl/tree/ebe0d3eb05cf71eade88a8ae343f73d9fc6e81fd//src/code_update.jl#L3\" target=\"_blank\" style=\"color: black; text-decoration: none; border-bottom: 1px #C3C3C3 dotted\">ClobberingReload.counter</a>(Base.Generator{Set{Tuple{Module,Any,Int32}},ClobberingReload.##104#123}(ClobberingReload.#104, Set(Tuple{Module,Any,Int32}[(DataStructures, \"/Users/cedric/.julia/v0.6/DataStructures/src/ordered_dict.jl\", 75), (DataStructures, \"/Users/cedric/.julia/v0.6/DataStructures/src/ordered_dict.jl\", 67), (DataStructures, \"/Users/cedric/.julia/v0.6/DataStructures/src/ordered_dict.jl\", 51), (DataStructures, \"/Users/cedric/.julia/v0.6/DataStructures/src/ordered_dict.jl\", 72), (DataStructures, \"/Users/cedric/.julia/v0.6/DataStructures/src/ordered_dict.jl\", 78), (DataStructures, \"/Users/cedric/.julia/v0.6/DataStructures/src/ordered_dict.jl\", 62), (DataStructures, nothing, 1), (DataStructures, \"/Users/cedric/.julia/v0.6/DataStructures/src/ordered_dict.jl\", 73), (DataStructures, \"/Users/cedric/.julia/v0.6/DataStructures/src/ordered_dict.jl\", 68), (Base, \"/Applications/Julia-0.6.app/Contents/Resources/julia/bin/../share/julia/base/sysimg.jl\", 24), (DataStructures, \"/Users/cedric/.julia/v0.6/DataStructures/src/ordered_dict.jl\", 64), (DataStructures, \"/Users/cedric/.julia/v0.6/DataStructures/src/ordered_dict.jl\", 66), (DataStructures, \"/Users/cedric/.julia/v0.6/DataStructures/src/ordered_dict.jl\", 50), (DataStructures, \"/Users/cedric/.julia/v0.6/DataStructures/src/ordered_dict.jl\", 61)]))) => <b><font color=green>Dict{Any,Any}(Pair{Any,Any}((DataStructures, \"/Users/cedric/.julia/v0.6/DataStructures/src/ordered_dict.jl\"), 12),Pair{Any,Any}((Base, \"/Applications/Julia-0.6.app/Contents/Resources/julia/bin/../share/julia/base/sysimg.jl\"), 1),Pair{Any,Any}((DataStructures, nothing), 1))</font></b></pre><ul></ul></li></ul></li></ul></li></ul>"
      ],
      "text/plain": [
       "TraceCalls.Trace(TraceCalls.#16, (), (), TraceCalls.Trace[TraceCalls.Trace(ClobberingReload.update_code_revertible, (TraceCalls.traceable_update_handle_expr, DataStructures.OrderedDict), (:when_missing=>TraceCalls.custom_when_missing,), TraceCalls.Trace[TraceCalls.Trace(ClobberingReload.method_file_counts, (DataStructures.OrderedDict,), (), TraceCalls.Trace[TraceCalls.Trace(ClobberingReload.counter, (Base.Generator{Set{Tuple{Module,Any,Int32}},ClobberingReload.##104#123}(ClobberingReload.#104, Set(Tuple{Module,Any,Int32}[(DataStructures, \"/Users/cedric/.julia/v0.6/DataStructures/src/ordered_dict.jl\", 75), (DataStructures, \"/Users/cedric/.julia/v0.6/DataStructures/src/ordered_dict.jl\", 67), (DataStructures, \"/Users/cedric/.julia/v0.6/DataStructures/src/ordered_dict.jl\", 51), (DataStructures, \"/Users/cedric/.julia/v0.6/DataStructures/src/ordered_dict.jl\", 72), (DataStructures, \"/Users/cedric/.julia/v0.6/DataStructures/src/ordered_dict.jl\", 78), (DataStructures, \"/Users/cedric/.julia/v0.6/DataStructures/src/ordered_dict.jl\", 62), (DataStructures, nothing, 1), (DataStructures, \"/Users/cedric/.julia/v0.6/DataStructures/src/ordered_dict.jl\", 73), (DataStructures, \"/Users/cedric/.julia/v0.6/DataStructures/src/ordered_dict.jl\", 68), (Base, \"/Applications/Julia-0.6.app/Contents/Resources/julia/bin/../share/julia/base/sysimg.jl\", 24), (DataStructures, \"/Users/cedric/.julia/v0.6/DataStructures/src/ordered_dict.jl\", 64), (DataStructures, \"/Users/cedric/.julia/v0.6/DataStructures/src/ordered_dict.jl\", 66), (DataStructures, \"/Users/cedric/.julia/v0.6/DataStructures/src/ordered_dict.jl\", 50), (DataStructures, \"/Users/cedric/.julia/v0.6/DataStructures/src/ordered_dict.jl\", 61)])),), (), TraceCalls.Trace[], Dict{Any,Any}(Pair{Any,Any}((DataStructures, \"/Users/cedric/.julia/v0.6/DataStructures/src/ordered_dict.jl\"), 12),Pair{Any,Any}((Base, \"/Applications/Julia-0.6.app/Contents/Resources/julia/bin/../share/julia/base/sysimg.jl\"), 1),Pair{Any,Any}((DataStructures, nothing), 1)))], Dict{Any,Any}(Pair{Any,Any}((DataStructures, \"/Users/cedric/.julia/v0.6/DataStructures/src/ordered_dict.jl\"), 12),Pair{Any,Any}((Base, \"/Applications/Julia-0.6.app/Contents/Resources/julia/bin/../share/julia/base/sysimg.jl\"), 1),Pair{Any,Any}((DataStructures, nothing), 1)))], SystemError(\"opening file nothing\", 2, nothing))], SystemError(\"opening file nothing\", 2, nothing))"
      ]
     },
     "execution_count": 5,
     "metadata": {},
     "output_type": "execute_result"
    }
   ],
   "source": [
    "prune(tr, 1, 1)"
   ]
  },
  {
   "cell_type": "code",
   "execution_count": 10,
   "metadata": {},
   "outputs": [
    {
     "name": "stderr",
     "output_type": "stream",
     "text": [
      "\u001b[1m\u001b[33mWARNING: \u001b[39m\u001b[22m\u001b[33mOnly 12/3 methods of DataStructures.OrderedDict in /Users/cedric/.julia/v0.6/DataStructures/src/ordered_dict.jl were found.\u001b[39m\n",
      "\u001b[1m\u001b[33mWARNING: \u001b[39m\u001b[22m\u001b[33mOnly 0/1 methods of DataStructures.OrderedDict in /Applications/Julia-0.6.app/Contents/Resources/julia/bin/../share/julia/base/sysimg.jl were found.\u001b[39m\n"
     ]
    },
    {
     "ename": "LoadError",
     "evalue": "\u001b[91mSystemError: opening file nothing: No such file or directory\u001b[39m",
     "output_type": "error",
     "traceback": [
      "\u001b[91mSystemError: opening file nothing: No such file or directory\u001b[39m",
      "",
      "Stacktrace:",
      " [1] \u001b[1m#systemerror#44\u001b[22m\u001b[22m at \u001b[1m./error.jl:64\u001b[22m\u001b[22m [inlined]",
      " [2] \u001b[1msystemerror\u001b[22m\u001b[22m\u001b[1m(\u001b[22m\u001b[22m::String, ::Bool\u001b[1m)\u001b[22m\u001b[22m at \u001b[1m./error.jl:64\u001b[22m\u001b[22m",
      " [3] \u001b[1mopen\u001b[22m\u001b[22m\u001b[1m(\u001b[22m\u001b[22m::String, ::Bool, ::Bool, ::Bool, ::Bool, ::Bool\u001b[1m)\u001b[22m\u001b[22m at \u001b[1m./iostream.jl:104\u001b[22m\u001b[22m",
      " [4] \u001b[1mopen\u001b[22m\u001b[22m\u001b[1m(\u001b[22m\u001b[22m::Base.#readstring, ::String\u001b[1m)\u001b[22m\u001b[22m at \u001b[1m./iostream.jl:150\u001b[22m\u001b[22m",
      " [5] \u001b[1mparse_file\u001b[22m\u001b[22m\u001b[1m(\u001b[22m\u001b[22m::String\u001b[1m)\u001b[22m\u001b[22m at \u001b[1m/Users/cedric/.julia/v0.6/ClobberingReload/src/ClobberingReload.jl:23\u001b[22m\u001b[22m",
      " [6] \u001b[1mparse_file_mod\u001b[22m\u001b[22m\u001b[1m(\u001b[22m\u001b[22m::String, ::Module\u001b[1m)\u001b[22m\u001b[22m at \u001b[1m/Users/cedric/.julia/v0.6/ClobberingReload/src/code_update.jl:63\u001b[22m\u001b[22m",
      " [7] \u001b[1mupdate_code_many\u001b[22m\u001b[22m\u001b[1m(\u001b[22m\u001b[22m::ClobberingReload.##44#45{ClobberingReload.##46#47{TraceCalls.#traceable_update_handle_expr,Module,UnionAll}}, ::Module, ::String\u001b[1m)\u001b[22m\u001b[22m at \u001b[1m/Users/cedric/.julia/v0.6/ClobberingReload/src/code_update.jl:85\u001b[22m\u001b[22m",
      " [8] \u001b[1mupdate_code_revertible\u001b[22m\u001b[22m\u001b[1m(\u001b[22m\u001b[22m::Function, ::Module, ::String\u001b[1m)\u001b[22m\u001b[22m at \u001b[1m/Users/cedric/.julia/v0.6/ClobberingReload/src/code_update.jl:148\u001b[22m\u001b[22m",
      " [9] \u001b[1m(::ClobberingReload.#update#56{TraceCalls.#traceable_update_handle_expr,UnionAll})\u001b[22m\u001b[22m\u001b[1m(\u001b[22m\u001b[22m::Module, ::Void, ::Int64\u001b[1m)\u001b[22m\u001b[22m at \u001b[1m/Users/cedric/.julia/v0.6/ClobberingReload/src/code_update.jl:198\u001b[22m\u001b[22m",
      " [10] \u001b[1m(::ClobberingReload.##54#57)\u001b[22m\u001b[22m\u001b[1m(\u001b[22m\u001b[22m::Pair{Any,Any}\u001b[1m)\u001b[22m\u001b[22m at \u001b[1m./<missing>:0\u001b[22m\u001b[22m",
      " [11] \u001b[1mappend_any\u001b[22m\u001b[22m\u001b[1m(\u001b[22m\u001b[22m::Base.Generator{Dict{Any,Any},ClobberingReload.##54#57}, ::Vararg{Base.Generator{Dict{Any,Any},ClobberingReload.##54#57},N} where N\u001b[1m)\u001b[22m\u001b[22m at \u001b[1m./essentials.jl:169\u001b[22m\u001b[22m",
      " [12] \u001b[1m#update_code_revertible#52\u001b[22m\u001b[22m\u001b[1m(\u001b[22m\u001b[22m::TraceCalls.#custom_when_missing, ::Function, ::Function, ::Type{DataStructures.OrderedDict}\u001b[1m)\u001b[22m\u001b[22m at \u001b[1m/Users/cedric/.julia/v0.6/ClobberingReload/src/code_update.jl:205\u001b[22m\u001b[22m",
      " [13] \u001b[1m(::ClobberingReload.#kw##update_code_revertible)\u001b[22m\u001b[22m\u001b[1m(\u001b[22m\u001b[22m::Array{Any,1}, ::ClobberingReload.#update_code_revertible, ::Function, ::Type{DataStructures.OrderedDict}\u001b[1m)\u001b[22m\u001b[22m at \u001b[1m./<missing>:0\u001b[22m\u001b[22m",
      " [14] \u001b[1mwith_tracing_definitions\u001b[22m\u001b[22m at \u001b[1m/Users/cedric/.julia/v0.6/TraceCalls/src/TraceCalls.jl:227\u001b[22m\u001b[22m [inlined]",
      " [15] \u001b[1mtracing\u001b[22m\u001b[22m\u001b[1m(\u001b[22m\u001b[22m::##11#12, ::Type{T} where T\u001b[1m)\u001b[22m\u001b[22m at \u001b[1m/Users/cedric/.julia/v0.6/TraceCalls/src/TraceCalls.jl:244\u001b[22m\u001b[22m"
     ]
    }
   ],
   "source": [
    "@trace DataStructures.OrderedDict OrderedDict(1=>2, 3=>4)"
   ]
  },
  {
   "cell_type": "code",
   "execution_count": 3,
   "metadata": {},
   "outputs": [
    {
     "data": {
      "text/html": [
       "<pre><a href=\"https://github.com/cstjean/TraceCalls.jl/tree/5df93d531045a8473622df291eef21314f4f46d4//src/TraceCalls.jl#L247\" target=\"_blank\" style=\"color: black; text-decoration: none; border-bottom: 1px #C3C3C3 dotted\">TraceCalls.#16</a>() => <b><font color=green>3.141592653589793</font></b></pre><ul><li><pre><a href=\"https://github.com/JuliaPy/PyCall.jl/tree/f863d82b34969017432be784954029575b2e3e61//src/PyCall.jl#L374\" target=\"_blank\" style=\"color: black; text-decoration: none; border-bottom: 1px #C3C3C3 dotted\">PyCall.pyimport</a>(:math) => <b><font color=green>PyObject <module 'math' from '/Users/cedric/.julia/v0.6/Conda/deps/usr/lib/python2.7/lib-dynload/math.so'></font></b></pre><ul><li><pre><a href=\"https://github.com/JuliaPy/PyCall.jl/tree/f863d82b34969017432be784954029575b2e3e61//src/PyCall.jl#L368\" target=\"_blank\" style=\"color: black; text-decoration: none; border-bottom: 1px #C3C3C3 dotted\">PyCall.pyimport</a>(\"math\") => <b><font color=green>PyObject <module 'math' from '/Users/cedric/.julia/v0.6/Conda/deps/usr/lib/python2.7/lib-dynload/math.so'></font></b></pre><ul></ul></li></ul></li><li><pre><a href=\"https://github.com/JuliaPy/PyCall.jl/tree/f863d82b34969017432be784954029575b2e3e61//src/PyCall.jl#L248\" target=\"_blank\" style=\"color: black; text-decoration: none; border-bottom: 1px #C3C3C3 dotted\">getindex</a>(PyObject <module 'math' from '/Users/cedric/.julia/v0.6/Conda/deps/usr/lib/python2.7/lib-dynload/math.so'>, :pi) => <b><font color=green>3.141592653589793</font></b></pre><ul><li><pre><a href=\"https://github.com/JuliaPy/PyCall.jl/tree/f863d82b34969017432be784954029575b2e3e61//src/PyCall.jl#L237\" target=\"_blank\" style=\"color: black; text-decoration: none; border-bottom: 1px #C3C3C3 dotted\">getindex</a>(PyObject <module 'math' from '/Users/cedric/.julia/v0.6/Conda/deps/usr/lib/python2.7/lib-dynload/math.so'>, \"pi\") => <b><font color=green>PyObject 3.141592653589793</font></b></pre><ul><li><pre><a href=\"https://github.com/JuliaPy/PyCall.jl/tree/f863d82b34969017432be784954029575b2e3e61//src/PyCall.jl#L141\" target=\"_blank\" style=\"color: black; text-decoration: none; border-bottom: 1px #C3C3C3 dotted\">Base.unsafe_convert</a>(Ptr{PyCall.PyObject_struct}, PyObject <module 'math' from '/Users/cedric/.julia/v0.6/Conda/deps/usr/lib/python2.7/lib-dynload/math.so'>) => <b><font color=green>Ptr{PyCall.PyObject_struct} @0x00000001236c18a0</font></b></pre><ul></ul></li></ul></li><li><pre><a href=\"https://github.com/JuliaPy/PyCall.jl/tree/f863d82b34969017432be784954029575b2e3e61//src/conversions.jl#L3\" target=\"_blank\" style=\"color: black; text-decoration: none; border-bottom: 1px #C3C3C3 dotted\">convert</a>(PyCall.PyAny, PyObject 3.141592653589793) => <b><font color=green>3.141592653589793</font></b></pre><ul><li><pre><a href=\"https://github.com/JuliaPy/PyCall.jl/tree/f863d82b34969017432be784954029575b2e3e61//src/conversions.jl#L11\" target=\"_blank\" style=\"color: black; text-decoration: none; border-bottom: 1px #C3C3C3 dotted\">PyCall.pytype_query</a>(PyObject 3.141592653589793, PyCall.PyObject) => <b><font color=green>Float64</font></b></pre><ul><li><pre><a href=\"https://github.com/JuliaPy/PyCall.jl/tree/f863d82b34969017432be784954029575b2e3e61//src/conversions.jl#L15\" target=\"_blank\" style=\"color: black; text-decoration: none; border-bottom: 1px #C3C3C3 dotted\">PyCall.pyint_query</a>(PyObject 3.141592653589793) => <b><font color=green>Union{}</font></b></pre><ul><li><pre><a href=\"https://github.com/JuliaPy/PyCall.jl/tree/f863d82b34969017432be784954029575b2e3e61//src/PyCall.jl#L134\" target=\"_blank\" style=\"color: black; text-decoration: none; border-bottom: 1px #C3C3C3 dotted\">PyCall.pyisinstance</a>(PyObject 3.141592653589793, Ptr{PyCall.PyObject_struct} @0x0000000123495c98) => <b><font color=green>false</font></b></pre><ul><li><pre><a href=\"https://github.com/JuliaPy/PyCall.jl/tree/f863d82b34969017432be784954029575b2e3e61//src/PyCall.jl#L141\" target=\"_blank\" style=\"color: black; text-decoration: none; border-bottom: 1px #C3C3C3 dotted\">Base.unsafe_convert</a>(Ptr{PyCall.PyObject_struct}, PyObject 3.141592653589793) => <b><font color=green>Ptr{PyCall.PyObject_struct} @0x00007faa8e926000</font></b></pre><ul></ul></li></ul></li><li><pre><a href=\"https://github.com/JuliaPy/PyCall.jl/tree/f863d82b34969017432be784954029575b2e3e61//src/PyCall.jl#L134\" target=\"_blank\" style=\"color: black; text-decoration: none; border-bottom: 1px #C3C3C3 dotted\">PyCall.pyisinstance</a>(PyObject 3.141592653589793, Ptr{PyCall.PyObject_struct} @0x0000000123497aa8) => <b><font color=green>false</font></b></pre><ul><li><pre><a href=\"https://github.com/JuliaPy/PyCall.jl/tree/f863d82b34969017432be784954029575b2e3e61//src/PyCall.jl#L141\" target=\"_blank\" style=\"color: black; text-decoration: none; border-bottom: 1px #C3C3C3 dotted\">Base.unsafe_convert</a>(Ptr{PyCall.PyObject_struct}, PyObject 3.141592653589793) => <b><font color=green>Ptr{PyCall.PyObject_struct} @0x00007faa8e926000</font></b></pre><ul></ul></li></ul></li><li><pre><a href=\"https://github.com/JuliaPy/PyCall.jl/tree/f863d82b34969017432be784954029575b2e3e61//src/PyCall.jl#L131\" target=\"_blank\" style=\"color: black; text-decoration: none; border-bottom: 1px #C3C3C3 dotted\">PyCall.pyisinstance</a>(PyObject 3.141592653589793, PyObject NULL) => <b><font color=green>false</font></b></pre><ul></ul></li></ul></li><li><pre><a href=\"https://github.com/JuliaPy/PyCall.jl/tree/f863d82b34969017432be784954029575b2e3e61//src/PyCall.jl#L131\" target=\"_blank\" style=\"color: black; text-decoration: none; border-bottom: 1px #C3C3C3 dotted\">PyCall.pyisinstance</a>(PyObject 3.141592653589793, PyObject NULL) => <b><font color=green>false</font></b></pre><ul></ul></li><li><pre><a href=\"https://github.com/JuliaPy/PyCall.jl/tree/f863d82b34969017432be784954029575b2e3e61//src/conversions.jl#L2\" target=\"_blank\" style=\"color: black; text-decoration: none; border-bottom: 1px #C3C3C3 dotted\">PyCall.pyfloat_query</a>(PyObject 3.141592653589793) => <b><font color=green>Float64</font></b></pre><ul><li><pre><a href=\"https://github.com/JuliaPy/PyCall.jl/tree/f863d82b34969017432be784954029575b2e3e61//src/PyCall.jl#L134\" target=\"_blank\" style=\"color: black; text-decoration: none; border-bottom: 1px #C3C3C3 dotted\">PyCall.pyisinstance</a>(PyObject 3.141592653589793, Ptr{PyCall.PyObject_struct} @0x0000000123493998) => <b><font color=green>true</font></b></pre><ul><li><pre><a href=\"https://github.com/JuliaPy/PyCall.jl/tree/f863d82b34969017432be784954029575b2e3e61//src/PyCall.jl#L141\" target=\"_blank\" style=\"color: black; text-decoration: none; border-bottom: 1px #C3C3C3 dotted\">Base.unsafe_convert</a>(Ptr{PyCall.PyObject_struct}, PyObject 3.141592653589793) => <b><font color=green>Ptr{PyCall.PyObject_struct} @0x00007faa8e926000</font></b></pre><ul></ul></li></ul></li></ul></li></ul></li><li><pre><a href=\"https://github.com/JuliaPy/PyCall.jl/tree/f863d82b34969017432be784954029575b2e3e61//src/conversions.jl#L2\" target=\"_blank\" style=\"color: black; text-decoration: none; border-bottom: 1px #C3C3C3 dotted\">convert</a>(Float64, PyObject 3.141592653589793) => <b><font color=green>3.141592653589793</font></b></pre><ul><li><pre><a href=\"https://github.com/JuliaPy/PyCall.jl/tree/f863d82b34969017432be784954029575b2e3e61//src/conversions.jl#L6\" target=\"_blank\" style=\"color: black; text-decoration: none; border-bottom: 1px #C3C3C3 dotted\">PyCall.asscalar</a>(PyObject 3.141592653589793) => <b><font color=green>PyObject 3.141592653589793</font></b></pre><ul><li><pre><a href=\"https://github.com/JuliaPy/PyCall.jl/tree/f863d82b34969017432be784954029575b2e3e61//src/PyCall.jl#L131\" target=\"_blank\" style=\"color: black; text-decoration: none; border-bottom: 1px #C3C3C3 dotted\">PyCall.pyisinstance</a>(PyObject 3.141592653589793, PyObject NULL) => <b><font color=green>false</font></b></pre><ul></ul></li></ul></li><li><pre><a href=\"https://github.com/JuliaPy/PyCall.jl/tree/f863d82b34969017432be784954029575b2e3e61//src/PyCall.jl#L141\" target=\"_blank\" style=\"color: black; text-decoration: none; border-bottom: 1px #C3C3C3 dotted\">Base.unsafe_convert</a>(Ptr{PyCall.PyObject_struct}, PyObject 3.141592653589793) => <b><font color=green>Ptr{PyCall.PyObject_struct} @0x00007faa8e926000</font></b></pre><ul></ul></li><li><pre><a href=\"https://github.com/JuliaPy/PyCall.jl/tree/f863d82b34969017432be784954029575b2e3e61//src/exception.jl#L3\" target=\"_blank\" style=\"color: black; text-decoration: none; border-bottom: 1px #C3C3C3 dotted\">PyCall.pyerr_check</a>(\"ccall(@pysym(:PyFloat_AsDouble), Cdouble, (PyPtr,), asscalar(po))\", 3.141592653589793) => <b><font color=green>3.141592653589793</font></b></pre><ul></ul></li></ul></li></ul></li></ul></li></ul>"
      ],
      "text/plain": [
       "TraceCalls.Trace(TraceCalls.#16, (), (), TraceCalls.Trace[TraceCalls.Trace(PyCall.pyimport, (:math,), (), TraceCalls.Trace[TraceCalls.Trace(PyCall.pyimport, (\"math\",), (), TraceCalls.Trace[], PyObject <module 'math' from '/Users/cedric/.julia/v0.6/Conda/deps/usr/lib/python2.7/lib-dynload/math.so'>)], PyObject <module 'math' from '/Users/cedric/.julia/v0.6/Conda/deps/usr/lib/python2.7/lib-dynload/math.so'>), TraceCalls.Trace(getindex, (PyObject <module 'math' from '/Users/cedric/.julia/v0.6/Conda/deps/usr/lib/python2.7/lib-dynload/math.so'>, :pi), (), TraceCalls.Trace[TraceCalls.Trace(getindex, (PyObject <module 'math' from '/Users/cedric/.julia/v0.6/Conda/deps/usr/lib/python2.7/lib-dynload/math.so'>, \"pi\"), (), TraceCalls.Trace[TraceCalls.Trace(Base.unsafe_convert, (Ptr{PyCall.PyObject_struct}, PyObject <module 'math' from '/Users/cedric/.julia/v0.6/Conda/deps/usr/lib/python2.7/lib-dynload/math.so'>), (), TraceCalls.Trace[], Ptr{PyCall.PyObject_struct} @0x00000001236c18a0)], PyObject 3.141592653589793), TraceCalls.Trace(convert, (PyCall.PyAny, PyObject 3.141592653589793), (), TraceCalls.Trace[TraceCalls.Trace(PyCall.pytype_query, (PyObject 3.141592653589793, PyCall.PyObject), (), TraceCalls.Trace[TraceCalls.Trace(PyCall.pyint_query, (PyObject 3.141592653589793,), (), TraceCalls.Trace[TraceCalls.Trace(PyCall.pyisinstance, (PyObject 3.141592653589793, Ptr{PyCall.PyObject_struct} @0x0000000123495c98), (), TraceCalls.Trace[TraceCalls.Trace(Base.unsafe_convert, (Ptr{PyCall.PyObject_struct}, PyObject 3.141592653589793), (), TraceCalls.Trace[], Ptr{PyCall.PyObject_struct} @0x00007faa8e926000)], false), TraceCalls.Trace(PyCall.pyisinstance, (PyObject 3.141592653589793, Ptr{PyCall.PyObject_struct} @0x0000000123497aa8), (), TraceCalls.Trace[TraceCalls.Trace(Base.unsafe_convert, (Ptr{PyCall.PyObject_struct}, PyObject 3.141592653589793), (), TraceCalls.Trace[], Ptr{PyCall.PyObject_struct} @0x00007faa8e926000)], false), TraceCalls.Trace(PyCall.pyisinstance, (PyObject 3.141592653589793, PyObject NULL), (), TraceCalls.Trace[], false)], Union{}), TraceCalls.Trace(PyCall.pyisinstance, (PyObject 3.141592653589793, PyObject NULL), (), TraceCalls.Trace[], false), TraceCalls.Trace(PyCall.pyfloat_query, (PyObject 3.141592653589793,), (), TraceCalls.Trace[TraceCalls.Trace(PyCall.pyisinstance, (PyObject 3.141592653589793, Ptr{PyCall.PyObject_struct} @0x0000000123493998), (), TraceCalls.Trace[TraceCalls.Trace(Base.unsafe_convert, (Ptr{PyCall.PyObject_struct}, PyObject 3.141592653589793), (), TraceCalls.Trace[], Ptr{PyCall.PyObject_struct} @0x00007faa8e926000)], true)], Float64)], Float64), TraceCalls.Trace(convert, (Float64, PyObject 3.141592653589793), (), TraceCalls.Trace[TraceCalls.Trace(PyCall.asscalar, (PyObject 3.141592653589793,), (), TraceCalls.Trace[TraceCalls.Trace(PyCall.pyisinstance, (PyObject 3.141592653589793, PyObject NULL), (), TraceCalls.Trace[], false)], PyObject 3.141592653589793), TraceCalls.Trace(Base.unsafe_convert, (Ptr{PyCall.PyObject_struct}, PyObject 3.141592653589793), (), TraceCalls.Trace[], Ptr{PyCall.PyObject_struct} @0x00007faa8e926000), TraceCalls.Trace(PyCall.pyerr_check, (\"ccall(@pysym(:PyFloat_AsDouble), Cdouble, (PyPtr,), asscalar(po))\", 3.14159), (), TraceCalls.Trace[], 3.14159)], 3.14159)], 3.14159)], 3.14159)], 3.141592653589793)"
      ]
     },
     "execution_count": 3,
     "metadata": {},
     "output_type": "execute_result"
    }
   ],
   "source": [
    "@trace PyCall pyimport(:math)[:pi]"
   ]
  }
 ],
 "metadata": {
  "kernelspec": {
   "display_name": "Julia 0.6.0-pre.beta",
   "language": "julia",
   "name": "julia-0.6"
  },
  "language_info": {
   "file_extension": ".jl",
   "mimetype": "application/julia",
   "name": "julia",
   "version": "0.6.0"
  }
 },
 "nbformat": 4,
 "nbformat_minor": 2
}
