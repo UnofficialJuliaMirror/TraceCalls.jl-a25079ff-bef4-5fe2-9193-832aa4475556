{
 "cells": [
  {
   "cell_type": "markdown",
   "metadata": {},
   "source": [
    "# Overview"
   ]
  },
  {
   "cell_type": "markdown",
   "metadata": {},
   "source": [
    "TraceCalls.jl is a functional tracing package, for debugging and exploring Julia code. It records and displays a tree of function calls. For example, here is how [Calculus.jl](https://github.com/johnmyleswhite/Calculus.jl) computes the second-derivative:"
   ]
  },
  {
   "cell_type": "code",
   "execution_count": 1,
   "metadata": {},
   "outputs": [
    {
     "name": "stderr",
     "output_type": "stream",
     "text": [
      "\u001b[1m\u001b[36mINFO: \u001b[39m\u001b[22m\u001b[36mRecompiling stale cache file /Users/cedric/.julia/lib/v0.6/TraceCalls.ji for module TraceCalls.\n",
      "\u001b[39m"
     ]
    },
    {
     "data": {
      "text/html": [
       "<pre><a href=\"https://github.com/cstjean/TraceCalls.jl/tree/821ae1f057967a37ce7c6b082fa44ef47e8c9152//src/TraceCalls.jl#L267\" target=\"_blank\" style=\"color: black; text-decoration: none; border-bottom: 1px #C3C3C3 dotted\">#1</a>() => <b><font color=green>-1.0914708926553454</font></b></pre><ul><li><pre><a href=\"https://github.com/johnmyleswhite/Calculus.jl/tree/f7b5556a9ebd0cdde45f15d1b2cde331fe5efdd4//src/derivative.jl#L2\" target=\"_blank\" style=\"color: black; text-decoration: none; border-bottom: 1px #C3C3C3 dotted\">Calculus.second_derivative</a>(f, 1.0) => <b><font color=green>-1.0914708926553454</font></b></pre><ul><li><pre><a href=\"https://github.com/johnmyleswhite/Calculus.jl/tree/f7b5556a9ebd0cdde45f15d1b2cde331fe5efdd4//src/derivative.jl#L1\" target=\"_blank\" style=\"color: black; text-decoration: none; border-bottom: 1px #C3C3C3 dotted\">Calculus.derivative</a>(f, :central) => <b><font color=green>Calculus.#25</font></b></pre><ul><li><pre><a href=\"https://github.com/johnmyleswhite/Calculus.jl/tree/f7b5556a9ebd0cdde45f15d1b2cde331fe5efdd4//src/derivative.jl#L2\" target=\"_blank\" style=\"color: black; text-decoration: none; border-bottom: 1px #C3C3C3 dotted\">Calculus.derivative</a>(f, :scalar, :central) => <b><font color=green>Calculus.#25</font></b></pre><ul></ul></li></ul></li><li><pre><a href=\"https://github.com/johnmyleswhite/Calculus.jl/tree/f7b5556a9ebd0cdde45f15d1b2cde331fe5efdd4//src/finite_difference.jl#L5\" target=\"_blank\" style=\"color: black; text-decoration: none; border-bottom: 1px #C3C3C3 dotted\">Calculus.finite_difference_hessian</a>(f, Calculus.#25, 1.0, :central) => <b><font color=green>-1.0914708926553454</font></b></pre><ul><li><pre><a href=\"https://github.com/johnmyleswhite/Calculus.jl/tree/f7b5556a9ebd0cdde45f15d1b2cde331fe5efdd4//src/finite_difference.jl#L5\" target=\"_blank\" style=\"color: black; text-decoration: none; border-bottom: 1px #C3C3C3 dotted\">Calculus.finite_difference</a>(Calculus.#25, 1.0, :central) => <b><font color=green>-1.0914708926553454</font></b></pre><ul><li><pre><a href=\"https://github.com/johnmyleswhite/Calculus.jl/tree/f7b5556a9ebd0cdde45f15d1b2cde331fe5efdd4//src/finite_difference.jl#L5\" target=\"_blank\" style=\"color: black; text-decoration: none; border-bottom: 1px #C3C3C3 dotted\">Calculus.finite_difference</a>(f, 1.0000060554544523, :central) => <b><font color=green>1.0402956965076036</font></b></pre><ul><li><pre>f(1.0000121109455733) => <b><font color=green>1.8414835837724568</font></b></pre><ul></ul></li><li><pre>f(0.9999999999633314) => <b><font color=green>1.8414709847697501</font></b></pre><ul></ul></li></ul></li><li><pre><a href=\"https://github.com/johnmyleswhite/Calculus.jl/tree/f7b5556a9ebd0cdde45f15d1b2cde331fe5efdd4//src/finite_difference.jl#L5\" target=\"_blank\" style=\"color: black; text-decoration: none; border-bottom: 1px #C3C3C3 dotted\">Calculus.finite_difference</a>(f, 0.9999939445455476, :central) => <b><font color=green>1.0403089152121567</font></b></pre><ul><li><pre>f(1.0) => <b><font color=green>1.8414709848078965</font></b></pre><ul></ul></li><li><pre>f(0.9999878890910952) => <b><font color=green>1.8414583857213915</font></b></pre><ul></ul></li></ul></li></ul></li></ul></li></ul></li></ul>"
      ],
      "text/plain": [
       "TraceCalls.Trace(#1, (), (), TraceCalls.Trace[TraceCalls.Trace(Calculus.second_derivative, (f, 1.0), (), TraceCalls.Trace[TraceCalls.Trace(Calculus.derivative, (f, :central), (), TraceCalls.Trace[TraceCalls.Trace(Calculus.derivative, (f, :scalar, :central), (), TraceCalls.Trace[], Calculus.#25)], Calculus.#25), TraceCalls.Trace(Calculus.finite_difference_hessian, (f, Calculus.#25, 1.0, :central), (), TraceCalls.Trace[TraceCalls.Trace(Calculus.finite_difference, (Calculus.#25, 1.0, :central), (), TraceCalls.Trace[TraceCalls.Trace(Calculus.finite_difference, (f, 1.00001, :central), (), TraceCalls.Trace[TraceCalls.Trace(f, (1.00001,), (), TraceCalls.Trace[], 1.84148), TraceCalls.Trace(f, (1.0,), (), TraceCalls.Trace[], 1.84147)], 1.0403), TraceCalls.Trace(Calculus.finite_difference, (f, 0.999994, :central), (), TraceCalls.Trace[TraceCalls.Trace(f, (1.0,), (), TraceCalls.Trace[], 1.84147), TraceCalls.Trace(f, (0.999988,), (), TraceCalls.Trace[], 1.84146)], 1.04031)], -1.09147)], -1.09147)], -1.09147)], -1.0914708926553454)"
      ]
     },
     "execution_count": 1,
     "metadata": {},
     "output_type": "execute_result"
    }
   ],
   "source": [
    "using Calculus, TraceCalls\n",
    "\n",
    "@traceable f(x) = sin(x) + sqrt(x)\n",
    "trace_derivative = @trace Calculus second_derivative(f, 1.0)"
   ]
  },
  {
   "cell_type": "markdown",
   "metadata": {},
   "source": [
    "The output of `@trace` is a `Trace` object --- an explorable tree-like datastructure:"
   ]
  },
  {
   "cell_type": "code",
   "execution_count": 2,
   "metadata": {},
   "outputs": [
    {
     "data": {
      "text/html": [
       "<pre><a href=\"https://github.com/johnmyleswhite/Calculus.jl/tree/f7b5556a9ebd0cdde45f15d1b2cde331fe5efdd4//src/derivative.jl#L1\" target=\"_blank\" style=\"color: black; text-decoration: none; border-bottom: 1px #C3C3C3 dotted\">Calculus.derivative</a>(f, :central) => <b><font color=green>Calculus.#25</font></b></pre><ul><li><pre><a href=\"https://github.com/johnmyleswhite/Calculus.jl/tree/f7b5556a9ebd0cdde45f15d1b2cde331fe5efdd4//src/derivative.jl#L2\" target=\"_blank\" style=\"color: black; text-decoration: none; border-bottom: 1px #C3C3C3 dotted\">Calculus.derivative</a>(f, :scalar, :central) => <b><font color=green>Calculus.#25</font></b></pre><ul></ul></li></ul>"
      ],
      "text/plain": [
       "TraceCalls.Trace(Calculus.derivative, (f, :central), (), TraceCalls.Trace[TraceCalls.Trace(Calculus.derivative, (f, :scalar, :central), (), TraceCalls.Trace[], Calculus.#25)], Calculus.#25)"
      ]
     },
     "execution_count": 2,
     "metadata": {},
     "output_type": "execute_result"
    }
   ],
   "source": [
    "trace_derivative[1][1]          # get the first call of the first call. Can also be written `trace_derivative[1, 1]`"
   ]
  },
  {
   "cell_type": "code",
   "execution_count": 3,
   "metadata": {},
   "outputs": [
    {
     "data": {
      "text/plain": [
       ":central"
      ]
     },
     "execution_count": 3,
     "metadata": {},
     "output_type": "execute_result"
    }
   ],
   "source": [
    "trace_derivative[1][1].args[2]  # get its second argument"
   ]
  },
  {
   "cell_type": "markdown",
   "metadata": {},
   "source": [
    "It can work as a more-informative stack-trace (which contains _values_ rather than just types - see `@stacktrace` below):"
   ]
  },
  {
   "cell_type": "code",
   "execution_count": 4,
   "metadata": {},
   "outputs": [
    {
     "data": {
      "text/html": [
       "<pre><a href=\"https://github.com/cstjean/TraceCalls.jl/tree/821ae1f057967a37ce7c6b082fa44ef47e8c9152//src/TraceCalls.jl#L267\" target=\"_blank\" style=\"color: black; text-decoration: none; border-bottom: 1px #C3C3C3 dotted\">#3</a>() => <font color=red>DomainError()</font></pre><ul><li><pre><a href=\"https://github.com/johnmyleswhite/Calculus.jl/tree/f7b5556a9ebd0cdde45f15d1b2cde331fe5efdd4//src/derivative.jl#L2\" target=\"_blank\" style=\"color: black; text-decoration: none; border-bottom: 1px #C3C3C3 dotted\">Calculus.second_derivative</a>(f, 0.0) => <font color=red>DomainError()</font></pre><ul><li><pre><a href=\"https://github.com/johnmyleswhite/Calculus.jl/tree/f7b5556a9ebd0cdde45f15d1b2cde331fe5efdd4//src/finite_difference.jl#L5\" target=\"_blank\" style=\"color: black; text-decoration: none; border-bottom: 1px #C3C3C3 dotted\">Calculus.finite_difference_hessian</a>(f, Calculus.#63, 0.0, :central) => <font color=red>DomainError()</font></pre><ul><li><pre><a href=\"https://github.com/johnmyleswhite/Calculus.jl/tree/f7b5556a9ebd0cdde45f15d1b2cde331fe5efdd4//src/finite_difference.jl#L5\" target=\"_blank\" style=\"color: black; text-decoration: none; border-bottom: 1px #C3C3C3 dotted\">Calculus.finite_difference</a>(Calculus.#63, 0.0, :central) => <font color=red>DomainError()</font></pre><ul><li><pre><a href=\"https://github.com/johnmyleswhite/Calculus.jl/tree/f7b5556a9ebd0cdde45f15d1b2cde331fe5efdd4//src/finite_difference.jl#L5\" target=\"_blank\" style=\"color: black; text-decoration: none; border-bottom: 1px #C3C3C3 dotted\">Calculus.finite_difference</a>(f, -6.0554544523933395e-6, :central) => <font color=red>DomainError()</font></pre><ul><li><pre>f(-1.2110908904786679e-5) => <font color=red>DomainError()</font></pre><ul></ul></li></ul></li></ul></li></ul></li></ul></li></ul>"
      ],
      "text/plain": [
       "TraceCalls.Trace(#3, (), (), TraceCalls.Trace[TraceCalls.Trace(Calculus.second_derivative, (f, 0.0), (), TraceCalls.Trace[TraceCalls.Trace(Calculus.finite_difference_hessian, (f, Calculus.#63, 0.0, :central), (), TraceCalls.Trace[TraceCalls.Trace(Calculus.finite_difference, (Calculus.#63, 0.0, :central), (), TraceCalls.Trace[TraceCalls.Trace(Calculus.finite_difference, (f, -6.05545e-6, :central), (), TraceCalls.Trace[TraceCalls.Trace(f, (-1.21109e-5,), (), TraceCalls.Trace[], DomainError())], DomainError())], DomainError())], DomainError())], DomainError())], DomainError())"
      ]
     },
     "execution_count": 4,
     "metadata": {},
     "output_type": "execute_result"
    }
   ],
   "source": [
    "@stacktrace Calculus second_derivative(f, 0.0)"
   ]
  },
  {
   "cell_type": "code",
   "execution_count": 5,
   "metadata": {},
   "outputs": [
    {
     "data": {
      "text/html": [
       "<pre><a href=\"https://github.com/cstjean/TraceCalls.jl/tree/821ae1f057967a37ce7c6b082fa44ef47e8c9152//src/TraceCalls.jl#L267\" target=\"_blank\" style=\"color: black; text-decoration: none; border-bottom: 1px #C3C3C3 dotted\">#5</a>() => <font color=red>DomainError()</font></pre><ul><li><pre><a href=\"https://github.com/johnmyleswhite/Calculus.jl/tree/f7b5556a9ebd0cdde45f15d1b2cde331fe5efdd4//src/derivative.jl#L2\" target=\"_blank\" style=\"color: black; text-decoration: none; border-bottom: 1px #C3C3C3 dotted\">Calculus.second_derivative</a>(f, 0.0) => <font color=red>DomainError()</font></pre><ul><li><pre><a href=\"https://github.com/johnmyleswhite/Calculus.jl/tree/f7b5556a9ebd0cdde45f15d1b2cde331fe5efdd4//src/derivative.jl#L1\" target=\"_blank\" style=\"color: black; text-decoration: none; border-bottom: 1px #C3C3C3 dotted\">Calculus.derivative</a>(f, :central) => <b><font color=green>Calculus.#101</font></b></pre><ul><li><pre><a href=\"https://github.com/johnmyleswhite/Calculus.jl/tree/f7b5556a9ebd0cdde45f15d1b2cde331fe5efdd4//src/derivative.jl#L2\" target=\"_blank\" style=\"color: black; text-decoration: none; border-bottom: 1px #C3C3C3 dotted\">Calculus.derivative</a>(f, :scalar, :central) => <b><font color=green>Calculus.#101</font></b></pre><ul></ul></li></ul></li><li><pre><a href=\"https://github.com/johnmyleswhite/Calculus.jl/tree/f7b5556a9ebd0cdde45f15d1b2cde331fe5efdd4//src/finite_difference.jl#L5\" target=\"_blank\" style=\"color: black; text-decoration: none; border-bottom: 1px #C3C3C3 dotted\">Calculus.finite_difference_hessian</a>(f, Calculus.#101, 0.0, :central) => <font color=red>DomainError()</font></pre><ul><li><pre><a href=\"https://github.com/johnmyleswhite/Calculus.jl/tree/f7b5556a9ebd0cdde45f15d1b2cde331fe5efdd4//src/finite_difference.jl#L5\" target=\"_blank\" style=\"color: black; text-decoration: none; border-bottom: 1px #C3C3C3 dotted\">Calculus.finite_difference</a>(Calculus.#101, 0.0, :central) => <font color=red>DomainError()</font></pre><ul><li><pre><a href=\"https://github.com/johnmyleswhite/Calculus.jl/tree/f7b5556a9ebd0cdde45f15d1b2cde331fe5efdd4//src/finite_difference.jl#L5\" target=\"_blank\" style=\"color: black; text-decoration: none; border-bottom: 1px #C3C3C3 dotted\">Calculus.finite_difference</a>(f, 6.0554544523933395e-6, :central) => <b><font color=green>288.35028436717505</font></b></pre><ul><li><pre>f(1.2110908904786679e-5) => <b><font color=green>0.0034921840266401915</font></b></pre><ul></ul></li><li><pre>f(0.0) => <b><font color=green>0.0</font></b></pre><ul></ul></li></ul></li><li><pre><a href=\"https://github.com/johnmyleswhite/Calculus.jl/tree/f7b5556a9ebd0cdde45f15d1b2cde331fe5efdd4//src/finite_difference.jl#L5\" target=\"_blank\" style=\"color: black; text-decoration: none; border-bottom: 1px #C3C3C3 dotted\">Calculus.finite_difference</a>(f, -6.0554544523933395e-6, :central) => <font color=red>DomainError()</font></pre><ul><li><pre>f(0.0) => <b><font color=green>0.0</font></b></pre><ul></ul></li><li><pre>f(-1.2110908904786679e-5) => <font color=red>DomainError()</font></pre><ul></ul></li></ul></li></ul></li></ul></li></ul></li></ul>"
      ],
      "text/plain": [
       "TraceCalls.Trace(#5, (), (), TraceCalls.Trace[TraceCalls.Trace(Calculus.second_derivative, (f, 0.0), (), TraceCalls.Trace[TraceCalls.Trace(Calculus.derivative, (f, :central), (), TraceCalls.Trace[TraceCalls.Trace(Calculus.derivative, (f, :scalar, :central), (), TraceCalls.Trace[], Calculus.#101)], Calculus.#101), TraceCalls.Trace(Calculus.finite_difference_hessian, (f, Calculus.#101, 0.0, :central), (), TraceCalls.Trace[TraceCalls.Trace(Calculus.finite_difference, (Calculus.#101, 0.0, :central), (), TraceCalls.Trace[TraceCalls.Trace(Calculus.finite_difference, (f, 6.05545e-6, :central), (), TraceCalls.Trace[TraceCalls.Trace(f, (1.21109e-5,), (), TraceCalls.Trace[], 0.00349218), TraceCalls.Trace(f, (0.0,), (), TraceCalls.Trace[], 0.0)], 288.35), TraceCalls.Trace(Calculus.finite_difference, (f, -6.05545e-6, :central), (), TraceCalls.Trace[TraceCalls.Trace(f, (0.0,), (), TraceCalls.Trace[], 0.0), TraceCalls.Trace(f, (-1.21109e-5,), (), TraceCalls.Trace[], DomainError())], DomainError())], DomainError())], DomainError())], DomainError())], DomainError())"
      ]
     },
     "execution_count": 5,
     "metadata": {},
     "output_type": "execute_result"
    }
   ],
   "source": [
    "@trace Calculus second_derivative(f, 0.0)"
   ]
  },
  {
   "cell_type": "markdown",
   "metadata": {},
   "source": [
    "And finally, since full call data is recorded, we can rerun every part of the trace for profiling, debugging, or testing."
   ]
  },
  {
   "cell_type": "code",
   "execution_count": 6,
   "metadata": {},
   "outputs": [
    {
     "data": {
      "text/html": [
       "<pre><a href=\"https://github.com/cstjean/TraceCalls.jl/tree/821ae1f057967a37ce7c6b082fa44ef47e8c9152//src/TraceCalls.jl#L267\" target=\"_blank\" style=\"color: black; text-decoration: none; border-bottom: 1px #C3C3C3 dotted\">#1</a>() => <b><font color=green><font color=ff0000>256</font></font></b></pre><ul><li><pre><a href=\"https://github.com/johnmyleswhite/Calculus.jl/tree/f7b5556a9ebd0cdde45f15d1b2cde331fe5efdd4//src/derivative.jl#L2\" target=\"_blank\" style=\"color: black; text-decoration: none; border-bottom: 1px #C3C3C3 dotted\">Calculus.second_derivative</a>(f, 1.0) => <b><font color=green><font color=ff0000>419023</font></font></b></pre><ul><li><pre><a href=\"https://github.com/johnmyleswhite/Calculus.jl/tree/f7b5556a9ebd0cdde45f15d1b2cde331fe5efdd4//src/derivative.jl#L1\" target=\"_blank\" style=\"color: black; text-decoration: none; border-bottom: 1px #C3C3C3 dotted\">Calculus.derivative</a>(f, :central) => <b><font color=green><font color=ff0000>208</font></font></b></pre><ul><li><pre><a href=\"https://github.com/johnmyleswhite/Calculus.jl/tree/f7b5556a9ebd0cdde45f15d1b2cde331fe5efdd4//src/derivative.jl#L2\" target=\"_blank\" style=\"color: black; text-decoration: none; border-bottom: 1px #C3C3C3 dotted\">Calculus.derivative</a>(f, :scalar, :central) => <b><font color=green><font color=ff0000>42200</font></font></b></pre><ul></ul></li></ul></li><li><pre><a href=\"https://github.com/johnmyleswhite/Calculus.jl/tree/f7b5556a9ebd0cdde45f15d1b2cde331fe5efdd4//src/finite_difference.jl#L5\" target=\"_blank\" style=\"color: black; text-decoration: none; border-bottom: 1px #C3C3C3 dotted\">Calculus.finite_difference_hessian</a>(f, Calculus.#25, 1.0, :central) => <b><font color=green><font color=ff0000>16</font></font></b></pre><ul><li><pre><a href=\"https://github.com/johnmyleswhite/Calculus.jl/tree/f7b5556a9ebd0cdde45f15d1b2cde331fe5efdd4//src/finite_difference.jl#L5\" target=\"_blank\" style=\"color: black; text-decoration: none; border-bottom: 1px #C3C3C3 dotted\">Calculus.finite_difference</a>(Calculus.#25, 1.0, :central) => <b><font color=green><font color=ff0000>16</font></font></b></pre><ul><li><pre><a href=\"https://github.com/johnmyleswhite/Calculus.jl/tree/f7b5556a9ebd0cdde45f15d1b2cde331fe5efdd4//src/finite_difference.jl#L5\" target=\"_blank\" style=\"color: black; text-decoration: none; border-bottom: 1px #C3C3C3 dotted\">Calculus.finite_difference</a>(f, 1.0000060554544523, :central) => <b><font color=green><font color=00ff00>0</font></font></b></pre><ul><li><pre>f(1.0000121109455733) => <b><font color=green><font color=00ff00>0</font></font></b></pre><ul></ul></li><li><pre>f(0.9999999999633314) => <b><font color=green><font color=00ff00>0</font></font></b></pre><ul></ul></li></ul></li><li><pre><a href=\"https://github.com/johnmyleswhite/Calculus.jl/tree/f7b5556a9ebd0cdde45f15d1b2cde331fe5efdd4//src/finite_difference.jl#L5\" target=\"_blank\" style=\"color: black; text-decoration: none; border-bottom: 1px #C3C3C3 dotted\">Calculus.finite_difference</a>(f, 0.9999939445455476, :central) => <b><font color=green><font color=00ff00>0</font></font></b></pre><ul><li><pre>f(1.0) => <b><font color=green><font color=00ff00>0</font></font></b></pre><ul></ul></li><li><pre>f(0.9999878890910952) => <b><font color=green><font color=00ff00>0</font></font></b></pre><ul></ul></li></ul></li></ul></li></ul></li></ul></li></ul>"
      ],
      "text/plain": [
       "TraceCalls.Trace(#1, (), (), TraceCalls.Trace[TraceCalls.Trace(Calculus.second_derivative, (f, 1.0), (), TraceCalls.Trace[TraceCalls.Trace(Calculus.derivative, (f, :central), (), TraceCalls.Trace[TraceCalls.Trace(Calculus.derivative, (f, :scalar, :central), (), TraceCalls.Trace[], TraceCalls.FontColor(\"ff0000\", 42200))], TraceCalls.FontColor(\"ff0000\", 208)), TraceCalls.Trace(Calculus.finite_difference_hessian, (f, Calculus.#25, 1.0, :central), (), TraceCalls.Trace[TraceCalls.Trace(Calculus.finite_difference, (Calculus.#25, 1.0, :central), (), TraceCalls.Trace[TraceCalls.Trace(Calculus.finite_difference, (f, 1.00001, :central), (), TraceCalls.Trace[TraceCalls.Trace(f, (1.00001,), (), TraceCalls.Trace[], TraceCalls.FontColor(\"00ff00\", 0)), TraceCalls.Trace(f, (1.0,), (), TraceCalls.Trace[], TraceCalls.FontColor(\"00ff00\", 0))], TraceCalls.FontColor(\"00ff00\", 0)), TraceCalls.Trace(Calculus.finite_difference, (f, 0.999994, :central), (), TraceCalls.Trace[TraceCalls.Trace(f, (1.0,), (), TraceCalls.Trace[], TraceCalls.FontColor(\"00ff00\", 0)), TraceCalls.Trace(f, (0.999988,), (), TraceCalls.Trace[], TraceCalls.FontColor(\"00ff00\", 0))], TraceCalls.FontColor(\"00ff00\", 0))], TraceCalls.FontColor(\"ff0000\", 16))], TraceCalls.FontColor(\"ff0000\", 16))], TraceCalls.FontColor(\"ff0000\", 419023))], TraceCalls.FontColor(\"ff0000\", 256))"
      ]
     },
     "execution_count": 6,
     "metadata": {},
     "output_type": "execute_result"
    }
   ],
   "source": [
    "greenred(map(:@allocated, trace_derivative))    # compute how many bytes were allocated in each function call"
   ]
  },
  {
   "cell_type": "markdown",
   "metadata": {},
   "source": [
    "# Tracing code\n",
    "\n",
    "The best way to trace your own codebase is to annotate key functions with `@traceable`."
   ]
  },
  {
   "cell_type": "code",
   "execution_count": 7,
   "metadata": {},
   "outputs": [
    {
     "data": {
      "text/html": [
       "<pre><a href=\"https://github.com/cstjean/TraceCalls.jl/tree/821ae1f057967a37ce7c6b082fa44ef47e8c9152//src/TraceCalls.jl#L263\" target=\"_blank\" style=\"color: black; text-decoration: none; border-bottom: 1px #C3C3C3 dotted\">#19</a>() => <b><font color=green>3//1</font></b></pre><ul><li><pre>my_factorial(3) => <b><font color=green>6</font></b></pre><ul><li><pre>my_factorial(2) => <b><font color=green>2</font></b></pre><ul><li><pre>my_factorial(1) => <b><font color=green>1</font></b></pre><ul><li><pre>my_factorial(0) => <b><font color=green>1</font></b></pre><ul></ul></li></ul></li></ul></li></ul></li><li><pre>my_factorial(1) => <b><font color=green>1</font></b></pre><ul><li><pre>my_factorial(0) => <b><font color=green>1</font></b></pre><ul></ul></li></ul></li><li><pre>my_factorial(2) => <b><font color=green>2</font></b></pre><ul><li><pre>my_factorial(1) => <b><font color=green>1</font></b></pre><ul><li><pre>my_factorial(0) => <b><font color=green>1</font></b></pre><ul></ul></li></ul></li></ul></li></ul>"
      ],
      "text/plain": [
       "TraceCalls.Trace(#19, (), (), TraceCalls.Trace[TraceCalls.Trace(my_factorial, (3,), (), TraceCalls.Trace[TraceCalls.Trace(my_factorial, (2,), (), TraceCalls.Trace[TraceCalls.Trace(my_factorial, (1,), (), TraceCalls.Trace[TraceCalls.Trace(my_factorial, (0,), (), TraceCalls.Trace[], 1)], 1)], 2)], 6), TraceCalls.Trace(my_factorial, (1,), (), TraceCalls.Trace[TraceCalls.Trace(my_factorial, (0,), (), TraceCalls.Trace[], 1)], 1), TraceCalls.Trace(my_factorial, (2,), (), TraceCalls.Trace[TraceCalls.Trace(my_factorial, (1,), (), TraceCalls.Trace[TraceCalls.Trace(my_factorial, (0,), (), TraceCalls.Trace[], 1)], 1)], 2)], 3//1)"
      ]
     },
     "execution_count": 7,
     "metadata": {},
     "output_type": "execute_result"
    }
   ],
   "source": [
    "@traceable function my_factorial(n)\n",
    "    if n==0\n",
    "        return 1\n",
    "    else\n",
    "        return n * my_factorial(n-1)\n",
    "    end\n",
    "end\n",
    "\n",
    "# How many ways are there of selecting k amongst n. See https://en.wikipedia.org/wiki/Combination\n",
    "combination(k, n) = my_factorial(n) // (my_factorial(n-k) * my_factorial(k))\n",
    "\n",
    "@trace combination(2, 3)"
   ]
  },
  {
   "cell_type": "markdown",
   "metadata": {},
   "source": [
    "In the example above, `my_factorial` is traced (each call to it will be recorded when `@trace` is used), but `combination` isn't. Crucially, the `@traceable` macro merely remembers the function definition, it does not modify it in any way, which means that **@traceable has zero impact on the performance of your code**. Sprinkle it liberally!\n",
    "\n",
    "Sometimes, it's not practical or convenient to add `@traceable` annotations. You can trace entire modules and specific functions by passing them to the `@trace` macro:"
   ]
  },
  {
   "cell_type": "code",
   "execution_count": 8,
   "metadata": {},
   "outputs": [
    {
     "name": "stderr",
     "output_type": "stream",
     "text": [
      "\u001b[1m\u001b[33mWARNING: \u001b[39m\u001b[22m\u001b[33mOnly 0/1 methods of DataStructures.compare in /Users/cedric/.julia/v0.6/DataStructures/src/tokens2.jl were found.\u001b[39m\n"
     ]
    },
    {
     "data": {
      "text/html": [
       "<pre><a href=\"https://github.com/cstjean/TraceCalls.jl/tree/821ae1f057967a37ce7c6b082fa44ef47e8c9152//src/TraceCalls.jl#L267\" target=\"_blank\" style=\"color: black; text-decoration: none; border-bottom: 1px #C3C3C3 dotted\">#21</a>() => <b><font color=green>[68, 21, 14]</font></b></pre><ul><li><pre><a href=\"https://github.com/JuliaCollections/DataStructures.jl/tree/ba696672be809f812dfef079819564b6065ffd36//src/heaps.jl#L5\" target=\"_blank\" style=\"color: black; text-decoration: none; border-bottom: 1px #C3C3C3 dotted\">DataStructures.nextreme</a>(DataStructures.LessThan(), 3, [0, 21, -12, 68, -25, 14]) => <b><font color=green>[68, 21, 14]</font></b></pre><ul><li><pre><a href=\"https://github.com/JuliaCollections/DataStructures.jl/tree/ba696672be809f812dfef079819564b6065ffd36//src/heaps.jl#L2\" target=\"_blank\" style=\"color: black; text-decoration: none; border-bottom: 1px #C3C3C3 dotted\">DataStructures.compare</a>(DataStructures.LessThan(), 21, 0) => <b><font color=green>false</font></b></pre><ul></ul></li><li><pre><a href=\"https://github.com/JuliaCollections/DataStructures.jl/tree/ba696672be809f812dfef079819564b6065ffd36//src/heaps.jl#L2\" target=\"_blank\" style=\"color: black; text-decoration: none; border-bottom: 1px #C3C3C3 dotted\">DataStructures.compare</a>(DataStructures.LessThan(), -12, 0) => <b><font color=green>true</font></b></pre><ul></ul></li><li><pre><a href=\"https://github.com/JuliaCollections/DataStructures.jl/tree/ba696672be809f812dfef079819564b6065ffd36//src/heaps.jl#L2\" target=\"_blank\" style=\"color: black; text-decoration: none; border-bottom: 1px #C3C3C3 dotted\">DataStructures.compare</a>(DataStructures.LessThan(), -12, 68) => <b><font color=green>true</font></b></pre><ul></ul></li><li><pre><a href=\"https://github.com/JuliaCollections/DataStructures.jl/tree/ba696672be809f812dfef079819564b6065ffd36//src/heaps.jl#L2\" target=\"_blank\" style=\"color: black; text-decoration: none; border-bottom: 1px #C3C3C3 dotted\">DataStructures.compare</a>(DataStructures.LessThan(), 21, 0) => <b><font color=green>false</font></b></pre><ul></ul></li><li><pre><a href=\"https://github.com/JuliaCollections/DataStructures.jl/tree/ba696672be809f812dfef079819564b6065ffd36//src/heaps.jl#L2\" target=\"_blank\" style=\"color: black; text-decoration: none; border-bottom: 1px #C3C3C3 dotted\">DataStructures.compare</a>(DataStructures.LessThan(), 68, 0) => <b><font color=green>false</font></b></pre><ul></ul></li><li><pre><a href=\"https://github.com/JuliaCollections/DataStructures.jl/tree/ba696672be809f812dfef079819564b6065ffd36//src/heaps.jl#L2\" target=\"_blank\" style=\"color: black; text-decoration: none; border-bottom: 1px #C3C3C3 dotted\">DataStructures.compare</a>(DataStructures.LessThan(), 0, -25) => <b><font color=green>false</font></b></pre><ul></ul></li><li><pre><a href=\"https://github.com/JuliaCollections/DataStructures.jl/tree/ba696672be809f812dfef079819564b6065ffd36//src/heaps.jl#L2\" target=\"_blank\" style=\"color: black; text-decoration: none; border-bottom: 1px #C3C3C3 dotted\">DataStructures.compare</a>(DataStructures.LessThan(), 0, 14) => <b><font color=green>true</font></b></pre><ul></ul></li><li><pre><a href=\"https://github.com/JuliaCollections/DataStructures.jl/tree/ba696672be809f812dfef079819564b6065ffd36//src/heaps.jl#L2\" target=\"_blank\" style=\"color: black; text-decoration: none; border-bottom: 1px #C3C3C3 dotted\">DataStructures.compare</a>(DataStructures.LessThan(), 21, 68) => <b><font color=green>true</font></b></pre><ul></ul></li><li><pre><a href=\"https://github.com/JuliaCollections/DataStructures.jl/tree/ba696672be809f812dfef079819564b6065ffd36//src/heaps.jl#L2\" target=\"_blank\" style=\"color: black; text-decoration: none; border-bottom: 1px #C3C3C3 dotted\">DataStructures.compare</a>(DataStructures.LessThan(), 14, 21) => <b><font color=green>true</font></b></pre><ul></ul></li><li><pre><a href=\"https://github.com/JuliaCollections/DataStructures.jl/tree/ba696672be809f812dfef079819564b6065ffd36//src/heaps.jl#L2\" target=\"_blank\" style=\"color: black; text-decoration: none; border-bottom: 1px #C3C3C3 dotted\">DataStructures.compare</a>(DataStructures.LessThan(), 68, 21) => <b><font color=green>false</font></b></pre><ul></ul></li></ul></li></ul>"
      ],
      "text/plain": [
       "TraceCalls.Trace(#21, (), (), TraceCalls.Trace[TraceCalls.Trace(DataStructures.nextreme, (DataStructures.LessThan(), 3, [0, 21, -12, 68, -25, 14]), (), TraceCalls.Trace[TraceCalls.Trace(DataStructures.compare, (DataStructures.LessThan(), 21, 0), (), TraceCalls.Trace[], false), TraceCalls.Trace(DataStructures.compare, (DataStructures.LessThan(), -12, 0), (), TraceCalls.Trace[], true), TraceCalls.Trace(DataStructures.compare, (DataStructures.LessThan(), -12, 68), (), TraceCalls.Trace[], true), TraceCalls.Trace(DataStructures.compare, (DataStructures.LessThan(), 21, 0), (), TraceCalls.Trace[], false), TraceCalls.Trace(DataStructures.compare, (DataStructures.LessThan(), 68, 0), (), TraceCalls.Trace[], false), TraceCalls.Trace(DataStructures.compare, (DataStructures.LessThan(), 0, -25), (), TraceCalls.Trace[], false), TraceCalls.Trace(DataStructures.compare, (DataStructures.LessThan(), 0, 14), (), TraceCalls.Trace[], true), TraceCalls.Trace(DataStructures.compare, (DataStructures.LessThan(), 21, 68), (), TraceCalls.Trace[], true), TraceCalls.Trace(DataStructures.compare, (DataStructures.LessThan(), 14, 21), (), TraceCalls.Trace[], true), TraceCalls.Trace(DataStructures.compare, (DataStructures.LessThan(), 68, 21), (), TraceCalls.Trace[], false)], [68, 21, 14])], [68, 21, 14])"
      ]
     },
     "execution_count": 8,
     "metadata": {},
     "output_type": "execute_result"
    }
   ],
   "source": [
    "using DataStructures\n",
    "to_trace = (DataStructures.nextreme, DataStructures.compare)\n",
    "@trace to_trace nlargest(3, [0,21,-12,68,-25,14])  # returns the 3 largest values in the vector"
   ]
  },
  {
   "cell_type": "markdown",
   "metadata": {},
   "source": [
    "`@trace` attempts to find the source of every method of the traced functions, and emits a warning (see above) when it is missing some. When tracing modules, `@trace` has to parse their source code looking for function definitions (using [Revise.jl](https://github.com/timholy/Revise.jl)). That is an inexact science; many functions will not be traced. In particular, `@trace` and `@traceable` ignore:\n",
    "\n",
    " - Inner constructors\n",
    " - Functions that are defined by `eval`\n",
    " - Function definitions inside a macro (eg. `@inline foo(x) = x+2`), unless `@traceable` is part of its function definition.\n",
    " "
   ]
  },
  {
   "cell_type": "markdown",
   "metadata": {},
   "source": [
    "#### Syntax\n",
    "\n",
    "The full syntax of `@trace` is:\n",
    "\n",
    "    @trace (function1, function2, ..., module1, module2, ...) code_to_execute\n",
    "\n",
    "It will trace the given functions, the functions inside the given modules, and all functions that were defined with `@traceable`. The shorthand `@trace code_to_trace` is equivalent to `@trace () code_to_trace`."
   ]
  },
  {
   "cell_type": "markdown",
   "metadata": {},
   "source": [
    "#### Implementation of @trace\n",
    "\n",
    "`@trace some_fn foo(x)` performs these operations:\n",
    "\n",
    "1. Replace the definition(s) of `some_fn` with a tracing version (using `eval`)\n",
    "2. Run foo(x)\n",
    "3. Restore the original definition of `some_fn` (using `eval`)\n",
    "\n",
    "The downside of this scheme is that `@trace` will have to compile every traced function twice. Tracing large modules can be slow the first time around, but caching is used to avoid repeated computations."
   ]
  },
  {
   "cell_type": "markdown",
   "metadata": {},
   "source": [
    "# Manipulating traces"
   ]
  },
  {
   "cell_type": "markdown",
   "metadata": {},
   "source": [
    "Consider computing a [random walk](https://en.wikipedia.org/wiki/Random_walk) on a small graph, using [LightGraphs.jl](http://juliagraphs.github.io/LightGraphs.jl/latest/)"
   ]
  },
  {
   "cell_type": "code",
   "execution_count": 9,
   "metadata": {},
   "outputs": [
    {
     "data": {
      "text/html": [
       "<pre><a href=\"https://github.com/cstjean/TraceCalls.jl/tree/821ae1f057967a37ce7c6b082fa44ef47e8c9152//src/TraceCalls.jl#L267\" target=\"_blank\" style=\"color: black; text-decoration: none; border-bottom: 1px #C3C3C3 dotted\">#23</a>() => <b><font color=green>[2, 1, 2, 1, 2]</font></b></pre><ul><li><pre><a href=\"https://github.com/JuliaGraphs/LightGraphs.jl/tree/da0c350205820b03c4fd3e008fdc3e67d7e748fc//src/traversals/randomwalks.jl#L8\" target=\"_blank\" style=\"color: black; text-decoration: none; border-bottom: 1px #C3C3C3 dotted\">LightGraphs.randomwalk</a>({3, 2} undirected simple Int64 graph, 2, 5) => <b><font color=green>[2, 1, 2, 1, 2]</font></b></pre><ul><li><pre><a href=\"https://github.com/JuliaGraphs/LightGraphs.jl/tree/da0c350205820b03c4fd3e008fdc3e67d7e748fc//src/graphtypes/simplegraphs/simplegraph.jl#L2\" target=\"_blank\" style=\"color: black; text-decoration: none; border-bottom: 1px #C3C3C3 dotted\">eltype</a>({3, 2} undirected simple Int64 graph) => <b><font color=green>Int64</font></b></pre><ul></ul></li><li><pre><a href=\"https://github.com/JuliaGraphs/LightGraphs.jl/tree/da0c350205820b03c4fd3e008fdc3e67d7e748fc//src/graphtypes/simplegraphs/SimpleGraphs.jl#L44\" target=\"_blank\" style=\"color: black; text-decoration: none; border-bottom: 1px #C3C3C3 dotted\">LightGraphs.vertices</a>({3, 2} undirected simple Int64 graph) => <b><font color=green>1:3</font></b></pre><ul><li><pre><a href=\"https://github.com/JuliaGraphs/LightGraphs.jl/tree/da0c350205820b03c4fd3e008fdc3e67d7e748fc//src/graphtypes/simplegraphs/SimpleGraphs.jl#L43\" target=\"_blank\" style=\"color: black; text-decoration: none; border-bottom: 1px #C3C3C3 dotted\">LightGraphs.nv</a>({3, 2} undirected simple Int64 graph) => <b><font color=green>3</font></b></pre><ul><li><pre><a href=\"https://github.com/JuliaGraphs/LightGraphs.jl/tree/da0c350205820b03c4fd3e008fdc3e67d7e748fc//src/graphtypes/simplegraphs/simplegraph.jl#L2\" target=\"_blank\" style=\"color: black; text-decoration: none; border-bottom: 1px #C3C3C3 dotted\">eltype</a>({3, 2} undirected simple Int64 graph) => <b><font color=green>Int64</font></b></pre><ul></ul></li><li><pre><a href=\"https://github.com/JuliaGraphs/LightGraphs.jl/tree/da0c350205820b03c4fd3e008fdc3e67d7e748fc//src/graphtypes/simplegraphs/SimpleGraphs.jl#L50\" target=\"_blank\" style=\"color: black; text-decoration: none; border-bottom: 1px #C3C3C3 dotted\">LightGraphs.SimpleGraphs.fadj</a>({3, 2} undirected simple Int64 graph) => <b><font color=green>Array{Int64,1}[[2], [1, 3], [2]]</font></b></pre><ul></ul></li></ul></li></ul></li><li><pre><a href=\"https://github.com/JuliaGraphs/LightGraphs.jl/tree/da0c350205820b03c4fd3e008fdc3e67d7e748fc//src/graphtypes/simplegraphs/SimpleGraphs.jl#L65\" target=\"_blank\" style=\"color: black; text-decoration: none; border-bottom: 1px #C3C3C3 dotted\">LightGraphs.out_neighbors</a>({3, 2} undirected simple Int64 graph, 2) => <b><font color=green>[1, 3]</font></b></pre><ul><li><pre><a href=\"https://github.com/JuliaGraphs/LightGraphs.jl/tree/da0c350205820b03c4fd3e008fdc3e67d7e748fc//src/graphtypes/simplegraphs/SimpleGraphs.jl#L51\" target=\"_blank\" style=\"color: black; text-decoration: none; border-bottom: 1px #C3C3C3 dotted\">LightGraphs.SimpleGraphs.fadj</a>({3, 2} undirected simple Int64 graph, 2) => <b><font color=green>[1, 3]</font></b></pre><ul></ul></li></ul></li><li><pre><a href=\"https://github.com/JuliaGraphs/LightGraphs.jl/tree/da0c350205820b03c4fd3e008fdc3e67d7e748fc//src/graphtypes/simplegraphs/SimpleGraphs.jl#L65\" target=\"_blank\" style=\"color: black; text-decoration: none; border-bottom: 1px #C3C3C3 dotted\">LightGraphs.out_neighbors</a>({3, 2} undirected simple Int64 graph, 1) => <b><font color=green>[2]</font></b></pre><ul><li><pre><a href=\"https://github.com/JuliaGraphs/LightGraphs.jl/tree/da0c350205820b03c4fd3e008fdc3e67d7e748fc//src/graphtypes/simplegraphs/SimpleGraphs.jl#L51\" target=\"_blank\" style=\"color: black; text-decoration: none; border-bottom: 1px #C3C3C3 dotted\">LightGraphs.SimpleGraphs.fadj</a>({3, 2} undirected simple Int64 graph, 1) => <b><font color=green>[2]</font></b></pre><ul></ul></li></ul></li><li><pre><a href=\"https://github.com/JuliaGraphs/LightGraphs.jl/tree/da0c350205820b03c4fd3e008fdc3e67d7e748fc//src/graphtypes/simplegraphs/SimpleGraphs.jl#L65\" target=\"_blank\" style=\"color: black; text-decoration: none; border-bottom: 1px #C3C3C3 dotted\">LightGraphs.out_neighbors</a>({3, 2} undirected simple Int64 graph, 2) => <b><font color=green>[1, 3]</font></b></pre><ul><li><pre><a href=\"https://github.com/JuliaGraphs/LightGraphs.jl/tree/da0c350205820b03c4fd3e008fdc3e67d7e748fc//src/graphtypes/simplegraphs/SimpleGraphs.jl#L51\" target=\"_blank\" style=\"color: black; text-decoration: none; border-bottom: 1px #C3C3C3 dotted\">LightGraphs.SimpleGraphs.fadj</a>({3, 2} undirected simple Int64 graph, 2) => <b><font color=green>[1, 3]</font></b></pre><ul></ul></li></ul></li><li><pre><a href=\"https://github.com/JuliaGraphs/LightGraphs.jl/tree/da0c350205820b03c4fd3e008fdc3e67d7e748fc//src/graphtypes/simplegraphs/SimpleGraphs.jl#L65\" target=\"_blank\" style=\"color: black; text-decoration: none; border-bottom: 1px #C3C3C3 dotted\">LightGraphs.out_neighbors</a>({3, 2} undirected simple Int64 graph, 1) => <b><font color=green>[2]</font></b></pre><ul><li><pre><a href=\"https://github.com/JuliaGraphs/LightGraphs.jl/tree/da0c350205820b03c4fd3e008fdc3e67d7e748fc//src/graphtypes/simplegraphs/SimpleGraphs.jl#L51\" target=\"_blank\" style=\"color: black; text-decoration: none; border-bottom: 1px #C3C3C3 dotted\">LightGraphs.SimpleGraphs.fadj</a>({3, 2} undirected simple Int64 graph, 1) => <b><font color=green>[2]</font></b></pre><ul></ul></li></ul></li><li><pre><a href=\"https://github.com/JuliaGraphs/LightGraphs.jl/tree/da0c350205820b03c4fd3e008fdc3e67d7e748fc//src/graphtypes/simplegraphs/SimpleGraphs.jl#L65\" target=\"_blank\" style=\"color: black; text-decoration: none; border-bottom: 1px #C3C3C3 dotted\">LightGraphs.out_neighbors</a>({3, 2} undirected simple Int64 graph, 2) => <b><font color=green>[1, 3]</font></b></pre><ul><li><pre><a href=\"https://github.com/JuliaGraphs/LightGraphs.jl/tree/da0c350205820b03c4fd3e008fdc3e67d7e748fc//src/graphtypes/simplegraphs/SimpleGraphs.jl#L51\" target=\"_blank\" style=\"color: black; text-decoration: none; border-bottom: 1px #C3C3C3 dotted\">LightGraphs.SimpleGraphs.fadj</a>({3, 2} undirected simple Int64 graph, 2) => <b><font color=green>[1, 3]</font></b></pre><ul></ul></li></ul></li></ul></li></ul>"
      ],
      "text/plain": [
       "TraceCalls.Trace(#23, (), (), TraceCalls.Trace[TraceCalls.Trace(LightGraphs.randomwalk, ({3, 2} undirected simple Int64 graph, 2, 5), (), TraceCalls.Trace[TraceCalls.Trace(eltype, ({3, 2} undirected simple Int64 graph,), (), TraceCalls.Trace[], Int64), TraceCalls.Trace(LightGraphs.vertices, ({3, 2} undirected simple Int64 graph,), (), TraceCalls.Trace[TraceCalls.Trace(LightGraphs.nv, ({3, 2} undirected simple Int64 graph,), (), TraceCalls.Trace[TraceCalls.Trace(eltype, ({3, 2} undirected simple Int64 graph,), (), TraceCalls.Trace[], Int64), TraceCalls.Trace(LightGraphs.SimpleGraphs.fadj, ({3, 2} undirected simple Int64 graph,), (), TraceCalls.Trace[], Array{Int64,1}[[2], [1, 3], [2]])], 3)], 1:3), TraceCalls.Trace(LightGraphs.out_neighbors, ({3, 2} undirected simple Int64 graph, 2), (), TraceCalls.Trace[TraceCalls.Trace(LightGraphs.SimpleGraphs.fadj, ({3, 2} undirected simple Int64 graph, 2), (), TraceCalls.Trace[], [1, 3])], [1, 3]), TraceCalls.Trace(LightGraphs.out_neighbors, ({3, 2} undirected simple Int64 graph, 1), (), TraceCalls.Trace[TraceCalls.Trace(LightGraphs.SimpleGraphs.fadj, ({3, 2} undirected simple Int64 graph, 1), (), TraceCalls.Trace[], [2])], [2]), TraceCalls.Trace(LightGraphs.out_neighbors, ({3, 2} undirected simple Int64 graph, 2), (), TraceCalls.Trace[TraceCalls.Trace(LightGraphs.SimpleGraphs.fadj, ({3, 2} undirected simple Int64 graph, 2), (), TraceCalls.Trace[], [1, 3])], [1, 3]), TraceCalls.Trace(LightGraphs.out_neighbors, ({3, 2} undirected simple Int64 graph, 1), (), TraceCalls.Trace[TraceCalls.Trace(LightGraphs.SimpleGraphs.fadj, ({3, 2} undirected simple Int64 graph, 1), (), TraceCalls.Trace[], [2])], [2]), TraceCalls.Trace(LightGraphs.out_neighbors, ({3, 2} undirected simple Int64 graph, 2), (), TraceCalls.Trace[TraceCalls.Trace(LightGraphs.SimpleGraphs.fadj, ({3, 2} undirected simple Int64 graph, 2), (), TraceCalls.Trace[], [1, 3])], [1, 3])], [2, 1, 2, 1, 2])], [2, 1, 2, 1, 2])"
      ]
     },
     "execution_count": 9,
     "metadata": {},
     "output_type": "execute_result"
    }
   ],
   "source": [
    "using LightGraphs\n",
    "\n",
    "graph = Graph(3)                                      # build an undirected graph with three connected vertices\n",
    "add_edge!(graph, 1, 2); add_edge!(graph, 2, 3) \n",
    "\n",
    "trace_walk = @trace LightGraphs randomwalk(graph, 2, 5)"
   ]
  },
  {
   "cell_type": "markdown",
   "metadata": {},
   "source": [
    "The trace can be indexed:"
   ]
  },
  {
   "cell_type": "code",
   "execution_count": 24,
   "metadata": {},
   "outputs": [
    {
     "data": {
      "text/html": [
       "<pre><a href=\"https://github.com/JuliaGraphs/LightGraphs.jl/tree/da0c350205820b03c4fd3e008fdc3e67d7e748fc//src/graphtypes/simplegraphs/SimpleGraphs.jl#L65\" target=\"_blank\" style=\"color: black; text-decoration: none; border-bottom: 1px #C3C3C3 dotted\">LightGraphs.out_neighbors</a>(AnyOldGraph, 2) => <b><font color=green>[1,3]</font></b></pre><ul><li><pre><a href=\"https://github.com/JuliaGraphs/LightGraphs.jl/tree/da0c350205820b03c4fd3e008fdc3e67d7e748fc//src/graphtypes/simplegraphs/SimpleGraphs.jl#L51\" target=\"_blank\" style=\"color: black; text-decoration: none; border-bottom: 1px #C3C3C3 dotted\">LightGraphs.SimpleGraphs.fadj</a>(AnyOldGraph, 2) => <b><font color=green>[1,3]</font></b></pre><ul></ul></li></ul>"
      ],
      "text/plain": [
       "TraceCalls.Trace(LightGraphs.out_neighbors, ({3, 2} undirected simple Int64 graph, 2), (), TraceCalls.Trace[TraceCalls.Trace(LightGraphs.SimpleGraphs.fadj, ({3, 2} undirected simple Int64 graph, 2), (), TraceCalls.Trace[], [1, 3])], [1, 3])"
      ]
     },
     "execution_count": 24,
     "metadata": {},
     "output_type": "execute_result"
    }
   ],
   "source": [
    "trace_walk[1][3]    # can also be written graph_trace[1,3]"
   ]
  },
  {
   "cell_type": "markdown",
   "metadata": {},
   "source": [
    "Called:"
   ]
  },
  {
   "cell_type": "code",
   "execution_count": 25,
   "metadata": {},
   "outputs": [
    {
     "data": {
      "text/plain": [
       "2-element Array{Int64,1}:\n",
       " 1\n",
       " 3"
      ]
     },
     "execution_count": 25,
     "metadata": {},
     "output_type": "execute_result"
    }
   ],
   "source": [
    "trace_walk[1,3]()   # call `LightGraphs.out_neighbors({2, 1} directed simple Int64 graph, 2)`"
   ]
  },
  {
   "cell_type": "markdown",
   "metadata": {},
   "source": [
    "Or pruned (very useful for exploring large traces):"
   ]
  },
  {
   "cell_type": "code",
   "execution_count": 12,
   "metadata": {},
   "outputs": [
    {
     "data": {
      "text/html": [
       "<pre><a href=\"https://github.com/cstjean/TraceCalls.jl/tree/821ae1f057967a37ce7c6b082fa44ef47e8c9152//src/TraceCalls.jl#L267\" target=\"_blank\" style=\"color: black; text-decoration: none; border-bottom: 1px #C3C3C3 dotted\">#23</a>() => <b><font color=green>[2, 1, 2, 1, 2]</font></b></pre><ul><li><pre><a href=\"https://github.com/JuliaGraphs/LightGraphs.jl/tree/da0c350205820b03c4fd3e008fdc3e67d7e748fc//src/traversals/randomwalks.jl#L8\" target=\"_blank\" style=\"color: black; text-decoration: none; border-bottom: 1px #C3C3C3 dotted\">LightGraphs.randomwalk</a>({3, 2} undirected simple Int64 graph, 2, 5) => <b><font color=green>[2, 1, 2, 1, 2]</font></b></pre><ul><li><pre><a href=\"https://github.com/JuliaGraphs/LightGraphs.jl/tree/da0c350205820b03c4fd3e008fdc3e67d7e748fc//src/graphtypes/simplegraphs/simplegraph.jl#L2\" target=\"_blank\" style=\"color: black; text-decoration: none; border-bottom: 1px #C3C3C3 dotted\">eltype</a>({3, 2} undirected simple Int64 graph) => <b><font color=green>Int64</font></b></pre><ul></ul></li><li><pre><a href=\"https://github.com/JuliaGraphs/LightGraphs.jl/tree/da0c350205820b03c4fd3e008fdc3e67d7e748fc//src/graphtypes/simplegraphs/SimpleGraphs.jl#L44\" target=\"_blank\" style=\"color: black; text-decoration: none; border-bottom: 1px #C3C3C3 dotted\">LightGraphs.vertices</a>({3, 2} undirected simple Int64 graph) => <b><font color=green>1:3</font></b></pre><ul></ul></li><li><pre><a href=\"https://github.com/JuliaGraphs/LightGraphs.jl/tree/da0c350205820b03c4fd3e008fdc3e67d7e748fc//src/graphtypes/simplegraphs/SimpleGraphs.jl#L65\" target=\"_blank\" style=\"color: black; text-decoration: none; border-bottom: 1px #C3C3C3 dotted\">LightGraphs.out_neighbors</a>({3, 2} undirected simple Int64 graph, 2) => <b><font color=green>[1, 3]</font></b></pre><ul></ul></li><li><pre><a href=\"https://github.com/JuliaGraphs/LightGraphs.jl/tree/da0c350205820b03c4fd3e008fdc3e67d7e748fc//src/graphtypes/simplegraphs/SimpleGraphs.jl#L65\" target=\"_blank\" style=\"color: black; text-decoration: none; border-bottom: 1px #C3C3C3 dotted\">LightGraphs.out_neighbors</a>({3, 2} undirected simple Int64 graph, 1) => <b><font color=green>[2]</font></b></pre><ul></ul></li><li><pre><a href=\"https://github.com/JuliaGraphs/LightGraphs.jl/tree/da0c350205820b03c4fd3e008fdc3e67d7e748fc//src/graphtypes/simplegraphs/SimpleGraphs.jl#L65\" target=\"_blank\" style=\"color: black; text-decoration: none; border-bottom: 1px #C3C3C3 dotted\">LightGraphs.out_neighbors</a>({3, 2} undirected simple Int64 graph, 2) => <b><font color=green>[1, 3]</font></b></pre><ul></ul></li></ul></li></ul>"
      ],
      "text/plain": [
       "TraceCalls.Trace(#23, (), (), TraceCalls.Trace[TraceCalls.Trace(LightGraphs.randomwalk, ({3, 2} undirected simple Int64 graph, 2, 5), (), TraceCalls.Trace[TraceCalls.Trace(eltype, ({3, 2} undirected simple Int64 graph,), (), TraceCalls.Trace[], Int64), TraceCalls.Trace(LightGraphs.vertices, ({3, 2} undirected simple Int64 graph,), (), TraceCalls.Trace[], 1:3), TraceCalls.Trace(LightGraphs.out_neighbors, ({3, 2} undirected simple Int64 graph, 2), (), TraceCalls.Trace[], [1, 3]), TraceCalls.Trace(LightGraphs.out_neighbors, ({3, 2} undirected simple Int64 graph, 1), (), TraceCalls.Trace[], [2]), TraceCalls.Trace(LightGraphs.out_neighbors, ({3, 2} undirected simple Int64 graph, 2), (), TraceCalls.Trace[], [1, 3])], [2, 1, 2, 1, 2])], [2, 1, 2, 1, 2])"
      ]
     },
     "execution_count": 12,
     "metadata": {},
     "output_type": "execute_result"
    }
   ],
   "source": [
    "prune(trace_walk, \n",
    "    2,  # maximum depth\n",
    "    5)  # maximum length of each trace (eg. if foo() calls bar() 100 times)"
   ]
  },
  {
   "cell_type": "markdown",
   "metadata": {},
   "source": [
    "### Custom HTML\n",
    "\n",
    "To display each argument and return value, `TraceCalls.val_html(x)` is called. It defaults to `repr(x)`, but can be customized, either to highlight certain values, or to shorten values that are not important for the task at hand."
   ]
  },
  {
   "cell_type": "code",
   "execution_count": 13,
   "metadata": {},
   "outputs": [
    {
     "data": {
      "text/html": [
       "<pre><a href=\"https://github.com/cstjean/TraceCalls.jl/tree/821ae1f057967a37ce7c6b082fa44ef47e8c9152//src/TraceCalls.jl#L267\" target=\"_blank\" style=\"color: black; text-decoration: none; border-bottom: 1px #C3C3C3 dotted\">#23</a>() => <b><font color=green>[<font color=red>2</font>,1,<font color=red>2</font>,1,<font color=red>2</font>]</font></b></pre><ul><li><pre><a href=\"https://github.com/JuliaGraphs/LightGraphs.jl/tree/da0c350205820b03c4fd3e008fdc3e67d7e748fc//src/traversals/randomwalks.jl#L8\" target=\"_blank\" style=\"color: black; text-decoration: none; border-bottom: 1px #C3C3C3 dotted\">LightGraphs.randomwalk</a>(AnyOldGraph, 2, 5) => <b><font color=green>[<font color=red>2</font>,1,<font color=red>2</font>,1,<font color=red>2</font>]</font></b></pre><ul><li><pre><a href=\"https://github.com/JuliaGraphs/LightGraphs.jl/tree/da0c350205820b03c4fd3e008fdc3e67d7e748fc//src/graphtypes/simplegraphs/simplegraph.jl#L2\" target=\"_blank\" style=\"color: black; text-decoration: none; border-bottom: 1px #C3C3C3 dotted\">eltype</a>(AnyOldGraph) => <b><font color=green>Int64</font></b></pre><ul></ul></li><li><pre><a href=\"https://github.com/JuliaGraphs/LightGraphs.jl/tree/da0c350205820b03c4fd3e008fdc3e67d7e748fc//src/graphtypes/simplegraphs/SimpleGraphs.jl#L44\" target=\"_blank\" style=\"color: black; text-decoration: none; border-bottom: 1px #C3C3C3 dotted\">LightGraphs.vertices</a>(AnyOldGraph) => <b><font color=green>1:3</font></b></pre><ul><li><pre><a href=\"https://github.com/JuliaGraphs/LightGraphs.jl/tree/da0c350205820b03c4fd3e008fdc3e67d7e748fc//src/graphtypes/simplegraphs/SimpleGraphs.jl#L43\" target=\"_blank\" style=\"color: black; text-decoration: none; border-bottom: 1px #C3C3C3 dotted\">LightGraphs.nv</a>(AnyOldGraph) => <b><font color=green>3</font></b></pre><ul><li><pre><a href=\"https://github.com/JuliaGraphs/LightGraphs.jl/tree/da0c350205820b03c4fd3e008fdc3e67d7e748fc//src/graphtypes/simplegraphs/simplegraph.jl#L2\" target=\"_blank\" style=\"color: black; text-decoration: none; border-bottom: 1px #C3C3C3 dotted\">eltype</a>(AnyOldGraph) => <b><font color=green>Int64</font></b></pre><ul></ul></li><li><pre><a href=\"https://github.com/JuliaGraphs/LightGraphs.jl/tree/da0c350205820b03c4fd3e008fdc3e67d7e748fc//src/graphtypes/simplegraphs/SimpleGraphs.jl#L50\" target=\"_blank\" style=\"color: black; text-decoration: none; border-bottom: 1px #C3C3C3 dotted\">LightGraphs.SimpleGraphs.fadj</a>(AnyOldGraph) => <b><font color=green>Array{Int64,1}[[2], [1, 3], [2]]</font></b></pre><ul></ul></li></ul></li></ul></li><li><pre><a href=\"https://github.com/JuliaGraphs/LightGraphs.jl/tree/da0c350205820b03c4fd3e008fdc3e67d7e748fc//src/graphtypes/simplegraphs/SimpleGraphs.jl#L65\" target=\"_blank\" style=\"color: black; text-decoration: none; border-bottom: 1px #C3C3C3 dotted\">LightGraphs.out_neighbors</a>(AnyOldGraph, 2) => <b><font color=green>[1,3]</font></b></pre><ul><li><pre><a href=\"https://github.com/JuliaGraphs/LightGraphs.jl/tree/da0c350205820b03c4fd3e008fdc3e67d7e748fc//src/graphtypes/simplegraphs/SimpleGraphs.jl#L51\" target=\"_blank\" style=\"color: black; text-decoration: none; border-bottom: 1px #C3C3C3 dotted\">LightGraphs.SimpleGraphs.fadj</a>(AnyOldGraph, 2) => <b><font color=green>[1,3]</font></b></pre><ul></ul></li></ul></li><li><pre><a href=\"https://github.com/JuliaGraphs/LightGraphs.jl/tree/da0c350205820b03c4fd3e008fdc3e67d7e748fc//src/graphtypes/simplegraphs/SimpleGraphs.jl#L65\" target=\"_blank\" style=\"color: black; text-decoration: none; border-bottom: 1px #C3C3C3 dotted\">LightGraphs.out_neighbors</a>(AnyOldGraph, 1) => <b><font color=green>[<font color=red>2</font>]</font></b></pre><ul><li><pre><a href=\"https://github.com/JuliaGraphs/LightGraphs.jl/tree/da0c350205820b03c4fd3e008fdc3e67d7e748fc//src/graphtypes/simplegraphs/SimpleGraphs.jl#L51\" target=\"_blank\" style=\"color: black; text-decoration: none; border-bottom: 1px #C3C3C3 dotted\">LightGraphs.SimpleGraphs.fadj</a>(AnyOldGraph, 1) => <b><font color=green>[<font color=red>2</font>]</font></b></pre><ul></ul></li></ul></li><li><pre><a href=\"https://github.com/JuliaGraphs/LightGraphs.jl/tree/da0c350205820b03c4fd3e008fdc3e67d7e748fc//src/graphtypes/simplegraphs/SimpleGraphs.jl#L65\" target=\"_blank\" style=\"color: black; text-decoration: none; border-bottom: 1px #C3C3C3 dotted\">LightGraphs.out_neighbors</a>(AnyOldGraph, 2) => <b><font color=green>[1,3]</font></b></pre><ul><li><pre><a href=\"https://github.com/JuliaGraphs/LightGraphs.jl/tree/da0c350205820b03c4fd3e008fdc3e67d7e748fc//src/graphtypes/simplegraphs/SimpleGraphs.jl#L51\" target=\"_blank\" style=\"color: black; text-decoration: none; border-bottom: 1px #C3C3C3 dotted\">LightGraphs.SimpleGraphs.fadj</a>(AnyOldGraph, 2) => <b><font color=green>[1,3]</font></b></pre><ul></ul></li></ul></li><li><pre><a href=\"https://github.com/JuliaGraphs/LightGraphs.jl/tree/da0c350205820b03c4fd3e008fdc3e67d7e748fc//src/graphtypes/simplegraphs/SimpleGraphs.jl#L65\" target=\"_blank\" style=\"color: black; text-decoration: none; border-bottom: 1px #C3C3C3 dotted\">LightGraphs.out_neighbors</a>(AnyOldGraph, 1) => <b><font color=green>[<font color=red>2</font>]</font></b></pre><ul><li><pre><a href=\"https://github.com/JuliaGraphs/LightGraphs.jl/tree/da0c350205820b03c4fd3e008fdc3e67d7e748fc//src/graphtypes/simplegraphs/SimpleGraphs.jl#L51\" target=\"_blank\" style=\"color: black; text-decoration: none; border-bottom: 1px #C3C3C3 dotted\">LightGraphs.SimpleGraphs.fadj</a>(AnyOldGraph, 1) => <b><font color=green>[<font color=red>2</font>]</font></b></pre><ul></ul></li></ul></li><li><pre><a href=\"https://github.com/JuliaGraphs/LightGraphs.jl/tree/da0c350205820b03c4fd3e008fdc3e67d7e748fc//src/graphtypes/simplegraphs/SimpleGraphs.jl#L65\" target=\"_blank\" style=\"color: black; text-decoration: none; border-bottom: 1px #C3C3C3 dotted\">LightGraphs.out_neighbors</a>(AnyOldGraph, 2) => <b><font color=green>[1,3]</font></b></pre><ul><li><pre><a href=\"https://github.com/JuliaGraphs/LightGraphs.jl/tree/da0c350205820b03c4fd3e008fdc3e67d7e748fc//src/graphtypes/simplegraphs/SimpleGraphs.jl#L51\" target=\"_blank\" style=\"color: black; text-decoration: none; border-bottom: 1px #C3C3C3 dotted\">LightGraphs.SimpleGraphs.fadj</a>(AnyOldGraph, 2) => <b><font color=green>[1,3]</font></b></pre><ul></ul></li></ul></li></ul></li></ul>"
      ],
      "text/plain": [
       "TraceCalls.Trace(#23, (), (), TraceCalls.Trace[TraceCalls.Trace(LightGraphs.randomwalk, ({3, 2} undirected simple Int64 graph, 2, 5), (), TraceCalls.Trace[TraceCalls.Trace(eltype, ({3, 2} undirected simple Int64 graph,), (), TraceCalls.Trace[], Int64), TraceCalls.Trace(LightGraphs.vertices, ({3, 2} undirected simple Int64 graph,), (), TraceCalls.Trace[TraceCalls.Trace(LightGraphs.nv, ({3, 2} undirected simple Int64 graph,), (), TraceCalls.Trace[TraceCalls.Trace(eltype, ({3, 2} undirected simple Int64 graph,), (), TraceCalls.Trace[], Int64), TraceCalls.Trace(LightGraphs.SimpleGraphs.fadj, ({3, 2} undirected simple Int64 graph,), (), TraceCalls.Trace[], Array{Int64,1}[[2], [1, 3], [2]])], 3)], 1:3), TraceCalls.Trace(LightGraphs.out_neighbors, ({3, 2} undirected simple Int64 graph, 2), (), TraceCalls.Trace[TraceCalls.Trace(LightGraphs.SimpleGraphs.fadj, ({3, 2} undirected simple Int64 graph, 2), (), TraceCalls.Trace[], [1, 3])], [1, 3]), TraceCalls.Trace(LightGraphs.out_neighbors, ({3, 2} undirected simple Int64 graph, 1), (), TraceCalls.Trace[TraceCalls.Trace(LightGraphs.SimpleGraphs.fadj, ({3, 2} undirected simple Int64 graph, 1), (), TraceCalls.Trace[], [2])], [2]), TraceCalls.Trace(LightGraphs.out_neighbors, ({3, 2} undirected simple Int64 graph, 2), (), TraceCalls.Trace[TraceCalls.Trace(LightGraphs.SimpleGraphs.fadj, ({3, 2} undirected simple Int64 graph, 2), (), TraceCalls.Trace[], [1, 3])], [1, 3]), TraceCalls.Trace(LightGraphs.out_neighbors, ({3, 2} undirected simple Int64 graph, 1), (), TraceCalls.Trace[TraceCalls.Trace(LightGraphs.SimpleGraphs.fadj, ({3, 2} undirected simple Int64 graph, 1), (), TraceCalls.Trace[], [2])], [2]), TraceCalls.Trace(LightGraphs.out_neighbors, ({3, 2} undirected simple Int64 graph, 2), (), TraceCalls.Trace[TraceCalls.Trace(LightGraphs.SimpleGraphs.fadj, ({3, 2} undirected simple Int64 graph, 2), (), TraceCalls.Trace[], [1, 3])], [1, 3])], [2, 1, 2, 1, 2])], [2, 1, 2, 1, 2])"
      ]
     },
     "execution_count": 13,
     "metadata": {},
     "output_type": "execute_result"
    }
   ],
   "source": [
    "TraceCalls.val_html(v::Vector{Int}) = string(\"[\", join([x==2 ? \"<font color=red>2</font>\" : x for x in v], \",\"), \"]\")\n",
    "TraceCalls.val_html(::Graph) = \"AnyOldGraph\"\n",
    "trace_walk"
   ]
  },
  {
   "cell_type": "markdown",
   "metadata": {},
   "source": [
    "See also `?TraceCalls.call_html` and `?TraceCalls.return_val_html`"
   ]
  },
  {
   "cell_type": "markdown",
   "metadata": {},
   "source": [
    "### Map, filter, collect"
   ]
  },
  {
   "cell_type": "markdown",
   "metadata": {},
   "source": []
  },
  {
   "cell_type": "markdown",
   "metadata": {},
   "source": [
    "```julia\n",
    "struct Trace\n",
    "    func                  # the function called\n",
    "    args::Tuple           # the positional arguments\n",
    "    kwargs::Tuple         # the keyword arguments\n",
    "    called::Vector{Trace} # the functions called within the execution of this function call \n",
    "    value                 # This is the return value of the func(args...; kwargs...) call, but it's also where\n",
    "                          # the result of `map(f, ::Trace)` will be stored.\n",
    "end\n",
    "```"
   ]
  },
  {
   "cell_type": "code",
   "execution_count": null,
   "metadata": {
    "collapsed": true
   },
   "outputs": [],
   "source": []
  },
  {
   "cell_type": "markdown",
   "metadata": {},
   "source": [
    "# Working with mutable state\n",
    "\n",
    "Because `@trace` stores the function arguments without copying them, tracing function calls that modify their arguments can yield surprising results. Consider this trivial example, that generates a vector of `n` 5s."
   ]
  },
  {
   "cell_type": "code",
   "execution_count": 14,
   "metadata": {},
   "outputs": [
    {
     "data": {
      "text/html": [
       "<pre><a href=\"https://github.com/cstjean/TraceCalls.jl/tree/821ae1f057967a37ce7c6b082fa44ef47e8c9152//src/TraceCalls.jl#L263\" target=\"_blank\" style=\"color: black; text-decoration: none; border-bottom: 1px #C3C3C3 dotted\">#27</a>() => <b><font color=green>[5,5,5]</font></b></pre><ul><li><pre>many_5s(3) => <b><font color=green>[5,5,5]</font></b></pre><ul><li><pre>push5!([5,5,5]) => <b><font color=green>[5,5,5]</font></b></pre><ul></ul></li><li><pre>push5!([5,5,5]) => <b><font color=green>[5,5,5]</font></b></pre><ul></ul></li><li><pre>push5!([5,5,5]) => <b><font color=green>[5,5,5]</font></b></pre><ul></ul></li></ul></li></ul>"
      ],
      "text/plain": [
       "TraceCalls.Trace(#27, (), (), TraceCalls.Trace[TraceCalls.Trace(many_5s, (3,), (), TraceCalls.Trace[TraceCalls.Trace(push5!, ([5, 5, 5],), (), TraceCalls.Trace[], [5, 5, 5]), TraceCalls.Trace(push5!, ([5, 5, 5],), (), TraceCalls.Trace[], [5, 5, 5]), TraceCalls.Trace(push5!, ([5, 5, 5],), (), TraceCalls.Trace[], [5, 5, 5])], [5, 5, 5])], [5, 5, 5])"
      ]
     },
     "execution_count": 14,
     "metadata": {},
     "output_type": "execute_result"
    }
   ],
   "source": [
    "@traceable push5!(vec::Vector) = push!(vec, 5)\n",
    "@traceable function many_5s(n)\n",
    "    vec = Int[]\n",
    "    for i in 1:n\n",
    "        push5!(vec)\n",
    "    end\n",
    "    return vec\n",
    "end\n",
    "\n",
    "@trace many_5s(3)"
   ]
  },
  {
   "cell_type": "markdown",
   "metadata": {},
   "source": [
    "When `push5!` was first called, `vec` was empty, but this trace makes it look like it already had three 5s in it. This is because all vectors in that trace are [the same object](http://www.johnmyleswhite.com/notebook/2014/09/06/values-vs-bindings-the-map-is-not-the-territory/). As long as you keep this peculiarity in mind, it is not necessarily a problem. But if you do care, here are a few solutions. The simplest is to take the mutating functions out of the trace. This is a good option for profiling."
   ]
  },
  {
   "cell_type": "code",
   "execution_count": 15,
   "metadata": {},
   "outputs": [
    {
     "data": {
      "text/html": [
       "<pre><a href=\"https://github.com/cstjean/TraceCalls.jl/tree/821ae1f057967a37ce7c6b082fa44ef47e8c9152//src/TraceCalls.jl#L263\" target=\"_blank\" style=\"color: black; text-decoration: none; border-bottom: 1px #C3C3C3 dotted\">#29</a>() => <b><font color=green>[5,5,5]</font></b></pre><ul><li><pre>many_5s(3) => <b><font color=green>[5,5,5]</font></b></pre><ul></ul></li></ul>"
      ],
      "text/plain": [
       "TraceCalls.Trace(#29, (), (), TraceCalls.Trace[TraceCalls.Trace(many_5s, (3,), (), TraceCalls.Trace[], [5, 5, 5])], [5, 5, 5])"
      ]
     },
     "execution_count": 15,
     "metadata": {},
     "output_type": "execute_result"
    }
   ],
   "source": [
    "tr = @trace many_5s(3)\n",
    "filter(!is_mutating, tr)    # filter out every function that ends with a ! (see https://docs.julialang.org/en/stable/manual/style-guide/#Append-!-to-names-of-functions-that-modify-their-arguments-1)"
   ]
  },
  {
   "cell_type": "markdown",
   "metadata": {},
   "source": [
    "Alternatively, you can tell TraceCalls to make a copy of each `Vector` argument when storing it:"
   ]
  },
  {
   "cell_type": "code",
   "execution_count": 16,
   "metadata": {},
   "outputs": [
    {
     "data": {
      "text/html": [
       "<pre><a href=\"https://github.com/cstjean/TraceCalls.jl/tree/821ae1f057967a37ce7c6b082fa44ef47e8c9152//src/TraceCalls.jl#L263\" target=\"_blank\" style=\"color: black; text-decoration: none; border-bottom: 1px #C3C3C3 dotted\">#31</a>() => <b><font color=green>[5,5,5]</font></b></pre><ul><li><pre>many_5s(3) => <b><font color=green>[5,5,5]</font></b></pre><ul><li><pre>push5!([]) => <b><font color=green>[5]</font></b></pre><ul></ul></li><li><pre>push5!([5]) => <b><font color=green>[5,5]</font></b></pre><ul></ul></li><li><pre>push5!([5,5]) => <b><font color=green>[5,5,5]</font></b></pre><ul></ul></li></ul></li></ul>"
      ],
      "text/plain": [
       "TraceCalls.Trace(#31, (), (), TraceCalls.Trace[TraceCalls.Trace(many_5s, (3,), (), TraceCalls.Trace[TraceCalls.Trace(push5!, (Int64[],), (), TraceCalls.Trace[], [5]), TraceCalls.Trace(push5!, ([5],), (), TraceCalls.Trace[], [5, 5]), TraceCalls.Trace(push5!, ([5, 5],), (), TraceCalls.Trace[], [5, 5, 5])], [5, 5, 5])], [5, 5, 5])"
      ]
     },
     "execution_count": 16,
     "metadata": {},
     "output_type": "execute_result"
    }
   ],
   "source": [
    "TraceCalls.store(x::Vector) = copy(x)\n",
    "@trace many_5s(3)"
   ]
  },
  {
   "cell_type": "markdown",
   "metadata": {},
   "source": [
    "The most drastic solution is to have TraceCalls store the HTML representation of every object:\n",
    "\n",
    "```julia\n",
    "TraceCalls.store(x) = REPR(x)\n",
    "```\n",
    "\n",
    "This essentially turns TraceCalls.jl into a traditional, non-explorable tracing package, but it guarantees that each value is shown as it was when the call was made."
   ]
  },
  {
   "cell_type": "markdown",
   "metadata": {},
   "source": [
    "# Debugging with traces"
   ]
  },
  {
   "cell_type": "markdown",
   "metadata": {},
   "source": [
    "compare_past_trace"
   ]
  },
  {
   "cell_type": "code",
   "execution_count": 5,
   "metadata": {},
   "outputs": [
    {
     "name": "stderr",
     "output_type": "stream",
     "text": [
      "\u001b[1m\u001b[36mINFO: \u001b[39m\u001b[22m\u001b[36mComputing test dependencies for TraceCalls...\n",
      "\u001b[39m\u001b[1m\u001b[36mINFO: \u001b[39m\u001b[22m\u001b[36mNo packages to install, update or remove\n",
      "\u001b[39m\u001b[1m\u001b[36mINFO: \u001b[39m\u001b[22m\u001b[36mTesting TraceCalls\n",
      "\u001b[39m"
     ]
    },
    {
     "name": "stdout",
     "output_type": "stream",
     "text": [
      "\u001b[1m\u001b[91mError During Test\n",
      "\u001b[39m\u001b[22m  Test threw an exception of type BoundsError\n",
      "  Expression: (t[1])() == 6\n",
      "  \u001b[91mBoundsError: attempt to access 0-element Array{TraceCalls.Trace,1} at index [1]\u001b[39m\n",
      "  Stacktrace:\n",
      "   [1] \u001b[1mgetindex\u001b[22m\u001b[22m\u001b[1m(\u001b[22m\u001b[22m::TraceCalls.Trace, ::Int64\u001b[1m)\u001b[22m\u001b[22m at \u001b[1m/Users/cedric/.julia/v0.6/TraceCalls/src/TraceCalls.jl:68\u001b[22m\u001b[22m\n",
      "   [2] \u001b[1minclude_from_node1\u001b[22m\u001b[22m\u001b[1m(\u001b[22m\u001b[22m::String\u001b[1m)\u001b[22m\u001b[22m at \u001b[1m./loading.jl:569\u001b[22m\u001b[22m\n",
      "   [3] \u001b[1minclude\u001b[22m\u001b[22m\u001b[1m(\u001b[22m\u001b[22m::String\u001b[1m)\u001b[22m\u001b[22m at \u001b[1m./sysimg.jl:14\u001b[22m\u001b[22m\n",
      "   [4] \u001b[1mprocess_options\u001b[22m\u001b[22m\u001b[1m(\u001b[22m\u001b[22m::Base.JLOptions\u001b[1m)\u001b[22m\u001b[22m at \u001b[1m./client.jl:305\u001b[22m\u001b[22m\n",
      "   [5] \u001b[1m_start\u001b[22m\u001b[22m\u001b[1m(\u001b[22m\u001b[22m\u001b[1m)\u001b[22m\u001b[22m at \u001b[1m./client.jl:371\u001b[22m\u001b[22m\n"
     ]
    },
    {
     "name": "stderr",
     "output_type": "stream",
     "text": [
      "\u001b[1m\u001b[91mERROR: \u001b[39m\u001b[22mLoadError: \u001b[91mThere was an error during testing\u001b[39m\n",
      "while loading /Users/cedric/.julia/v0.6/TraceCalls/test/runtests.jl, in expression starting on line 29\n",
      "\u001b[1m\u001b[33m\u001b[39m\u001b[22m\u001b[33m=============================[ ERROR: TraceCalls ]==============================\u001b[39m\n",
      "\n",
      "\u001b[1m\u001b[33m\u001b[39m\u001b[22m\u001b[33mfailed process: Process(`/Applications/Julia-0.6.app/Contents/Resources/julia/bin/julia -Ccore2 -J/Applications/Julia-0.6.app/Contents/Resources/julia/lib/julia/sys.dylib --compile=yes --depwarn=yes --check-bounds=yes --code-coverage=none --color=yes --compilecache=yes /Users/cedric/.julia/v0.6/TraceCalls/test/runtests.jl`, ProcessExited(1)) [1]\u001b[39m\n",
      "\n",
      "\u001b[1m\u001b[33m\u001b[39m\u001b[22m\u001b[33m================================================================================\u001b[39m\n",
      "\u001b[1m\u001b[36mINFO: \u001b[39m\u001b[22m\u001b[36mNo packages to install, update or remove\n",
      "\u001b[39m"
     ]
    },
    {
     "ename": "LoadError",
     "evalue": "\u001b[91mTraceCalls had test errors\u001b[39m",
     "output_type": "error",
     "traceback": [
      "\u001b[91mTraceCalls had test errors\u001b[39m",
      "",
      "Stacktrace:",
      " [1] \u001b[1m#test#62\u001b[22m\u001b[22m\u001b[1m(\u001b[22m\u001b[22m::Bool, ::Function, ::Array{AbstractString,1}\u001b[1m)\u001b[22m\u001b[22m at \u001b[1m./pkg/entry.jl:757\u001b[22m\u001b[22m",
      " [2] \u001b[1m(::Base.Pkg.Entry.#kw##test)\u001b[22m\u001b[22m\u001b[1m(\u001b[22m\u001b[22m::Array{Any,1}, ::Base.Pkg.Entry.#test, ::Array{AbstractString,1}\u001b[1m)\u001b[22m\u001b[22m at \u001b[1m./<missing>:0\u001b[22m\u001b[22m",
      " [3] \u001b[1m(::Base.Pkg.Dir.##4#7{Array{Any,1},Base.Pkg.Entry.#test,Tuple{Array{AbstractString,1}}})\u001b[22m\u001b[22m\u001b[1m(\u001b[22m\u001b[22m\u001b[1m)\u001b[22m\u001b[22m at \u001b[1m./pkg/dir.jl:36\u001b[22m\u001b[22m",
      " [4] \u001b[1mcd\u001b[22m\u001b[22m\u001b[1m(\u001b[22m\u001b[22m::Base.Pkg.Dir.##4#7{Array{Any,1},Base.Pkg.Entry.#test,Tuple{Array{AbstractString,1}}}, ::String\u001b[1m)\u001b[22m\u001b[22m at \u001b[1m./file.jl:70\u001b[22m\u001b[22m",
      " [5] \u001b[1m#cd#1\u001b[22m\u001b[22m\u001b[1m(\u001b[22m\u001b[22m::Array{Any,1}, ::Function, ::Function, ::Array{AbstractString,1}, ::Vararg{Array{AbstractString,1},N} where N\u001b[1m)\u001b[22m\u001b[22m at \u001b[1m./pkg/dir.jl:36\u001b[22m\u001b[22m",
      " [6] \u001b[1m(::Base.Pkg.Dir.#kw##cd)\u001b[22m\u001b[22m\u001b[1m(\u001b[22m\u001b[22m::Array{Any,1}, ::Base.Pkg.Dir.#cd, ::Function, ::Array{AbstractString,1}, ::Vararg{Array{AbstractString,1},N} where N\u001b[1m)\u001b[22m\u001b[22m at \u001b[1m./<missing>:0\u001b[22m\u001b[22m",
      " [7] \u001b[1m#test#3\u001b[22m\u001b[22m\u001b[1m(\u001b[22m\u001b[22m::Bool, ::Function, ::String, ::Vararg{String,N} where N\u001b[1m)\u001b[22m\u001b[22m at \u001b[1m./pkg/pkg.jl:276\u001b[22m\u001b[22m",
      " [8] \u001b[1mtest\u001b[22m\u001b[22m\u001b[1m(\u001b[22m\u001b[22m::String, ::Vararg{String,N} where N\u001b[1m)\u001b[22m\u001b[22m at \u001b[1m./pkg/pkg.jl:276\u001b[22m\u001b[22m"
     ]
    }
   ],
   "source": [
    "Pkg.test(\"TraceCalls\")"
   ]
  },
  {
   "cell_type": "markdown",
   "metadata": {},
   "source": [
    "# Profiling"
   ]
  }
 ],
 "metadata": {
  "kernelspec": {
   "display_name": "Julia 0.6.0-pre.beta",
   "language": "julia",
   "name": "julia-0.6"
  },
  "language_info": {
   "file_extension": ".jl",
   "mimetype": "application/julia",
   "name": "julia",
   "version": "0.6.0"
  }
 },
 "nbformat": 4,
 "nbformat_minor": 2
}
