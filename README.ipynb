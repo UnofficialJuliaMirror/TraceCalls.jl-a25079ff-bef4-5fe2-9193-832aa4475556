{
 "cells": [
  {
   "cell_type": "markdown",
   "metadata": {},
   "source": [
    "# Overview"
   ]
  },
  {
   "cell_type": "code",
   "execution_count": 1,
   "metadata": {},
   "outputs": [],
   "source": [
    "using PyCall, TraceCalls"
   ]
  },
  {
   "cell_type": "code",
   "execution_count": 2,
   "metadata": {
    "collapsed": true
   },
   "outputs": [],
   "source": [
    "using DataStructures"
   ]
  },
  {
   "cell_type": "code",
   "execution_count": 3,
   "metadata": {},
   "outputs": [
    {
     "data": {
      "text/plain": [
       "DataStructures.OrderedDict{Int64,Int64} with 2 entries:\n",
       "  1 => 2\n",
       "  3 => 4"
      ]
     },
     "execution_count": 3,
     "metadata": {},
     "output_type": "execute_result"
    }
   ],
   "source": [
    "OrderedDict(1=>2, 3=>4)"
   ]
  },
  {
   "cell_type": "code",
   "execution_count": 4,
   "metadata": {
    "scrolled": false
   },
   "outputs": [
    {
     "name": "stderr",
     "output_type": "stream",
     "text": [
      "\u001b[1m\u001b[33mWARNING: \u001b[39m\u001b[22m\u001b[33mOnly 0/1 methods of DataStructures.OrderedDict in /Applications/Julia-0.6.app/Contents/Resources/julia/bin/../share/julia/base/sysimg.jl were found.\u001b[39m\n",
      "IOPub data rate exceeded.\n",
      "The notebook server will temporarily stop sending output\n",
      "to the client in order to avoid crashing it.\n",
      "To change this limit, set the config variable\n",
      "`--NotebookApp.iopub_data_rate_limit`.\n"
     ]
    }
   ],
   "source": [
    "tr = @trace ClobberingReload TraceCalls.traceable_update(DataStructures.OrderedDict)"
   ]
  },
  {
   "cell_type": "code",
   "execution_count": 16,
   "metadata": {},
   "outputs": [
    {
     "data": {
      "text/html": [
       "(::<b>ClobberingReload.#kw##update_code_revertible</b>)(::<b>Array{Any,1}</b>, ::<b>ClobberingReload.#update_code_revertible</b>, new_code_fn::<b>Function</b>, fn_to_change::<b>Union{Function, Type}</b>)"
      ],
      "text/plain": [
       "(::ClobberingReload.#kw##update_code_revertible)(::Array{Any,1}, ::ClobberingReload.#update_code_revertible, new_code_fn::Function, fn_to_change::Union{Function, Type}) in ClobberingReload"
      ]
     },
     "execution_count": 16,
     "metadata": {},
     "output_type": "execute_result"
    }
   ],
   "source": [
    "apply_macro(:@which, prune(tr, 2)[1])"
   ]
  },
  {
   "cell_type": "code",
   "execution_count": 5,
   "metadata": {
    "collapsed": true
   },
   "outputs": [],
   "source": [
    "using ClobberingReload"
   ]
  },
  {
   "cell_type": "code",
   "execution_count": 21,
   "metadata": {},
   "outputs": [
    {
     "name": "stderr",
     "output_type": "stream",
     "text": [
      "\u001b[1m\u001b[36mINFO: \u001b[39m\u001b[22m\u001b[36mReloading ClobberingReload\n",
      "\u001b[39m"
     ]
    },
    {
     "data": {
      "text/plain": [
       "\"ClobberingReload\""
      ]
     },
     "execution_count": 21,
     "metadata": {},
     "output_type": "execute_result"
    }
   ],
   "source": [
    "creload(ClobberingReload)"
   ]
  },
  {
   "cell_type": "code",
   "execution_count": 12,
   "metadata": {
    "collapsed": true
   },
   "outputs": [],
   "source": [
    "TraceCalls.val_html(::Vector) = \"<SomeVector>\""
   ]
  },
  {
   "cell_type": "code",
   "execution_count": 9,
   "metadata": {},
   "outputs": [
    {
     "data": {
      "text/html": [
       "(::<b>Type{DataStructures.OrderedDict}</b>)<i>{K, V}</i>(ps::<b>Pair{K,V}...</b>) at <a href=\"https://github.com/JuliaCollections/DataStructures.jl/tree/ba696672be809f812dfef079819564b6065ffd36//src/ordered_dict.jl#L1\" target=\"_blank\">/Users/cedric/.julia/v0.6/DataStructures/src/ordered_dict.jl:1</a>"
      ],
      "text/plain": [
       "(::Type{DataStructures.OrderedDict})(ps::Pair{K,V}...) where {K, V} in DataStructures at /Users/cedric/.julia/v0.6/DataStructures/src/ordered_dict.jl:1"
      ]
     },
     "execution_count": 9,
     "metadata": {},
     "output_type": "execute_result"
    }
   ],
   "source": [
    "@which OrderedDict(1=>2, 3=>4)"
   ]
  },
  {
   "cell_type": "code",
   "execution_count": 1,
   "metadata": {
    "collapsed": true
   },
   "outputs": [],
   "source": [
    "using ClobberingReload\n",
    "\n",
    "using TraceCalls\n",
    "\n",
    "using DataStructures"
   ]
  },
  {
   "cell_type": "code",
   "execution_count": 13,
   "metadata": {},
   "outputs": [
    {
     "name": "stderr",
     "output_type": "stream",
     "text": [
      "\u001b[1m\u001b[36mINFO: \u001b[39m\u001b[22m\u001b[36mReloading ClobberingReload\n",
      "\u001b[39m"
     ]
    },
    {
     "data": {
      "text/plain": [
       "\"ClobberingReload\""
      ]
     },
     "execution_count": 13,
     "metadata": {},
     "output_type": "execute_result"
    }
   ],
   "source": [
    "creload(ClobberingReload)"
   ]
  },
  {
   "cell_type": "code",
   "execution_count": 15,
   "metadata": {},
   "outputs": [
    {
     "data": {
      "text/plain": [
       "longdef1 (generic function with 1 method)"
      ]
     },
     "execution_count": 15,
     "metadata": {},
     "output_type": "execute_result"
    }
   ],
   "source": [
    "ClobberingReload.longdef1"
   ]
  },
  {
   "cell_type": "code",
   "execution_count": 6,
   "metadata": {},
   "outputs": [
    {
     "name": "stderr",
     "output_type": "stream",
     "text": [
      "\u001b[1m\u001b[33mWARNING: \u001b[39m\u001b[22m\u001b[33mOnly 0/1 methods of DataStructures.OrderedDict in /Applications/Julia-0.6.app/Contents/Resources/julia/bin/../share/julia/base/sysimg.jl were found.\u001b[39m\n"
     ]
    },
    {
     "data": {
      "text/plain": [
       "ClobberingReload.EvalableCode(Expr[quote  # /Users/cedric/.julia/v0.6/TraceCalls/src/TraceCalls.jl, line 172:\n",
       "    @inline function ##OrderedDict#657{}(; )::Any # /Users/cedric/.julia/v0.6/ClobberingReload/src/fundef.jl, line 81:\n",
       "            begin \n",
       "                begin  # /Users/cedric/.julia/v0.6/DataStructures/src/ordered_dict.jl, line 1:\n",
       "                    OrderedDict{Any, Any}()\n",
       "                end\n",
       "            end\n",
       "        end # /Users/cedric/.julia/v0.6/TraceCalls/src/TraceCalls.jl, line 173:\n",
       "    function OrderedDict{}(; )::Any # /Users/cedric/.julia/v0.6/ClobberingReload/src/fundef.jl, line 81:\n",
       "        begin  # /Users/cedric/.julia/v0.6/TraceCalls/src/TraceCalls.jl, line 150:\n",
       "            ##prev_trace#659 = TraceCalls.current_trace[] # /Users/cedric/.julia/v0.6/TraceCalls/src/TraceCalls.jl, line 151:\n",
       "            ##new_trace#658 = TraceCalls.Trace(OrderedDict, (), (), [], TraceCalls.NotReturned()) # /Users/cedric/.julia/v0.6/TraceCalls/src/TraceCalls.jl, line 158:\n",
       "            TraceCalls.current_trace[] = ##new_trace#658 # /Users/cedric/.julia/v0.6/TraceCalls/src/TraceCalls.jl, line 159:\n",
       "            push!(##prev_trace#659, ##new_trace#658) # /Users/cedric/.julia/v0.6/TraceCalls/src/TraceCalls.jl, line 160:\n",
       "            try  # /Users/cedric/.julia/v0.6/TraceCalls/src/TraceCalls.jl, line 161:\n",
       "                ##res#661 = ##OrderedDict#657() # /Users/cedric/.julia/v0.6/TraceCalls/src/TraceCalls.jl, line 162:\n",
       "                ##new_trace#658.value = ##res#661 # /Users/cedric/.julia/v0.6/TraceCalls/src/TraceCalls.jl, line 163:\n",
       "                return ##res#661\n",
       "            catch ##e#660 # /Users/cedric/.julia/v0.6/TraceCalls/src/TraceCalls.jl, line 165:\n",
       "                ##new_trace#658.value = ##e#660 # /Users/cedric/.julia/v0.6/TraceCalls/src/TraceCalls.jl, line 166:\n",
       "                rethrow()\n",
       "            finally  # /Users/cedric/.julia/v0.6/TraceCalls/src/TraceCalls.jl, line 168:\n",
       "                TraceCalls.current_trace[] = ##prev_trace#659\n",
       "            end\n",
       "        end\n",
       "    end\n",
       "end, quote  # /Users/cedric/.julia/v0.6/TraceCalls/src/TraceCalls.jl, line 172:\n",
       "    @inline function ##OrderedDict#662{}(kv::Tuple{}; )::Any # /Users/cedric/.julia/v0.6/ClobberingReload/src/fundef.jl, line 81:\n",
       "            begin \n",
       "                begin  # /Users/cedric/.julia/v0.6/DataStructures/src/ordered_dict.jl, line 1:\n",
       "                    OrderedDict()\n",
       "                end\n",
       "            end\n",
       "        end # /Users/cedric/.julia/v0.6/TraceCalls/src/TraceCalls.jl, line 173:\n",
       "    function OrderedDict{}(kv::Tuple{}; )::Any # /Users/cedric/.julia/v0.6/ClobberingReload/src/fundef.jl, line 81:\n",
       "        begin  # /Users/cedric/.julia/v0.6/TraceCalls/src/TraceCalls.jl, line 150:\n",
       "            ##prev_trace#664 = TraceCalls.current_trace[] # /Users/cedric/.julia/v0.6/TraceCalls/src/TraceCalls.jl, line 151:\n",
       "            ##new_trace#663 = TraceCalls.Trace(OrderedDict, (kv,), (), [], TraceCalls.NotReturned()) # /Users/cedric/.julia/v0.6/TraceCalls/src/TraceCalls.jl, line 158:\n",
       "            TraceCalls.current_trace[] = ##new_trace#663 # /Users/cedric/.julia/v0.6/TraceCalls/src/TraceCalls.jl, line 159:\n",
       "            push!(##prev_trace#664, ##new_trace#663) # /Users/cedric/.julia/v0.6/TraceCalls/src/TraceCalls.jl, line 160:\n",
       "            try  # /Users/cedric/.julia/v0.6/TraceCalls/src/TraceCalls.jl, line 161:\n",
       "                ##res#666 = ##OrderedDict#662(kv) # /Users/cedric/.julia/v0.6/TraceCalls/src/TraceCalls.jl, line 162:\n",
       "                ##new_trace#663.value = ##res#666 # /Users/cedric/.julia/v0.6/TraceCalls/src/TraceCalls.jl, line 163:\n",
       "                return ##res#666\n",
       "            catch ##e#665 # /Users/cedric/.julia/v0.6/TraceCalls/src/TraceCalls.jl, line 165:\n",
       "                ##new_trace#663.value = ##e#665 # /Users/cedric/.julia/v0.6/TraceCalls/src/TraceCalls.jl, line 166:\n",
       "                rethrow()\n",
       "            finally  # /Users/cedric/.julia/v0.6/TraceCalls/src/TraceCalls.jl, line 168:\n",
       "                TraceCalls.current_trace[] = ##prev_trace#664\n",
       "            end\n",
       "        end\n",
       "    end\n",
       "end, quote  # /Users/cedric/.julia/v0.6/TraceCalls/src/TraceCalls.jl, line 172:\n",
       "    @inline function ##OrderedDict#667{K, V}(kv::Tuple{Vararg{Pair{K, V}}}; )::Any # /Users/cedric/.julia/v0.6/ClobberingReload/src/fundef.jl, line 81:\n",
       "            begin \n",
       "                begin  # /Users/cedric/.julia/v0.6/DataStructures/src/ordered_dict.jl, line 1:\n",
       "                    OrderedDict{K, V}(kv)\n",
       "                end\n",
       "            end\n",
       "        end # /Users/cedric/.julia/v0.6/TraceCalls/src/TraceCalls.jl, line 173:\n",
       "    function OrderedDict{K, V}(kv::Tuple{Vararg{Pair{K, V}}}; )::Any # /Users/cedric/.julia/v0.6/ClobberingReload/src/fundef.jl, line 81:\n",
       "        begin  # /Users/cedric/.julia/v0.6/TraceCalls/src/TraceCalls.jl, line 150:\n",
       "            ##prev_trace#669 = TraceCalls.current_trace[] # /Users/cedric/.julia/v0.6/TraceCalls/src/TraceCalls.jl, line 151:\n",
       "            ##new_trace#668 = TraceCalls.Trace(OrderedDict, (kv,), (), [], TraceCalls.NotReturned()) # /Users/cedric/.julia/v0.6/TraceCalls/src/TraceCalls.jl, line 158:\n",
       "            TraceCalls.current_trace[] = ##new_trace#668 # /Users/cedric/.julia/v0.6/TraceCalls/src/TraceCalls.jl, line 159:\n",
       "            push!(##prev_trace#669, ##new_trace#668) # /Users/cedric/.julia/v0.6/TraceCalls/src/TraceCalls.jl, line 160:\n",
       "            try  # /Users/cedric/.julia/v0.6/TraceCalls/src/TraceCalls.jl, line 161:\n",
       "                ##res#671 = ##OrderedDict#667(kv) # /Users/cedric/.julia/v0.6/TraceCalls/src/TraceCalls.jl, line 162:\n",
       "                ##new_trace#668.value = ##res#671 # /Users/cedric/.julia/v0.6/TraceCalls/src/TraceCalls.jl, line 163:\n",
       "                return ##res#671\n",
       "            catch ##e#670 # /Users/cedric/.julia/v0.6/TraceCalls/src/TraceCalls.jl, line 165:\n",
       "                ##new_trace#668.value = ##e#670 # /Users/cedric/.julia/v0.6/TraceCalls/src/TraceCalls.jl, line 166:\n",
       "                rethrow()\n",
       "            finally  # /Users/cedric/.julia/v0.6/TraceCalls/src/TraceCalls.jl, line 168:\n",
       "                TraceCalls.current_trace[] = ##prev_trace#669\n",
       "            end\n",
       "        end\n",
       "    end\n",
       "end, quote  # /Users/cedric/.julia/v0.6/TraceCalls/src/TraceCalls.jl, line 172:\n",
       "    @inline function ##OrderedDict#672{K}(kv::Tuple{Vararg{Pair{K}}}; )::Any # /Users/cedric/.julia/v0.6/ClobberingReload/src/fundef.jl, line 81:\n",
       "            begin \n",
       "                begin  # /Users/cedric/.julia/v0.6/DataStructures/src/ordered_dict.jl, line 1:\n",
       "                    OrderedDict{K, Any}(kv)\n",
       "                end\n",
       "            end\n",
       "        end # /Users/cedric/.julia/v0.6/TraceCalls/src/TraceCalls.jl, line 173:\n",
       "    function OrderedDict{K}(kv::Tuple{Vararg{Pair{K}}}; )::Any # /Users/cedric/.julia/v0.6/ClobberingReload/src/fundef.jl, line 81:\n",
       "        begin  # /Users/cedric/.julia/v0.6/TraceCalls/src/TraceCalls.jl, line 150:\n",
       "            ##prev_trace#674 = TraceCalls.current_trace[] # /Users/cedric/.julia/v0.6/TraceCalls/src/TraceCalls.jl, line 151:\n",
       "            ##new_trace#673 = TraceCalls.Trace(OrderedDict, (kv,), (), [], TraceCalls.NotReturned()) # /Users/cedric/.julia/v0.6/TraceCalls/src/TraceCalls.jl, line 158:\n",
       "            TraceCalls.current_trace[] = ##new_trace#673 # /Users/cedric/.julia/v0.6/TraceCalls/src/TraceCalls.jl, line 159:\n",
       "            push!(##prev_trace#674, ##new_trace#673) # /Users/cedric/.julia/v0.6/TraceCalls/src/TraceCalls.jl, line 160:\n",
       "            try  # /Users/cedric/.julia/v0.6/TraceCalls/src/TraceCalls.jl, line 161:\n",
       "                ##res#676 = ##OrderedDict#672(kv) # /Users/cedric/.julia/v0.6/TraceCalls/src/TraceCalls.jl, line 162:\n",
       "                ##new_trace#673.value = ##res#676 # /Users/cedric/.julia/v0.6/TraceCalls/src/TraceCalls.jl, line 163:\n",
       "                return ##res#676\n",
       "            catch ##e#675 # /Users/cedric/.julia/v0.6/TraceCalls/src/TraceCalls.jl, line 165:\n",
       "                ##new_trace#673.value = ##e#675 # /Users/cedric/.julia/v0.6/TraceCalls/src/TraceCalls.jl, line 166:\n",
       "                rethrow()\n",
       "            finally  # /Users/cedric/.julia/v0.6/TraceCalls/src/TraceCalls.jl, line 168:\n",
       "                TraceCalls.current_trace[] = ##prev_trace#674\n",
       "            end\n",
       "        end\n",
       "    end\n",
       "end, quote  # /Users/cedric/.julia/v0.6/TraceCalls/src/TraceCalls.jl, line 172:\n",
       "    @inline function ##OrderedDict#677{}(kv::Tuple{Vararg{Pair}}; )::Any # /Users/cedric/.julia/v0.6/ClobberingReload/src/fundef.jl, line 81:\n",
       "            begin \n",
       "                begin  # /Users/cedric/.julia/v0.6/DataStructures/src/ordered_dict.jl, line 1:\n",
       "                    OrderedDict{Any, Any}(kv)\n",
       "                end\n",
       "            end\n",
       "        end # /Users/cedric/.julia/v0.6/TraceCalls/src/TraceCalls.jl, line 173:\n",
       "    function OrderedDict{}(kv::Tuple{Vararg{Pair}}; )::Any # /Users/cedric/.julia/v0.6/ClobberingReload/src/fundef.jl, line 81:\n",
       "        begin  # /Users/cedric/.julia/v0.6/TraceCalls/src/TraceCalls.jl, line 150:\n",
       "            ##prev_trace#679 = TraceCalls.current_trace[] # /Users/cedric/.julia/v0.6/TraceCalls/src/TraceCalls.jl, line 151:\n",
       "            ##new_trace#678 = TraceCalls.Trace(OrderedDict, (kv,), (), [], TraceCalls.NotReturned()) # /Users/cedric/.julia/v0.6/TraceCalls/src/TraceCalls.jl, line 158:\n",
       "            TraceCalls.current_trace[] = ##new_trace#678 # /Users/cedric/.julia/v0.6/TraceCalls/src/TraceCalls.jl, line 159:\n",
       "            push!(##prev_trace#679, ##new_trace#678) # /Users/cedric/.julia/v0.6/TraceCalls/src/TraceCalls.jl, line 160:\n",
       "            try  # /Users/cedric/.julia/v0.6/TraceCalls/src/TraceCalls.jl, line 161:\n",
       "                ##res#681 = ##OrderedDict#677(kv) # /Users/cedric/.julia/v0.6/TraceCalls/src/TraceCalls.jl, line 162:\n",
       "                ##new_trace#678.value = ##res#681 # /Users/cedric/.julia/v0.6/TraceCalls/src/TraceCalls.jl, line 163:\n",
       "                return ##res#681\n",
       "            catch ##e#680 # /Users/cedric/.julia/v0.6/TraceCalls/src/TraceCalls.jl, line 165:\n",
       "                ##new_trace#678.value = ##e#680 # /Users/cedric/.julia/v0.6/TraceCalls/src/TraceCalls.jl, line 166:\n",
       "                rethrow()\n",
       "            finally  # /Users/cedric/.julia/v0.6/TraceCalls/src/TraceCalls.jl, line 168:\n",
       "                TraceCalls.current_trace[] = ##prev_trace#679\n",
       "            end\n",
       "        end\n",
       "    end\n",
       "end, quote  # /Users/cedric/.julia/v0.6/TraceCalls/src/TraceCalls.jl, line 172:\n",
       "    @inline function ##OrderedDict#682{K, V}(kv::AbstractArray{Tuple{K, V}}; )::Any # /Users/cedric/.julia/v0.6/ClobberingReload/src/fundef.jl, line 81:\n",
       "            begin \n",
       "                begin  # /Users/cedric/.julia/v0.6/DataStructures/src/ordered_dict.jl, line 2:\n",
       "                    OrderedDict{K, V}(kv)\n",
       "                end\n",
       "            end\n",
       "        end # /Users/cedric/.julia/v0.6/TraceCalls/src/TraceCalls.jl, line 173:\n",
       "    function OrderedDict{K, V}(kv::AbstractArray{Tuple{K, V}}; )::Any # /Users/cedric/.julia/v0.6/ClobberingReload/src/fundef.jl, line 81:\n",
       "        begin  # /Users/cedric/.julia/v0.6/TraceCalls/src/TraceCalls.jl, line 150:\n",
       "            ##prev_trace#684 = TraceCalls.current_trace[] # /Users/cedric/.julia/v0.6/TraceCalls/src/TraceCalls.jl, line 151:\n",
       "            ##new_trace#683 = TraceCalls.Trace(OrderedDict, (kv,), (), [], TraceCalls.NotReturned()) # /Users/cedric/.julia/v0.6/TraceCalls/src/TraceCalls.jl, line 158:\n",
       "            TraceCalls.current_trace[] = ##new_trace#683 # /Users/cedric/.julia/v0.6/TraceCalls/src/TraceCalls.jl, line 159:\n",
       "            push!(##prev_trace#684, ##new_trace#683) # /Users/cedric/.julia/v0.6/TraceCalls/src/TraceCalls.jl, line 160:\n",
       "            try  # /Users/cedric/.julia/v0.6/TraceCalls/src/TraceCalls.jl, line 161:\n",
       "                ##res#686 = ##OrderedDict#682(kv) # /Users/cedric/.julia/v0.6/TraceCalls/src/TraceCalls.jl, line 162:\n",
       "                ##new_trace#683.value = ##res#686 # /Users/cedric/.julia/v0.6/TraceCalls/src/TraceCalls.jl, line 163:\n",
       "                return ##res#686\n",
       "            catch ##e#685 # /Users/cedric/.julia/v0.6/TraceCalls/src/TraceCalls.jl, line 165:\n",
       "                ##new_trace#683.value = ##e#685 # /Users/cedric/.julia/v0.6/TraceCalls/src/TraceCalls.jl, line 166:\n",
       "                rethrow()\n",
       "            finally  # /Users/cedric/.julia/v0.6/TraceCalls/src/TraceCalls.jl, line 168:\n",
       "                TraceCalls.current_trace[] = ##prev_trace#684\n",
       "            end\n",
       "        end\n",
       "    end\n",
       "end, quote  # /Users/cedric/.julia/v0.6/TraceCalls/src/TraceCalls.jl, line 172:\n",
       "    @inline function ##OrderedDict#687{K, V}(kv::AbstractArray{Pair{K, V}}; )::Any # /Users/cedric/.julia/v0.6/ClobberingReload/src/fundef.jl, line 81:\n",
       "            begin \n",
       "                begin  # /Users/cedric/.julia/v0.6/DataStructures/src/ordered_dict.jl, line 1:\n",
       "                    OrderedDict{K, V}(kv)\n",
       "                end\n",
       "            end\n",
       "        end # /Users/cedric/.julia/v0.6/TraceCalls/src/TraceCalls.jl, line 173:\n",
       "    function OrderedDict{K, V}(kv::AbstractArray{Pair{K, V}}; )::Any # /Users/cedric/.julia/v0.6/ClobberingReload/src/fundef.jl, line 81:\n",
       "        begin  # /Users/cedric/.julia/v0.6/TraceCalls/src/TraceCalls.jl, line 150:\n",
       "            ##prev_trace#689 = TraceCalls.current_trace[] # /Users/cedric/.julia/v0.6/TraceCalls/src/TraceCalls.jl, line 151:\n",
       "            ##new_trace#688 = TraceCalls.Trace(OrderedDict, (kv,), (), [], TraceCalls.NotReturned()) # /Users/cedric/.julia/v0.6/TraceCalls/src/TraceCalls.jl, line 158:\n",
       "            TraceCalls.current_trace[] = ##new_trace#688 # /Users/cedric/.julia/v0.6/TraceCalls/src/TraceCalls.jl, line 159:\n",
       "            push!(##prev_trace#689, ##new_trace#688) # /Users/cedric/.julia/v0.6/TraceCalls/src/TraceCalls.jl, line 160:\n",
       "            try  # /Users/cedric/.julia/v0.6/TraceCalls/src/TraceCalls.jl, line 161:\n",
       "                ##res#691 = ##OrderedDict#687(kv) # /Users/cedric/.julia/v0.6/TraceCalls/src/TraceCalls.jl, line 162:\n",
       "                ##new_trace#688.value = ##res#691 # /Users/cedric/.julia/v0.6/TraceCalls/src/TraceCalls.jl, line 163:\n",
       "                return ##res#691\n",
       "            catch ##e#690 # /Users/cedric/.julia/v0.6/TraceCalls/src/TraceCalls.jl, line 165:\n",
       "                ##new_trace#688.value = ##e#690 # /Users/cedric/.julia/v0.6/TraceCalls/src/TraceCalls.jl, line 166:\n",
       "                rethrow()\n",
       "            finally  # /Users/cedric/.julia/v0.6/TraceCalls/src/TraceCalls.jl, line 168:\n",
       "                TraceCalls.current_trace[] = ##prev_trace#689\n",
       "            end\n",
       "        end\n",
       "    end\n",
       "end, quote  # /Users/cedric/.julia/v0.6/TraceCalls/src/TraceCalls.jl, line 172:\n",
       "    @inline function ##OrderedDict#692{K, V}(kv::Associative{K, V}; )::Any # /Users/cedric/.julia/v0.6/ClobberingReload/src/fundef.jl, line 81:\n",
       "            begin \n",
       "                begin  # /Users/cedric/.julia/v0.6/DataStructures/src/ordered_dict.jl, line 1:\n",
       "                    OrderedDict{K, V}(kv)\n",
       "                end\n",
       "            end\n",
       "        end # /Users/cedric/.julia/v0.6/TraceCalls/src/TraceCalls.jl, line 173:\n",
       "    function OrderedDict{K, V}(kv::Associative{K, V}; )::Any # /Users/cedric/.julia/v0.6/ClobberingReload/src/fundef.jl, line 81:\n",
       "        begin  # /Users/cedric/.julia/v0.6/TraceCalls/src/TraceCalls.jl, line 150:\n",
       "            ##prev_trace#694 = TraceCalls.current_trace[] # /Users/cedric/.julia/v0.6/TraceCalls/src/TraceCalls.jl, line 151:\n",
       "            ##new_trace#693 = TraceCalls.Trace(OrderedDict, (kv,), (), [], TraceCalls.NotReturned()) # /Users/cedric/.julia/v0.6/TraceCalls/src/TraceCalls.jl, line 158:\n",
       "            TraceCalls.current_trace[] = ##new_trace#693 # /Users/cedric/.julia/v0.6/TraceCalls/src/TraceCalls.jl, line 159:\n",
       "            push!(##prev_trace#694, ##new_trace#693) # /Users/cedric/.julia/v0.6/TraceCalls/src/TraceCalls.jl, line 160:\n",
       "            try  # /Users/cedric/.julia/v0.6/TraceCalls/src/TraceCalls.jl, line 161:\n",
       "                ##res#696 = ##OrderedDict#692(kv) # /Users/cedric/.julia/v0.6/TraceCalls/src/TraceCalls.jl, line 162:\n",
       "                ##new_trace#693.value = ##res#696 # /Users/cedric/.julia/v0.6/TraceCalls/src/TraceCalls.jl, line 163:\n",
       "                return ##res#696\n",
       "            catch ##e#695 # /Users/cedric/.julia/v0.6/TraceCalls/src/TraceCalls.jl, line 165:\n",
       "                ##new_trace#693.value = ##e#695 # /Users/cedric/.julia/v0.6/TraceCalls/src/TraceCalls.jl, line 166:\n",
       "                rethrow()\n",
       "            finally  # /Users/cedric/.julia/v0.6/TraceCalls/src/TraceCalls.jl, line 168:\n",
       "                TraceCalls.current_trace[] = ##prev_trace#694\n",
       "            end\n",
       "        end\n",
       "    end\n",
       "end, quote  # /Users/cedric/.julia/v0.6/TraceCalls/src/TraceCalls.jl, line 172:\n",
       "    @inline function ##OrderedDict#697{K, V}(ps::Any; )::Any # /Users/cedric/.julia/v0.6/ClobberingReload/src/fundef.jl, line 81:\n",
       "            begin \n",
       "                begin  # /Users/cedric/.julia/v0.6/DataStructures/src/ordered_dict.jl, line 1:\n",
       "                    OrderedDict{K, V}(ps)\n",
       "                end\n",
       "            end\n",
       "        end # /Users/cedric/.julia/v0.6/TraceCalls/src/TraceCalls.jl, line 173:\n",
       "    function OrderedDict{K, V}(ps::Pair{K, V}...; )::Any # /Users/cedric/.julia/v0.6/ClobberingReload/src/fundef.jl, line 81:\n",
       "        begin  # /Users/cedric/.julia/v0.6/TraceCalls/src/TraceCalls.jl, line 150:\n",
       "            ##prev_trace#699 = TraceCalls.current_trace[] # /Users/cedric/.julia/v0.6/TraceCalls/src/TraceCalls.jl, line 151:\n",
       "            ##new_trace#698 = TraceCalls.Trace(OrderedDict, (ps...,), (), [], TraceCalls.NotReturned()) # /Users/cedric/.julia/v0.6/TraceCalls/src/TraceCalls.jl, line 158:\n",
       "            TraceCalls.current_trace[] = ##new_trace#698 # /Users/cedric/.julia/v0.6/TraceCalls/src/TraceCalls.jl, line 159:\n",
       "            push!(##prev_trace#699, ##new_trace#698) # /Users/cedric/.julia/v0.6/TraceCalls/src/TraceCalls.jl, line 160:\n",
       "            try  # /Users/cedric/.julia/v0.6/TraceCalls/src/TraceCalls.jl, line 161:\n",
       "                ##res#701 = ##OrderedDict#697(ps) # /Users/cedric/.julia/v0.6/TraceCalls/src/TraceCalls.jl, line 162:\n",
       "                ##new_trace#698.value = ##res#701 # /Users/cedric/.julia/v0.6/TraceCalls/src/TraceCalls.jl, line 163:\n",
       "                return ##res#701\n",
       "            catch ##e#700 # /Users/cedric/.julia/v0.6/TraceCalls/src/TraceCalls.jl, line 165:\n",
       "                ##new_trace#698.value = ##e#700 # /Users/cedric/.julia/v0.6/TraceCalls/src/TraceCalls.jl, line 166:\n",
       "                rethrow()\n",
       "            finally  # /Users/cedric/.julia/v0.6/TraceCalls/src/TraceCalls.jl, line 168:\n",
       "                TraceCalls.current_trace[] = ##prev_trace#699\n",
       "            end\n",
       "        end\n",
       "    end\n",
       "end, quote  # /Users/cedric/.julia/v0.6/TraceCalls/src/TraceCalls.jl, line 172:\n",
       "    @inline function ##OrderedDict#702{K}(ps::Any; )::Any # /Users/cedric/.julia/v0.6/ClobberingReload/src/fundef.jl, line 81:\n",
       "            begin \n",
       "                begin  # /Users/cedric/.julia/v0.6/DataStructures/src/ordered_dict.jl, line 1:\n",
       "                    OrderedDict{K, Any}(ps)\n",
       "                end\n",
       "            end\n",
       "        end # /Users/cedric/.julia/v0.6/TraceCalls/src/TraceCalls.jl, line 173:\n",
       "    function OrderedDict{K}(ps::Pair{K}...; )::Any # /Users/cedric/.julia/v0.6/ClobberingReload/src/fundef.jl, line 81:\n",
       "        begin  # /Users/cedric/.julia/v0.6/TraceCalls/src/TraceCalls.jl, line 150:\n",
       "            ##prev_trace#704 = TraceCalls.current_trace[] # /Users/cedric/.julia/v0.6/TraceCalls/src/TraceCalls.jl, line 151:\n",
       "            ##new_trace#703 = TraceCalls.Trace(OrderedDict, (ps...,), (), [], TraceCalls.NotReturned()) # /Users/cedric/.julia/v0.6/TraceCalls/src/TraceCalls.jl, line 158:\n",
       "            TraceCalls.current_trace[] = ##new_trace#703 # /Users/cedric/.julia/v0.6/TraceCalls/src/TraceCalls.jl, line 159:\n",
       "            push!(##prev_trace#704, ##new_trace#703) # /Users/cedric/.julia/v0.6/TraceCalls/src/TraceCalls.jl, line 160:\n",
       "            try  # /Users/cedric/.julia/v0.6/TraceCalls/src/TraceCalls.jl, line 161:\n",
       "                ##res#706 = ##OrderedDict#702(ps) # /Users/cedric/.julia/v0.6/TraceCalls/src/TraceCalls.jl, line 162:\n",
       "                ##new_trace#703.value = ##res#706 # /Users/cedric/.julia/v0.6/TraceCalls/src/TraceCalls.jl, line 163:\n",
       "                return ##res#706\n",
       "            catch ##e#705 # /Users/cedric/.julia/v0.6/TraceCalls/src/TraceCalls.jl, line 165:\n",
       "                ##new_trace#703.value = ##e#705 # /Users/cedric/.julia/v0.6/TraceCalls/src/TraceCalls.jl, line 166:\n",
       "                rethrow()\n",
       "            finally  # /Users/cedric/.julia/v0.6/TraceCalls/src/TraceCalls.jl, line 168:\n",
       "                TraceCalls.current_trace[] = ##prev_trace#704\n",
       "            end\n",
       "        end\n",
       "    end\n",
       "end, quote  # /Users/cedric/.julia/v0.6/TraceCalls/src/TraceCalls.jl, line 172:\n",
       "    @inline function ##OrderedDict#707{}(ps::Any; )::Any # /Users/cedric/.julia/v0.6/ClobberingReload/src/fundef.jl, line 81:\n",
       "            begin \n",
       "                begin  # /Users/cedric/.julia/v0.6/DataStructures/src/ordered_dict.jl, line 1:\n",
       "                    OrderedDict{Any, Any}(ps)\n",
       "                end\n",
       "            end\n",
       "        end # /Users/cedric/.julia/v0.6/TraceCalls/src/TraceCalls.jl, line 173:\n",
       "    function OrderedDict{}(ps::Pair...; )::Any # /Users/cedric/.julia/v0.6/ClobberingReload/src/fundef.jl, line 81:\n",
       "        begin  # /Users/cedric/.julia/v0.6/TraceCalls/src/TraceCalls.jl, line 150:\n",
       "            ##prev_trace#709 = TraceCalls.current_trace[] # /Users/cedric/.julia/v0.6/TraceCalls/src/TraceCalls.jl, line 151:\n",
       "            ##new_trace#708 = TraceCalls.Trace(OrderedDict, (ps...,), (), [], TraceCalls.NotReturned()) # /Users/cedric/.julia/v0.6/TraceCalls/src/TraceCalls.jl, line 158:\n",
       "            TraceCalls.current_trace[] = ##new_trace#708 # /Users/cedric/.julia/v0.6/TraceCalls/src/TraceCalls.jl, line 159:\n",
       "            push!(##prev_trace#709, ##new_trace#708) # /Users/cedric/.julia/v0.6/TraceCalls/src/TraceCalls.jl, line 160:\n",
       "            try  # /Users/cedric/.julia/v0.6/TraceCalls/src/TraceCalls.jl, line 161:\n",
       "                ##res#711 = ##OrderedDict#707(ps) # /Users/cedric/.julia/v0.6/TraceCalls/src/TraceCalls.jl, line 162:\n",
       "                ##new_trace#708.value = ##res#711 # /Users/cedric/.julia/v0.6/TraceCalls/src/TraceCalls.jl, line 163:\n",
       "                return ##res#711\n",
       "            catch ##e#710 # /Users/cedric/.julia/v0.6/TraceCalls/src/TraceCalls.jl, line 165:\n",
       "                ##new_trace#708.value = ##e#710 # /Users/cedric/.julia/v0.6/TraceCalls/src/TraceCalls.jl, line 166:\n",
       "                rethrow()\n",
       "            finally  # /Users/cedric/.julia/v0.6/TraceCalls/src/TraceCalls.jl, line 168:\n",
       "                TraceCalls.current_trace[] = ##prev_trace#709\n",
       "            end\n",
       "        end\n",
       "    end\n",
       "end, quote  # /Users/cedric/.julia/v0.6/TraceCalls/src/TraceCalls.jl, line 172:\n",
       "    @inline function ##OrderedDict#712{}(kv::Any; )::Any # /Users/cedric/.julia/v0.6/ClobberingReload/src/fundef.jl, line 81:\n",
       "            begin  # /Users/cedric/.julia/v0.6/DataStructures/src/ordered_dict.jl, line 3:\n",
       "                try  # /Users/cedric/.julia/v0.6/DataStructures/src/ordered_dict.jl, line 4:\n",
       "                    dict_with_eltype(kv, eltype(kv))\n",
       "                catch e # /Users/cedric/.julia/v0.6/DataStructures/src/ordered_dict.jl, line 6:\n",
       "                    if any((x->begin  # /Users/cedric/.julia/v0.6/DataStructures/src/ordered_dict.jl, line 6:\n",
       "                                        isempty(methods(x, (typeof(kv),)))\n",
       "                                    end), [start, next, done]) || !(all((x->begin  # /Users/cedric/.julia/v0.6/DataStructures/src/ordered_dict.jl, line 7:\n",
       "                                            x isa Union{Tuple, Pair}\n",
       "                                        end), kv)) # /Users/cedric/.julia/v0.6/DataStructures/src/ordered_dict.jl, line 8:\n",
       "                        throw(ArgumentError(\"Dict(kv): kv needs to be an iterator of tuples or pairs\"))\n",
       "                    else  # /Users/cedric/.julia/v0.6/DataStructures/src/ordered_dict.jl, line 10:\n",
       "                        rethrow(e)\n",
       "                    end\n",
       "                end\n",
       "            end\n",
       "        end # /Users/cedric/.julia/v0.6/TraceCalls/src/TraceCalls.jl, line 173:\n",
       "    function OrderedDict{}(kv::Any; )::Any # /Users/cedric/.julia/v0.6/ClobberingReload/src/fundef.jl, line 81:\n",
       "        begin  # /Users/cedric/.julia/v0.6/TraceCalls/src/TraceCalls.jl, line 150:\n",
       "            ##prev_trace#714 = TraceCalls.current_trace[] # /Users/cedric/.julia/v0.6/TraceCalls/src/TraceCalls.jl, line 151:\n",
       "            ##new_trace#713 = TraceCalls.Trace(OrderedDict, (kv,), (), [], TraceCalls.NotReturned()) # /Users/cedric/.julia/v0.6/TraceCalls/src/TraceCalls.jl, line 158:\n",
       "            TraceCalls.current_trace[] = ##new_trace#713 # /Users/cedric/.julia/v0.6/TraceCalls/src/TraceCalls.jl, line 159:\n",
       "            push!(##prev_trace#714, ##new_trace#713) # /Users/cedric/.julia/v0.6/TraceCalls/src/TraceCalls.jl, line 160:\n",
       "            try  # /Users/cedric/.julia/v0.6/TraceCalls/src/TraceCalls.jl, line 161:\n",
       "                ##res#716 = ##OrderedDict#712(kv) # /Users/cedric/.julia/v0.6/TraceCalls/src/TraceCalls.jl, line 162:\n",
       "                ##new_trace#713.value = ##res#716 # /Users/cedric/.julia/v0.6/TraceCalls/src/TraceCalls.jl, line 163:\n",
       "                return ##res#716\n",
       "            catch ##e#715 # /Users/cedric/.julia/v0.6/TraceCalls/src/TraceCalls.jl, line 165:\n",
       "                ##new_trace#713.value = ##e#715 # /Users/cedric/.julia/v0.6/TraceCalls/src/TraceCalls.jl, line 166:\n",
       "                rethrow()\n",
       "            finally  # /Users/cedric/.julia/v0.6/TraceCalls/src/TraceCalls.jl, line 168:\n",
       "                TraceCalls.current_trace[] = ##prev_trace#714\n",
       "            end\n",
       "        end\n",
       "    end\n",
       "end], DataStructures, \"/Users/cedric/.julia/v0.6/DataStructures/src/ordered_dict.jl\")"
      ]
     },
     "execution_count": 6,
     "metadata": {},
     "output_type": "execute_result"
    }
   ],
   "source": [
    "upd = TraceCalls.traceable_update(DataStructures.OrderedDict).apply[1]"
   ]
  },
  {
   "cell_type": "code",
   "execution_count": 8,
   "metadata": {},
   "outputs": [
    {
     "name": "stdout",
     "output_type": "stream",
     "text": [
      "i = 1\n",
      "i = 2\n",
      "i = 3\n",
      "i = 4\n",
      "i = 5\n",
      "i = 6\n",
      "i = 7\n",
      "i = 8\n",
      "i = 9\n"
     ]
    },
    {
     "ename": "LoadError",
     "evalue": "\u001b[91mMethodError: no method matching ##OrderedDict#697(::Tuple{Pair{Int64,Int64},Pair{Int64,Int64}})\u001b[0m\nClosest candidates are:\n  ##OrderedDict#697(::Any) where {K, V} at /Users/cedric/.julia/v0.6/ClobberingReload/src/fundef.jl:81\u001b[39m",
     "output_type": "error",
     "traceback": [
      "\u001b[91mMethodError: no method matching ##OrderedDict#697(::Tuple{Pair{Int64,Int64},Pair{Int64,Int64}})\u001b[0m\nClosest candidates are:\n  ##OrderedDict#697(::Any) where {K, V} at /Users/cedric/.julia/v0.6/ClobberingReload/src/fundef.jl:81\u001b[39m",
      "",
      "Stacktrace:",
      " [1] \u001b[1mmacro expansion\u001b[22m\u001b[22m at \u001b[1m/Users/cedric/.julia/v0.6/TraceCalls/src/TraceCalls.jl:161\u001b[22m\u001b[22m [inlined]",
      " [2] \u001b[1mDataStructures.OrderedDict\u001b[22m\u001b[22m\u001b[1m(\u001b[22m\u001b[22m::Pair{Int64,Int64}, ::Pair{Int64,Int64}\u001b[1m)\u001b[22m\u001b[22m at \u001b[1m/Users/cedric/.julia/v0.6/ClobberingReload/src/fundef.jl:81\u001b[22m\u001b[22m",
      " [3] \u001b[1mmacro expansion\u001b[22m\u001b[22m at \u001b[1m./In[8]:4\u001b[22m\u001b[22m [inlined]",
      " [4] \u001b[1manonymous\u001b[22m\u001b[22m at \u001b[1m./<missing>:?\u001b[22m\u001b[22m"
     ]
    }
   ],
   "source": [
    "for i in 1:length(upd)\n",
    "    @show i\n",
    "    apply_code!(upd[i:i])\n",
    "    @eval OrderedDict(1=>2, 3=>4)\n",
    "end"
   ]
  },
  {
   "cell_type": "code",
   "execution_count": 9,
   "metadata": {},
   "outputs": [
    {
     "data": {
      "text/plain": [
       "quote  # /Users/cedric/.julia/v0.6/TraceCalls/src/TraceCalls.jl, line 172:\n",
       "    @inline function ##OrderedDict#697{K, V}(ps::Any; )::Any # /Users/cedric/.julia/v0.6/ClobberingReload/src/fundef.jl, line 81:\n",
       "            begin \n",
       "                begin  # /Users/cedric/.julia/v0.6/DataStructures/src/ordered_dict.jl, line 1:\n",
       "                    OrderedDict{K, V}(ps)\n",
       "                end\n",
       "            end\n",
       "        end # /Users/cedric/.julia/v0.6/TraceCalls/src/TraceCalls.jl, line 173:\n",
       "    function OrderedDict{K, V}(ps::Pair{K, V}...; )::Any # /Users/cedric/.julia/v0.6/ClobberingReload/src/fundef.jl, line 81:\n",
       "        begin  # /Users/cedric/.julia/v0.6/TraceCalls/src/TraceCalls.jl, line 150:\n",
       "            ##prev_trace#699 = TraceCalls.current_trace[] # /Users/cedric/.julia/v0.6/TraceCalls/src/TraceCalls.jl, line 151:\n",
       "            ##new_trace#698 = TraceCalls.Trace(OrderedDict, (ps...,), (), [], TraceCalls.NotReturned()) # /Users/cedric/.julia/v0.6/TraceCalls/src/TraceCalls.jl, line 158:\n",
       "            TraceCalls.current_trace[] = ##new_trace#698 # /Users/cedric/.julia/v0.6/TraceCalls/src/TraceCalls.jl, line 159:\n",
       "            push!(##prev_trace#699, ##new_trace#698) # /Users/cedric/.julia/v0.6/TraceCalls/src/TraceCalls.jl, line 160:\n",
       "            try  # /Users/cedric/.julia/v0.6/TraceCalls/src/TraceCalls.jl, line 161:\n",
       "                ##res#701 = ##OrderedDict#697(ps) # /Users/cedric/.julia/v0.6/TraceCalls/src/TraceCalls.jl, line 162:\n",
       "                ##new_trace#698.value = ##res#701 # /Users/cedric/.julia/v0.6/TraceCalls/src/TraceCalls.jl, line 163:\n",
       "                return ##res#701\n",
       "            catch ##e#700 # /Users/cedric/.julia/v0.6/TraceCalls/src/TraceCalls.jl, line 165:\n",
       "                ##new_trace#698.value = ##e#700 # /Users/cedric/.julia/v0.6/TraceCalls/src/TraceCalls.jl, line 166:\n",
       "                rethrow()\n",
       "            finally  # /Users/cedric/.julia/v0.6/TraceCalls/src/TraceCalls.jl, line 168:\n",
       "                TraceCalls.current_trace[] = ##prev_trace#699\n",
       "            end\n",
       "        end\n",
       "    end\n",
       "end"
      ]
     },
     "execution_count": 9,
     "metadata": {},
     "output_type": "execute_result"
    }
   ],
   "source": [
    "upd[9]"
   ]
  },
  {
   "cell_type": "code",
   "execution_count": 23,
   "metadata": {
    "scrolled": false
   },
   "outputs": [
    {
     "name": "stderr",
     "output_type": "stream",
     "text": [
      "\u001b[1m\u001b[33mWARNING: \u001b[39m\u001b[22m\u001b[33mOnly 0/1 methods of DataStructures.OrderedDict in /Applications/Julia-0.6.app/Contents/Resources/julia/bin/../share/julia/base/sysimg.jl were found.\u001b[39m\n"
     ]
    },
    {
     "ename": "LoadError",
     "evalue": "\u001b[91mUndefVarError: longdef1 not defined\u001b[39m",
     "output_type": "error",
     "traceback": [
      "\u001b[91mUndefVarError: longdef1 not defined\u001b[39m",
      "",
      "Stacktrace:",
      " [1] \u001b[1m(::ClobberingReload.##46#47{TraceCalls.#traceable_update_handle_expr,Module,UnionAll})\u001b[22m\u001b[22m\u001b[1m(\u001b[22m\u001b[22m::Expr\u001b[1m)\u001b[22m\u001b[22m at \u001b[1m/Users/cedric/.julia/v0.6/ClobberingReload/src/code_update.jl:155\u001b[22m\u001b[22m",
      " [2] \u001b[1m#44\u001b[22m\u001b[22m at \u001b[1m/Users/cedric/.julia/v0.6/ClobberingReload/src/code_update.jl:120\u001b[22m\u001b[22m [inlined]",
      " [3] \u001b[1m(::ClobberingReload.##39#43{ClobberingReload.##44#45{ClobberingReload.##46#47{TraceCalls.#traceable_update_handle_expr,Module,UnionAll}}})\u001b[22m\u001b[22m\u001b[1m(\u001b[22m\u001b[22m::Expr\u001b[1m)\u001b[22m\u001b[22m at \u001b[1m./<missing>:0\u001b[22m\u001b[22m",
      " [4] \u001b[1mcollect_to!\u001b[22m\u001b[22m\u001b[1m(\u001b[22m\u001b[22m::Array{Tuple{Void,Void},1}, ::Base.Generator{Array{Any,1},ClobberingReload.##39#43{ClobberingReload.##44#45{ClobberingReload.##46#47{TraceCalls.#traceable_update_handle_expr,Module,UnionAll}}}}, ::Int64, ::Int64\u001b[1m)\u001b[22m\u001b[22m at \u001b[1m./array.jl:474\u001b[22m\u001b[22m",
      " [5] \u001b[1mcollect\u001b[22m\u001b[22m\u001b[1m(\u001b[22m\u001b[22m::Base.Generator{Array{Any,1},ClobberingReload.##39#43{ClobberingReload.##44#45{ClobberingReload.##46#47{TraceCalls.#traceable_update_handle_expr,Module,UnionAll}}}}\u001b[1m)\u001b[22m\u001b[22m at \u001b[1m./array.jl:442\u001b[22m\u001b[22m",
      " [6] \u001b[1mupdate_code_many\u001b[22m\u001b[22m\u001b[1m(\u001b[22m\u001b[22m::ClobberingReload.##44#45{ClobberingReload.##46#47{TraceCalls.#traceable_update_handle_expr,Module,UnionAll}}, ::Module, ::String\u001b[1m)\u001b[22m\u001b[22m at \u001b[1m/Users/cedric/.julia/v0.6/ClobberingReload/src/code_update.jl:85\u001b[22m\u001b[22m",
      " [7] \u001b[1mupdate_code_revertible\u001b[22m\u001b[22m\u001b[1m(\u001b[22m\u001b[22m::Function, ::Module, ::String\u001b[1m)\u001b[22m\u001b[22m at \u001b[1m/Users/cedric/.julia/v0.6/ClobberingReload/src/code_update.jl:148\u001b[22m\u001b[22m",
      " [8] \u001b[1m(::ClobberingReload.#update#56{TraceCalls.#traceable_update_handle_expr,UnionAll})\u001b[22m\u001b[22m\u001b[1m(\u001b[22m\u001b[22m::Module, ::String, ::Int64\u001b[1m)\u001b[22m\u001b[22m at \u001b[1m/Users/cedric/.julia/v0.6/ClobberingReload/src/code_update.jl:198\u001b[22m\u001b[22m",
      " [9] \u001b[1m(::ClobberingReload.##54#57)\u001b[22m\u001b[22m\u001b[1m(\u001b[22m\u001b[22m::Pair{Any,Any}\u001b[1m)\u001b[22m\u001b[22m at \u001b[1m./<missing>:0\u001b[22m\u001b[22m",
      " [10] \u001b[1mappend_any\u001b[22m\u001b[22m\u001b[1m(\u001b[22m\u001b[22m::Base.Generator{Dict{Any,Any},ClobberingReload.##54#57}, ::Vararg{Base.Generator{Dict{Any,Any},ClobberingReload.##54#57},N} where N\u001b[1m)\u001b[22m\u001b[22m at \u001b[1m./essentials.jl:169\u001b[22m\u001b[22m",
      " [11] \u001b[1m#update_code_revertible#52\u001b[22m\u001b[22m\u001b[1m(\u001b[22m\u001b[22m::TraceCalls.#custom_when_missing, ::Function, ::Function, ::Type{DataStructures.OrderedDict}\u001b[1m)\u001b[22m\u001b[22m at \u001b[1m/Users/cedric/.julia/v0.6/ClobberingReload/src/code_update.jl:207\u001b[22m\u001b[22m",
      " [12] \u001b[1m(::ClobberingReload.#kw##update_code_revertible)\u001b[22m\u001b[22m\u001b[1m(\u001b[22m\u001b[22m::Array{Any,1}, ::ClobberingReload.#update_code_revertible, ::Function, ::Type{DataStructures.OrderedDict}\u001b[1m)\u001b[22m\u001b[22m at \u001b[1m./<missing>:0\u001b[22m\u001b[22m",
      " [13] \u001b[1mtraceable_update\u001b[22m\u001b[22m\u001b[1m(\u001b[22m\u001b[22m::Type{DataStructures.OrderedDict}\u001b[1m)\u001b[22m\u001b[22m at \u001b[1m/Users/cedric/.julia/v0.6/TraceCalls/src/TraceCalls.jl:220\u001b[22m\u001b[22m"
     ]
    }
   ],
   "source": [
    "TraceCalls.traceable_update(DataStructures.OrderedDict).apply[2]"
   ]
  },
  {
   "cell_type": "code",
   "execution_count": 19,
   "metadata": {
    "scrolled": false
   },
   "outputs": [
    {
     "name": "stderr",
     "output_type": "stream",
     "text": [
      "\u001b[1m\u001b[33mWARNING: \u001b[39m\u001b[22m\u001b[33mOnly 0/1 methods of DataStructures.OrderedDict in /Applications/Julia-0.6.app/Contents/Resources/julia/bin/../share/julia/base/sysimg.jl were found.\u001b[39m\n"
     ]
    },
    {
     "data": {
      "text/plain": [
       "DataStructures.OrderedDict"
      ]
     },
     "execution_count": 19,
     "metadata": {},
     "output_type": "execute_result"
    }
   ],
   "source": [
    "apply_code!(TraceCalls.traceable_update(DataStructures.OrderedDict).apply[2])"
   ]
  },
  {
   "cell_type": "code",
   "execution_count": 21,
   "metadata": {},
   "outputs": [
    {
     "ename": "LoadError",
     "evalue": "\u001b[91mMethodError: no method matching ##OrderedDict#697(::Tuple{Pair{Int64,Int64},Pair{Int64,Int64}})\u001b[0m\nClosest candidates are:\n  ##OrderedDict#697(::Any) where {K, V} at /Users/cedric/.julia/v0.6/ClobberingReload/src/fundef.jl:81\u001b[39m",
     "output_type": "error",
     "traceback": [
      "\u001b[91mMethodError: no method matching ##OrderedDict#697(::Tuple{Pair{Int64,Int64},Pair{Int64,Int64}})\u001b[0m\nClosest candidates are:\n  ##OrderedDict#697(::Any) where {K, V} at /Users/cedric/.julia/v0.6/ClobberingReload/src/fundef.jl:81\u001b[39m",
      "",
      "Stacktrace:",
      " [1] \u001b[1mmacro expansion\u001b[22m\u001b[22m at \u001b[1m/Users/cedric/.julia/v0.6/TraceCalls/src/TraceCalls.jl:161\u001b[22m\u001b[22m [inlined]",
      " [2] \u001b[1mDataStructures.OrderedDict\u001b[22m\u001b[22m\u001b[1m(\u001b[22m\u001b[22m::Pair{Int64,Int64}, ::Pair{Int64,Int64}\u001b[1m)\u001b[22m\u001b[22m at \u001b[1m/Users/cedric/.julia/v0.6/ClobberingReload/src/fundef.jl:81\u001b[22m\u001b[22m"
     ]
    }
   ],
   "source": [
    "OrderedDict(1=>2, 3=>4)"
   ]
  },
  {
   "cell_type": "code",
   "execution_count": 3,
   "metadata": {},
   "outputs": [
    {
     "name": "stderr",
     "output_type": "stream",
     "text": [
      "\u001b[1m\u001b[33mWARNING: \u001b[39m\u001b[22m\u001b[33mOnly 0/1 methods of DataStructures.OrderedDict in /Applications/Julia-0.6.app/Contents/Resources/julia/bin/../share/julia/base/sysimg.jl were found.\u001b[39m\n"
     ]
    },
    {
     "data": {
      "text/html": [
       "<pre><a href=\"https://github.com/cstjean/TraceCalls.jl/tree/c08df9e8f1b3ba32d12c406913e9b263e6307e0a//src/TraceCalls.jl#L251\" target=\"_blank\" style=\"color: black; text-decoration: none; border-bottom: 1px #C3C3C3 dotted\">TraceCalls.#18</a>() => <b><font color=green>DataStructures.OrderedDict(1=>2,3=>4)</font></b></pre><ul><li><pre><a href=\"https://github.com/JuliaCollections/DataStructures.jl/tree/ba696672be809f812dfef079819564b6065ffd36//src/ordered_dict.jl#L1\" target=\"_blank\" style=\"color: black; text-decoration: none; border-bottom: 1px #C3C3C3 dotted\">DataStructures.OrderedDict</a>(1=>2, 3=>4) => <b><font color=green>DataStructures.OrderedDict(1=>2,3=>4)</font></b></pre><ul></ul></li></ul>"
      ],
      "text/plain": [
       "TraceCalls.Trace(TraceCalls.#18, (), (), TraceCalls.Trace[TraceCalls.Trace(DataStructures.OrderedDict, (1=>2, 3=>4), (), TraceCalls.Trace[], DataStructures.OrderedDict(1=>2,3=>4))], DataStructures.OrderedDict(1=>2,3=>4))"
      ]
     },
     "execution_count": 3,
     "metadata": {},
     "output_type": "execute_result"
    }
   ],
   "source": [
    "tr = @trace DataStructures.OrderedDict OrderedDict(1=>2, 3=>4)"
   ]
  },
  {
   "cell_type": "code",
   "execution_count": 14,
   "metadata": {},
   "outputs": [
    {
     "data": {
      "text/plain": [
       "DataStructures.OrderedDict{Int64,Int64} with 2 entries:\n",
       "  1 => 2\n",
       "  3 => 4"
      ]
     },
     "execution_count": 14,
     "metadata": {},
     "output_type": "execute_result"
    }
   ],
   "source": [
    "tr[1]()"
   ]
  },
  {
   "cell_type": "code",
   "execution_count": 3,
   "metadata": {},
   "outputs": [
    {
     "data": {
      "text/html": [
       "<pre><a href=\"https://github.com/cstjean/TraceCalls.jl/tree/5df93d531045a8473622df291eef21314f4f46d4//src/TraceCalls.jl#L247\" target=\"_blank\" style=\"color: black; text-decoration: none; border-bottom: 1px #C3C3C3 dotted\">TraceCalls.#16</a>() => <b><font color=green>3.141592653589793</font></b></pre><ul><li><pre><a href=\"https://github.com/JuliaPy/PyCall.jl/tree/f863d82b34969017432be784954029575b2e3e61//src/PyCall.jl#L374\" target=\"_blank\" style=\"color: black; text-decoration: none; border-bottom: 1px #C3C3C3 dotted\">PyCall.pyimport</a>(:math) => <b><font color=green>PyObject <module 'math' from '/Users/cedric/.julia/v0.6/Conda/deps/usr/lib/python2.7/lib-dynload/math.so'></font></b></pre><ul><li><pre><a href=\"https://github.com/JuliaPy/PyCall.jl/tree/f863d82b34969017432be784954029575b2e3e61//src/PyCall.jl#L368\" target=\"_blank\" style=\"color: black; text-decoration: none; border-bottom: 1px #C3C3C3 dotted\">PyCall.pyimport</a>(\"math\") => <b><font color=green>PyObject <module 'math' from '/Users/cedric/.julia/v0.6/Conda/deps/usr/lib/python2.7/lib-dynload/math.so'></font></b></pre><ul></ul></li></ul></li><li><pre><a href=\"https://github.com/JuliaPy/PyCall.jl/tree/f863d82b34969017432be784954029575b2e3e61//src/PyCall.jl#L248\" target=\"_blank\" style=\"color: black; text-decoration: none; border-bottom: 1px #C3C3C3 dotted\">getindex</a>(PyObject <module 'math' from '/Users/cedric/.julia/v0.6/Conda/deps/usr/lib/python2.7/lib-dynload/math.so'>, :pi) => <b><font color=green>3.141592653589793</font></b></pre><ul><li><pre><a href=\"https://github.com/JuliaPy/PyCall.jl/tree/f863d82b34969017432be784954029575b2e3e61//src/PyCall.jl#L237\" target=\"_blank\" style=\"color: black; text-decoration: none; border-bottom: 1px #C3C3C3 dotted\">getindex</a>(PyObject <module 'math' from '/Users/cedric/.julia/v0.6/Conda/deps/usr/lib/python2.7/lib-dynload/math.so'>, \"pi\") => <b><font color=green>PyObject 3.141592653589793</font></b></pre><ul><li><pre><a href=\"https://github.com/JuliaPy/PyCall.jl/tree/f863d82b34969017432be784954029575b2e3e61//src/PyCall.jl#L141\" target=\"_blank\" style=\"color: black; text-decoration: none; border-bottom: 1px #C3C3C3 dotted\">Base.unsafe_convert</a>(Ptr{PyCall.PyObject_struct}, PyObject <module 'math' from '/Users/cedric/.julia/v0.6/Conda/deps/usr/lib/python2.7/lib-dynload/math.so'>) => <b><font color=green>Ptr{PyCall.PyObject_struct} @0x00000001236c18a0</font></b></pre><ul></ul></li></ul></li><li><pre><a href=\"https://github.com/JuliaPy/PyCall.jl/tree/f863d82b34969017432be784954029575b2e3e61//src/conversions.jl#L3\" target=\"_blank\" style=\"color: black; text-decoration: none; border-bottom: 1px #C3C3C3 dotted\">convert</a>(PyCall.PyAny, PyObject 3.141592653589793) => <b><font color=green>3.141592653589793</font></b></pre><ul><li><pre><a href=\"https://github.com/JuliaPy/PyCall.jl/tree/f863d82b34969017432be784954029575b2e3e61//src/conversions.jl#L11\" target=\"_blank\" style=\"color: black; text-decoration: none; border-bottom: 1px #C3C3C3 dotted\">PyCall.pytype_query</a>(PyObject 3.141592653589793, PyCall.PyObject) => <b><font color=green>Float64</font></b></pre><ul><li><pre><a href=\"https://github.com/JuliaPy/PyCall.jl/tree/f863d82b34969017432be784954029575b2e3e61//src/conversions.jl#L15\" target=\"_blank\" style=\"color: black; text-decoration: none; border-bottom: 1px #C3C3C3 dotted\">PyCall.pyint_query</a>(PyObject 3.141592653589793) => <b><font color=green>Union{}</font></b></pre><ul><li><pre><a href=\"https://github.com/JuliaPy/PyCall.jl/tree/f863d82b34969017432be784954029575b2e3e61//src/PyCall.jl#L134\" target=\"_blank\" style=\"color: black; text-decoration: none; border-bottom: 1px #C3C3C3 dotted\">PyCall.pyisinstance</a>(PyObject 3.141592653589793, Ptr{PyCall.PyObject_struct} @0x0000000123495c98) => <b><font color=green>false</font></b></pre><ul><li><pre><a href=\"https://github.com/JuliaPy/PyCall.jl/tree/f863d82b34969017432be784954029575b2e3e61//src/PyCall.jl#L141\" target=\"_blank\" style=\"color: black; text-decoration: none; border-bottom: 1px #C3C3C3 dotted\">Base.unsafe_convert</a>(Ptr{PyCall.PyObject_struct}, PyObject 3.141592653589793) => <b><font color=green>Ptr{PyCall.PyObject_struct} @0x00007faa8e926000</font></b></pre><ul></ul></li></ul></li><li><pre><a href=\"https://github.com/JuliaPy/PyCall.jl/tree/f863d82b34969017432be784954029575b2e3e61//src/PyCall.jl#L134\" target=\"_blank\" style=\"color: black; text-decoration: none; border-bottom: 1px #C3C3C3 dotted\">PyCall.pyisinstance</a>(PyObject 3.141592653589793, Ptr{PyCall.PyObject_struct} @0x0000000123497aa8) => <b><font color=green>false</font></b></pre><ul><li><pre><a href=\"https://github.com/JuliaPy/PyCall.jl/tree/f863d82b34969017432be784954029575b2e3e61//src/PyCall.jl#L141\" target=\"_blank\" style=\"color: black; text-decoration: none; border-bottom: 1px #C3C3C3 dotted\">Base.unsafe_convert</a>(Ptr{PyCall.PyObject_struct}, PyObject 3.141592653589793) => <b><font color=green>Ptr{PyCall.PyObject_struct} @0x00007faa8e926000</font></b></pre><ul></ul></li></ul></li><li><pre><a href=\"https://github.com/JuliaPy/PyCall.jl/tree/f863d82b34969017432be784954029575b2e3e61//src/PyCall.jl#L131\" target=\"_blank\" style=\"color: black; text-decoration: none; border-bottom: 1px #C3C3C3 dotted\">PyCall.pyisinstance</a>(PyObject 3.141592653589793, PyObject NULL) => <b><font color=green>false</font></b></pre><ul></ul></li></ul></li><li><pre><a href=\"https://github.com/JuliaPy/PyCall.jl/tree/f863d82b34969017432be784954029575b2e3e61//src/PyCall.jl#L131\" target=\"_blank\" style=\"color: black; text-decoration: none; border-bottom: 1px #C3C3C3 dotted\">PyCall.pyisinstance</a>(PyObject 3.141592653589793, PyObject NULL) => <b><font color=green>false</font></b></pre><ul></ul></li><li><pre><a href=\"https://github.com/JuliaPy/PyCall.jl/tree/f863d82b34969017432be784954029575b2e3e61//src/conversions.jl#L2\" target=\"_blank\" style=\"color: black; text-decoration: none; border-bottom: 1px #C3C3C3 dotted\">PyCall.pyfloat_query</a>(PyObject 3.141592653589793) => <b><font color=green>Float64</font></b></pre><ul><li><pre><a href=\"https://github.com/JuliaPy/PyCall.jl/tree/f863d82b34969017432be784954029575b2e3e61//src/PyCall.jl#L134\" target=\"_blank\" style=\"color: black; text-decoration: none; border-bottom: 1px #C3C3C3 dotted\">PyCall.pyisinstance</a>(PyObject 3.141592653589793, Ptr{PyCall.PyObject_struct} @0x0000000123493998) => <b><font color=green>true</font></b></pre><ul><li><pre><a href=\"https://github.com/JuliaPy/PyCall.jl/tree/f863d82b34969017432be784954029575b2e3e61//src/PyCall.jl#L141\" target=\"_blank\" style=\"color: black; text-decoration: none; border-bottom: 1px #C3C3C3 dotted\">Base.unsafe_convert</a>(Ptr{PyCall.PyObject_struct}, PyObject 3.141592653589793) => <b><font color=green>Ptr{PyCall.PyObject_struct} @0x00007faa8e926000</font></b></pre><ul></ul></li></ul></li></ul></li></ul></li><li><pre><a href=\"https://github.com/JuliaPy/PyCall.jl/tree/f863d82b34969017432be784954029575b2e3e61//src/conversions.jl#L2\" target=\"_blank\" style=\"color: black; text-decoration: none; border-bottom: 1px #C3C3C3 dotted\">convert</a>(Float64, PyObject 3.141592653589793) => <b><font color=green>3.141592653589793</font></b></pre><ul><li><pre><a href=\"https://github.com/JuliaPy/PyCall.jl/tree/f863d82b34969017432be784954029575b2e3e61//src/conversions.jl#L6\" target=\"_blank\" style=\"color: black; text-decoration: none; border-bottom: 1px #C3C3C3 dotted\">PyCall.asscalar</a>(PyObject 3.141592653589793) => <b><font color=green>PyObject 3.141592653589793</font></b></pre><ul><li><pre><a href=\"https://github.com/JuliaPy/PyCall.jl/tree/f863d82b34969017432be784954029575b2e3e61//src/PyCall.jl#L131\" target=\"_blank\" style=\"color: black; text-decoration: none; border-bottom: 1px #C3C3C3 dotted\">PyCall.pyisinstance</a>(PyObject 3.141592653589793, PyObject NULL) => <b><font color=green>false</font></b></pre><ul></ul></li></ul></li><li><pre><a href=\"https://github.com/JuliaPy/PyCall.jl/tree/f863d82b34969017432be784954029575b2e3e61//src/PyCall.jl#L141\" target=\"_blank\" style=\"color: black; text-decoration: none; border-bottom: 1px #C3C3C3 dotted\">Base.unsafe_convert</a>(Ptr{PyCall.PyObject_struct}, PyObject 3.141592653589793) => <b><font color=green>Ptr{PyCall.PyObject_struct} @0x00007faa8e926000</font></b></pre><ul></ul></li><li><pre><a href=\"https://github.com/JuliaPy/PyCall.jl/tree/f863d82b34969017432be784954029575b2e3e61//src/exception.jl#L3\" target=\"_blank\" style=\"color: black; text-decoration: none; border-bottom: 1px #C3C3C3 dotted\">PyCall.pyerr_check</a>(\"ccall(@pysym(:PyFloat_AsDouble), Cdouble, (PyPtr,), asscalar(po))\", 3.141592653589793) => <b><font color=green>3.141592653589793</font></b></pre><ul></ul></li></ul></li></ul></li></ul></li></ul>"
      ],
      "text/plain": [
       "TraceCalls.Trace(TraceCalls.#16, (), (), TraceCalls.Trace[TraceCalls.Trace(PyCall.pyimport, (:math,), (), TraceCalls.Trace[TraceCalls.Trace(PyCall.pyimport, (\"math\",), (), TraceCalls.Trace[], PyObject <module 'math' from '/Users/cedric/.julia/v0.6/Conda/deps/usr/lib/python2.7/lib-dynload/math.so'>)], PyObject <module 'math' from '/Users/cedric/.julia/v0.6/Conda/deps/usr/lib/python2.7/lib-dynload/math.so'>), TraceCalls.Trace(getindex, (PyObject <module 'math' from '/Users/cedric/.julia/v0.6/Conda/deps/usr/lib/python2.7/lib-dynload/math.so'>, :pi), (), TraceCalls.Trace[TraceCalls.Trace(getindex, (PyObject <module 'math' from '/Users/cedric/.julia/v0.6/Conda/deps/usr/lib/python2.7/lib-dynload/math.so'>, \"pi\"), (), TraceCalls.Trace[TraceCalls.Trace(Base.unsafe_convert, (Ptr{PyCall.PyObject_struct}, PyObject <module 'math' from '/Users/cedric/.julia/v0.6/Conda/deps/usr/lib/python2.7/lib-dynload/math.so'>), (), TraceCalls.Trace[], Ptr{PyCall.PyObject_struct} @0x00000001236c18a0)], PyObject 3.141592653589793), TraceCalls.Trace(convert, (PyCall.PyAny, PyObject 3.141592653589793), (), TraceCalls.Trace[TraceCalls.Trace(PyCall.pytype_query, (PyObject 3.141592653589793, PyCall.PyObject), (), TraceCalls.Trace[TraceCalls.Trace(PyCall.pyint_query, (PyObject 3.141592653589793,), (), TraceCalls.Trace[TraceCalls.Trace(PyCall.pyisinstance, (PyObject 3.141592653589793, Ptr{PyCall.PyObject_struct} @0x0000000123495c98), (), TraceCalls.Trace[TraceCalls.Trace(Base.unsafe_convert, (Ptr{PyCall.PyObject_struct}, PyObject 3.141592653589793), (), TraceCalls.Trace[], Ptr{PyCall.PyObject_struct} @0x00007faa8e926000)], false), TraceCalls.Trace(PyCall.pyisinstance, (PyObject 3.141592653589793, Ptr{PyCall.PyObject_struct} @0x0000000123497aa8), (), TraceCalls.Trace[TraceCalls.Trace(Base.unsafe_convert, (Ptr{PyCall.PyObject_struct}, PyObject 3.141592653589793), (), TraceCalls.Trace[], Ptr{PyCall.PyObject_struct} @0x00007faa8e926000)], false), TraceCalls.Trace(PyCall.pyisinstance, (PyObject 3.141592653589793, PyObject NULL), (), TraceCalls.Trace[], false)], Union{}), TraceCalls.Trace(PyCall.pyisinstance, (PyObject 3.141592653589793, PyObject NULL), (), TraceCalls.Trace[], false), TraceCalls.Trace(PyCall.pyfloat_query, (PyObject 3.141592653589793,), (), TraceCalls.Trace[TraceCalls.Trace(PyCall.pyisinstance, (PyObject 3.141592653589793, Ptr{PyCall.PyObject_struct} @0x0000000123493998), (), TraceCalls.Trace[TraceCalls.Trace(Base.unsafe_convert, (Ptr{PyCall.PyObject_struct}, PyObject 3.141592653589793), (), TraceCalls.Trace[], Ptr{PyCall.PyObject_struct} @0x00007faa8e926000)], true)], Float64)], Float64), TraceCalls.Trace(convert, (Float64, PyObject 3.141592653589793), (), TraceCalls.Trace[TraceCalls.Trace(PyCall.asscalar, (PyObject 3.141592653589793,), (), TraceCalls.Trace[TraceCalls.Trace(PyCall.pyisinstance, (PyObject 3.141592653589793, PyObject NULL), (), TraceCalls.Trace[], false)], PyObject 3.141592653589793), TraceCalls.Trace(Base.unsafe_convert, (Ptr{PyCall.PyObject_struct}, PyObject 3.141592653589793), (), TraceCalls.Trace[], Ptr{PyCall.PyObject_struct} @0x00007faa8e926000), TraceCalls.Trace(PyCall.pyerr_check, (\"ccall(@pysym(:PyFloat_AsDouble), Cdouble, (PyPtr,), asscalar(po))\", 3.14159), (), TraceCalls.Trace[], 3.14159)], 3.14159)], 3.14159)], 3.14159)], 3.141592653589793)"
      ]
     },
     "execution_count": 3,
     "metadata": {},
     "output_type": "execute_result"
    }
   ],
   "source": [
    "@trace PyCall pyimport(:math)[:pi]"
   ]
  }
 ],
 "metadata": {
  "kernelspec": {
   "display_name": "Julia 0.6.0-pre.beta",
   "language": "julia",
   "name": "julia-0.6"
  },
  "language_info": {
   "file_extension": ".jl",
   "mimetype": "application/julia",
   "name": "julia",
   "version": "0.6.0"
  }
 },
 "nbformat": 4,
 "nbformat_minor": 2
}
