{
 "cells": [
  {
   "cell_type": "markdown",
   "metadata": {},
   "source": [
    "# Contents\n",
    "\n",
    "[Overview](#Overview)\n",
    "\n",
    "[Tracing code](#Tracing-code)\n",
    "  * [Syntax](#Syntax)\n",
    "  * [Implementation](#Implementation-of-@trace)\n",
    "\n",
    "[Manipulating traces](#Manipulating-traces)\n",
    "  * [Custom text/HTML](#Custom-text/HTML)\n",
    "  * [Map, filter, collect](#Map,-filter,-collect)\n",
    "\n",
    "[Working with mutable state](#Working-with-mutable-state)\n",
    "\n",
    "[Debugging with traces](#Debugging-with-traces)\n",
    "  * [Debugging test failures](#Debugging-test-failures)\n",
    "\n",
    "[Profiling](#Profiling)"
   ]
  },
  {
   "cell_type": "markdown",
   "metadata": {},
   "source": [
    "# Overview\n",
    "\n",
    "TraceCalls.jl is a functional tracing package, for debugging and exploring Julia code. It records and displays a tree of function calls. For example, here is how [Calculus.jl](https://github.com/johnmyleswhite/Calculus.jl) computes the second-derivative of `sin(x) + sqrt(x)`:"
   ]
  },
  {
   "cell_type": "code",
   "execution_count": 1,
   "metadata": {},
   "outputs": [
    {
     "name": "stderr",
     "output_type": "stream",
     "text": [
      "\u001b[1m\u001b[36mINFO: \u001b[39m\u001b[22m\u001b[36mRecompiling stale cache file /Users/cedric/.julia/lib/v0.6/TraceCalls.ji for module TraceCalls.\n",
      "\u001b[39m"
     ]
    },
    {
     "data": {
      "text/html": [
       "<pre><a href=\"https://github.com/cstjean/TraceCalls.jl/tree/32ecf967e9f7197d5a6d0b63ba5e2d4d088aa93f//src/TraceCalls.jl#L265\" target=\"_blank\" style=\"color: black; text-decoration: none; border-bottom: 1px #C3C3C3 dotted\">#1</a>() => <b><font color=green>-1.0914708926553454</font></b></pre><ul><li><pre><a href=\"https://github.com/johnmyleswhite/Calculus.jl/tree/f7b5556a9ebd0cdde45f15d1b2cde331fe5efdd4//src/derivative.jl#L2\" target=\"_blank\" style=\"color: black; text-decoration: none; border-bottom: 1px #C3C3C3 dotted\">Calculus.second_derivative</a>(f, 1.0) => <b><font color=green>-1.0914708926553454</font></b></pre><ul><li><pre><a href=\"https://github.com/johnmyleswhite/Calculus.jl/tree/f7b5556a9ebd0cdde45f15d1b2cde331fe5efdd4//src/derivative.jl#L1\" target=\"_blank\" style=\"color: black; text-decoration: none; border-bottom: 1px #C3C3C3 dotted\">Calculus.derivative</a>(f, :central) => <b><font color=green>Calculus.#27</font></b></pre><ul><li><pre><a href=\"https://github.com/johnmyleswhite/Calculus.jl/tree/f7b5556a9ebd0cdde45f15d1b2cde331fe5efdd4//src/derivative.jl#L2\" target=\"_blank\" style=\"color: black; text-decoration: none; border-bottom: 1px #C3C3C3 dotted\">Calculus.derivative</a>(f, :scalar, :central) => <b><font color=green>Calculus.#27</font></b></pre><ul></ul></li></ul></li><li><pre><a href=\"https://github.com/johnmyleswhite/Calculus.jl/tree/f7b5556a9ebd0cdde45f15d1b2cde331fe5efdd4//src/finite_difference.jl#L5\" target=\"_blank\" style=\"color: black; text-decoration: none; border-bottom: 1px #C3C3C3 dotted\">Calculus.finite_difference_hessian</a>(f, Calculus.#27, 1.0, :central) => <b><font color=green>-1.0914708926553454</font></b></pre><ul><li><pre><a href=\"https://github.com/johnmyleswhite/Calculus.jl/tree/f7b5556a9ebd0cdde45f15d1b2cde331fe5efdd4//src/finite_difference.jl#L5\" target=\"_blank\" style=\"color: black; text-decoration: none; border-bottom: 1px #C3C3C3 dotted\">Calculus.finite_difference</a>(Calculus.#27, 1.0, :central) => <b><font color=green>-1.0914708926553454</font></b></pre><ul><li><pre><a href=\"https://github.com/johnmyleswhite/Calculus.jl/tree/f7b5556a9ebd0cdde45f15d1b2cde331fe5efdd4//src/finite_difference.jl#L5\" target=\"_blank\" style=\"color: black; text-decoration: none; border-bottom: 1px #C3C3C3 dotted\">Calculus.finite_difference</a>(f, 1.0000060554544523, :central) => <b><font color=green>1.0402956965076036</font></b></pre><ul><li><pre>f(1.0000121109455733) => <b><font color=green>1.8414835837724568</font></b></pre><ul></ul></li><li><pre>f(0.9999999999633314) => <b><font color=green>1.8414709847697501</font></b></pre><ul></ul></li></ul></li><li><pre><a href=\"https://github.com/johnmyleswhite/Calculus.jl/tree/f7b5556a9ebd0cdde45f15d1b2cde331fe5efdd4//src/finite_difference.jl#L5\" target=\"_blank\" style=\"color: black; text-decoration: none; border-bottom: 1px #C3C3C3 dotted\">Calculus.finite_difference</a>(f, 0.9999939445455476, :central) => <b><font color=green>1.0403089152121567</font></b></pre><ul><li><pre>f(1.0) => <b><font color=green>1.8414709848078965</font></b></pre><ul></ul></li><li><pre>f(0.9999878890910952) => <b><font color=green>1.8414583857213915</font></b></pre><ul></ul></li></ul></li></ul></li></ul></li></ul></li></ul>"
      ],
      "text/plain": [
       "TraceCalls.Trace(#1, (), (), TraceCalls.Trace[TraceCalls.Trace(Calculus.second_derivative, (f, 1.0), (), TraceCalls.Trace[TraceCalls.Trace(Calculus.derivative, (f, :central), (), TraceCalls.Trace[TraceCalls.Trace(Calculus.derivative, (f, :scalar, :central), (), TraceCalls.Trace[], Calculus.#27)], Calculus.#27), TraceCalls.Trace(Calculus.finite_difference_hessian, (f, Calculus.#27, 1.0, :central), (), TraceCalls.Trace[TraceCalls.Trace(Calculus.finite_difference, (Calculus.#27, 1.0, :central), (), TraceCalls.Trace[TraceCalls.Trace(Calculus.finite_difference, (f, 1.00001, :central), (), TraceCalls.Trace[TraceCalls.Trace(f, (1.00001,), (), TraceCalls.Trace[], 1.84148), TraceCalls.Trace(f, (1.0,), (), TraceCalls.Trace[], 1.84147)], 1.0403), TraceCalls.Trace(Calculus.finite_difference, (f, 0.999994, :central), (), TraceCalls.Trace[TraceCalls.Trace(f, (1.0,), (), TraceCalls.Trace[], 1.84147), TraceCalls.Trace(f, (0.999988,), (), TraceCalls.Trace[], 1.84146)], 1.04031)], -1.09147)], -1.09147)], -1.09147)], -1.0914708926553454)"
      ]
     },
     "execution_count": 1,
     "metadata": {},
     "output_type": "execute_result"
    }
   ],
   "source": [
    "using Calculus, TraceCalls\n",
    "\n",
    "@traceable f(x) = sin(x) + sqrt(x)\n",
    "trace_derivative = @trace Calculus second_derivative(f, 1.0)"
   ]
  },
  {
   "cell_type": "markdown",
   "metadata": {},
   "source": [
    "The output of `@trace` is a `Trace` object --- an explorable tree-like datastructure:"
   ]
  },
  {
   "cell_type": "code",
   "execution_count": 2,
   "metadata": {},
   "outputs": [
    {
     "data": {
      "text/html": [
       "<pre><a href=\"https://github.com/johnmyleswhite/Calculus.jl/tree/f7b5556a9ebd0cdde45f15d1b2cde331fe5efdd4//src/derivative.jl#L1\" target=\"_blank\" style=\"color: black; text-decoration: none; border-bottom: 1px #C3C3C3 dotted\">Calculus.derivative</a>(f, :central) => <b><font color=green>Calculus.#27</font></b></pre><ul><li><pre><a href=\"https://github.com/johnmyleswhite/Calculus.jl/tree/f7b5556a9ebd0cdde45f15d1b2cde331fe5efdd4//src/derivative.jl#L2\" target=\"_blank\" style=\"color: black; text-decoration: none; border-bottom: 1px #C3C3C3 dotted\">Calculus.derivative</a>(f, :scalar, :central) => <b><font color=green>Calculus.#27</font></b></pre><ul></ul></li></ul>"
      ],
      "text/plain": [
       "TraceCalls.Trace(Calculus.derivative, (f, :central), (), TraceCalls.Trace[TraceCalls.Trace(Calculus.derivative, (f, :scalar, :central), (), TraceCalls.Trace[], Calculus.#27)], Calculus.#27)"
      ]
     },
     "execution_count": 2,
     "metadata": {},
     "output_type": "execute_result"
    }
   ],
   "source": [
    "trace_derivative[1][1]          # get the first call of the first call."
   ]
  },
  {
   "cell_type": "code",
   "execution_count": 3,
   "metadata": {},
   "outputs": [
    {
     "data": {
      "text/plain": [
       ":central"
      ]
     },
     "execution_count": 3,
     "metadata": {},
     "output_type": "execute_result"
    }
   ],
   "source": [
    "trace_derivative[1][1].args[2]  # get its second argument"
   ]
  },
  {
   "cell_type": "markdown",
   "metadata": {},
   "source": [
    "It can work as a [more-informative stack-trace](#Debugging-with-traces) (which contains _values_ rather than just types - see `@stacktrace`):"
   ]
  },
  {
   "cell_type": "code",
   "execution_count": 4,
   "metadata": {},
   "outputs": [
    {
     "data": {
      "text/html": [
       "<pre><a href=\"https://github.com/cstjean/TraceCalls.jl/tree/32ecf967e9f7197d5a6d0b63ba5e2d4d088aa93f//src/TraceCalls.jl#L265\" target=\"_blank\" style=\"color: black; text-decoration: none; border-bottom: 1px #C3C3C3 dotted\">#3</a>() => <font color=red>DomainError()</font></pre><ul><li><pre><a href=\"https://github.com/johnmyleswhite/Calculus.jl/tree/f7b5556a9ebd0cdde45f15d1b2cde331fe5efdd4//src/derivative.jl#L2\" target=\"_blank\" style=\"color: black; text-decoration: none; border-bottom: 1px #C3C3C3 dotted\">Calculus.second_derivative</a>(f, 0.0) => <font color=red>DomainError()</font></pre><ul><li><pre><a href=\"https://github.com/johnmyleswhite/Calculus.jl/tree/f7b5556a9ebd0cdde45f15d1b2cde331fe5efdd4//src/derivative.jl#L1\" target=\"_blank\" style=\"color: black; text-decoration: none; border-bottom: 1px #C3C3C3 dotted\">Calculus.derivative</a>(f, :central) => <b><font color=green>Calculus.#65</font></b></pre><ul><li><pre><a href=\"https://github.com/johnmyleswhite/Calculus.jl/tree/f7b5556a9ebd0cdde45f15d1b2cde331fe5efdd4//src/derivative.jl#L2\" target=\"_blank\" style=\"color: black; text-decoration: none; border-bottom: 1px #C3C3C3 dotted\">Calculus.derivative</a>(f, :scalar, :central) => <b><font color=green>Calculus.#65</font></b></pre><ul></ul></li></ul></li><li><pre><a href=\"https://github.com/johnmyleswhite/Calculus.jl/tree/f7b5556a9ebd0cdde45f15d1b2cde331fe5efdd4//src/finite_difference.jl#L5\" target=\"_blank\" style=\"color: black; text-decoration: none; border-bottom: 1px #C3C3C3 dotted\">Calculus.finite_difference_hessian</a>(f, Calculus.#65, 0.0, :central) => <font color=red>DomainError()</font></pre><ul><li><pre><a href=\"https://github.com/johnmyleswhite/Calculus.jl/tree/f7b5556a9ebd0cdde45f15d1b2cde331fe5efdd4//src/finite_difference.jl#L5\" target=\"_blank\" style=\"color: black; text-decoration: none; border-bottom: 1px #C3C3C3 dotted\">Calculus.finite_difference</a>(Calculus.#65, 0.0, :central) => <font color=red>DomainError()</font></pre><ul><li><pre><a href=\"https://github.com/johnmyleswhite/Calculus.jl/tree/f7b5556a9ebd0cdde45f15d1b2cde331fe5efdd4//src/finite_difference.jl#L5\" target=\"_blank\" style=\"color: black; text-decoration: none; border-bottom: 1px #C3C3C3 dotted\">Calculus.finite_difference</a>(f, 6.0554544523933395e-6, :central) => <b><font color=green>288.35028436717505</font></b></pre><ul><li><pre>f(1.2110908904786679e-5) => <b><font color=green>0.0034921840266401915</font></b></pre><ul></ul></li><li><pre>f(0.0) => <b><font color=green>0.0</font></b></pre><ul></ul></li></ul></li><li><pre><a href=\"https://github.com/johnmyleswhite/Calculus.jl/tree/f7b5556a9ebd0cdde45f15d1b2cde331fe5efdd4//src/finite_difference.jl#L5\" target=\"_blank\" style=\"color: black; text-decoration: none; border-bottom: 1px #C3C3C3 dotted\">Calculus.finite_difference</a>(f, -6.0554544523933395e-6, :central) => <font color=red>DomainError()</font></pre><ul><li><pre>f(0.0) => <b><font color=green>0.0</font></b></pre><ul></ul></li><li><pre>f(-1.2110908904786679e-5) => <font color=red>DomainError()</font></pre><ul></ul></li></ul></li></ul></li></ul></li></ul></li></ul>"
      ],
      "text/plain": [
       "TraceCalls.Trace(#3, (), (), TraceCalls.Trace[TraceCalls.Trace(Calculus.second_derivative, (f, 0.0), (), TraceCalls.Trace[TraceCalls.Trace(Calculus.derivative, (f, :central), (), TraceCalls.Trace[TraceCalls.Trace(Calculus.derivative, (f, :scalar, :central), (), TraceCalls.Trace[], Calculus.#65)], Calculus.#65), TraceCalls.Trace(Calculus.finite_difference_hessian, (f, Calculus.#65, 0.0, :central), (), TraceCalls.Trace[TraceCalls.Trace(Calculus.finite_difference, (Calculus.#65, 0.0, :central), (), TraceCalls.Trace[TraceCalls.Trace(Calculus.finite_difference, (f, 6.05545e-6, :central), (), TraceCalls.Trace[TraceCalls.Trace(f, (1.21109e-5,), (), TraceCalls.Trace[], 0.00349218), TraceCalls.Trace(f, (0.0,), (), TraceCalls.Trace[], 0.0)], 288.35), TraceCalls.Trace(Calculus.finite_difference, (f, -6.05545e-6, :central), (), TraceCalls.Trace[TraceCalls.Trace(f, (0.0,), (), TraceCalls.Trace[], 0.0), TraceCalls.Trace(f, (-1.21109e-5,), (), TraceCalls.Trace[], DomainError())], DomainError())], DomainError())], DomainError())], DomainError())], DomainError())"
      ]
     },
     "execution_count": 4,
     "metadata": {},
     "output_type": "execute_result"
    }
   ],
   "source": [
    "@trace Calculus second_derivative(f, 0.0)"
   ]
  },
  {
   "cell_type": "markdown",
   "metadata": {},
   "source": [
    "And finally, since full call data is recorded, we can rerun every part of the trace for [profiling](#Profiling), debugging, or testing."
   ]
  },
  {
   "cell_type": "code",
   "execution_count": 26,
   "metadata": {},
   "outputs": [
    {
     "data": {
      "text/html": [
       "<pre><a href=\"https://github.com/cstjean/TraceCalls.jl/tree/32ecf967e9f7197d5a6d0b63ba5e2d4d088aa93f//src/TraceCalls.jl#L265\" target=\"_blank\" style=\"color: black; text-decoration: none; border-bottom: 1px #C3C3C3 dotted\">#1</a>() => <b><font color=green><font color=ff0000>256</font></font></b></pre><ul><li><pre><a href=\"https://github.com/johnmyleswhite/Calculus.jl/tree/f7b5556a9ebd0cdde45f15d1b2cde331fe5efdd4//src/derivative.jl#L2\" target=\"_blank\" style=\"color: black; text-decoration: none; border-bottom: 1px #C3C3C3 dotted\">Calculus.second_derivative</a>(f, 1.0) => <b><font color=green><font color=ff0000>256</font></font></b></pre><ul><li><pre><a href=\"https://github.com/johnmyleswhite/Calculus.jl/tree/f7b5556a9ebd0cdde45f15d1b2cde331fe5efdd4//src/derivative.jl#L1\" target=\"_blank\" style=\"color: black; text-decoration: none; border-bottom: 1px #C3C3C3 dotted\">Calculus.derivative</a>(f, :central) => <b><font color=green><font color=ff0000>208</font></font></b></pre><ul><li><pre><a href=\"https://github.com/johnmyleswhite/Calculus.jl/tree/f7b5556a9ebd0cdde45f15d1b2cde331fe5efdd4//src/derivative.jl#L2\" target=\"_blank\" style=\"color: black; text-decoration: none; border-bottom: 1px #C3C3C3 dotted\">Calculus.derivative</a>(f, :scalar, :central) => <b><font color=green><font color=ff0000>208</font></font></b></pre><ul></ul></li></ul></li><li><pre><a href=\"https://github.com/johnmyleswhite/Calculus.jl/tree/f7b5556a9ebd0cdde45f15d1b2cde331fe5efdd4//src/finite_difference.jl#L5\" target=\"_blank\" style=\"color: black; text-decoration: none; border-bottom: 1px #C3C3C3 dotted\">Calculus.finite_difference_hessian</a>(f, Calculus.#27, 1.0, :central) => <b><font color=green><font color=ff0000>16</font></font></b></pre><ul><li><pre><a href=\"https://github.com/johnmyleswhite/Calculus.jl/tree/f7b5556a9ebd0cdde45f15d1b2cde331fe5efdd4//src/finite_difference.jl#L5\" target=\"_blank\" style=\"color: black; text-decoration: none; border-bottom: 1px #C3C3C3 dotted\">Calculus.finite_difference</a>(Calculus.#27, 1.0, :central) => <b><font color=green><font color=ff0000>16</font></font></b></pre><ul><li><pre><a href=\"https://github.com/johnmyleswhite/Calculus.jl/tree/f7b5556a9ebd0cdde45f15d1b2cde331fe5efdd4//src/finite_difference.jl#L5\" target=\"_blank\" style=\"color: black; text-decoration: none; border-bottom: 1px #C3C3C3 dotted\">Calculus.finite_difference</a>(f, 1.0000060554544523, :central) => <b><font color=green><font color=00ff00>0</font></font></b></pre><ul><li><pre>f(1.0000121109455733) => <b><font color=green><font color=00ff00>0</font></font></b></pre><ul></ul></li><li><pre>f(0.9999999999633314) => <b><font color=green><font color=00ff00>0</font></font></b></pre><ul></ul></li></ul></li><li><pre><a href=\"https://github.com/johnmyleswhite/Calculus.jl/tree/f7b5556a9ebd0cdde45f15d1b2cde331fe5efdd4//src/finite_difference.jl#L5\" target=\"_blank\" style=\"color: black; text-decoration: none; border-bottom: 1px #C3C3C3 dotted\">Calculus.finite_difference</a>(f, 0.9999939445455476, :central) => <b><font color=green><font color=00ff00>0</font></font></b></pre><ul><li><pre>f(1.0) => <b><font color=green><font color=00ff00>0</font></font></b></pre><ul></ul></li><li><pre>f(0.9999878890910952) => <b><font color=green><font color=00ff00>0</font></font></b></pre><ul></ul></li></ul></li></ul></li></ul></li></ul></li></ul>"
      ],
      "text/plain": [
       "TraceCalls.Trace(#1, (), (), TraceCalls.Trace[TraceCalls.Trace(Calculus.second_derivative, (f, 1.0), (), TraceCalls.Trace[TraceCalls.Trace(Calculus.derivative, (f, :central), (), TraceCalls.Trace[TraceCalls.Trace(Calculus.derivative, (f, :scalar, :central), (), TraceCalls.Trace[], TraceCalls.FontColor(\"ff0000\", 208))], TraceCalls.FontColor(\"ff0000\", 208)), TraceCalls.Trace(Calculus.finite_difference_hessian, (f, Calculus.#27, 1.0, :central), (), TraceCalls.Trace[TraceCalls.Trace(Calculus.finite_difference, (Calculus.#27, 1.0, :central), (), TraceCalls.Trace[TraceCalls.Trace(Calculus.finite_difference, (f, 1.00001, :central), (), TraceCalls.Trace[TraceCalls.Trace(f, (1.00001,), (), TraceCalls.Trace[], TraceCalls.FontColor(\"00ff00\", 0)), TraceCalls.Trace(f, (1.0,), (), TraceCalls.Trace[], TraceCalls.FontColor(\"00ff00\", 0))], TraceCalls.FontColor(\"00ff00\", 0)), TraceCalls.Trace(Calculus.finite_difference, (f, 0.999994, :central), (), TraceCalls.Trace[TraceCalls.Trace(f, (1.0,), (), TraceCalls.Trace[], TraceCalls.FontColor(\"00ff00\", 0)), TraceCalls.Trace(f, (0.999988,), (), TraceCalls.Trace[], TraceCalls.FontColor(\"00ff00\", 0))], TraceCalls.FontColor(\"00ff00\", 0))], TraceCalls.FontColor(\"ff0000\", 16))], TraceCalls.FontColor(\"ff0000\", 16))], TraceCalls.FontColor(\"ff0000\", 256))], TraceCalls.FontColor(\"ff0000\", 256))"
      ]
     },
     "execution_count": 26,
     "metadata": {},
     "output_type": "execute_result"
    }
   ],
   "source": [
    "greenred(map(:@allocated, trace_derivative))    # compute how many bytes were allocated in each function call"
   ]
  },
  {
   "cell_type": "markdown",
   "metadata": {},
   "source": [
    "# Tracing code\n",
    "\n",
    "The best way to trace your own codebase is to annotate key functions with `@traceable`."
   ]
  },
  {
   "cell_type": "code",
   "execution_count": 6,
   "metadata": {},
   "outputs": [
    {
     "data": {
      "text/html": [
       "<pre><a href=\"https://github.com/cstjean/TraceCalls.jl/tree/32ecf967e9f7197d5a6d0b63ba5e2d4d088aa93f//src/TraceCalls.jl#L261\" target=\"_blank\" style=\"color: black; text-decoration: none; border-bottom: 1px #C3C3C3 dotted\">#17</a>() => <b><font color=green>3.0</font></b></pre><ul><li><pre>my_factorial(3) => <b><font color=green>6</font></b></pre><ul><li><pre>my_factorial(2) => <b><font color=green>2</font></b></pre><ul><li><pre>my_factorial(1) => <b><font color=green>1</font></b></pre><ul><li><pre>my_factorial(0) => <b><font color=green>1</font></b></pre><ul></ul></li></ul></li></ul></li></ul></li><li><pre>my_factorial(1) => <b><font color=green>1</font></b></pre><ul><li><pre>my_factorial(0) => <b><font color=green>1</font></b></pre><ul></ul></li></ul></li><li><pre>my_factorial(2) => <b><font color=green>2</font></b></pre><ul><li><pre>my_factorial(1) => <b><font color=green>1</font></b></pre><ul><li><pre>my_factorial(0) => <b><font color=green>1</font></b></pre><ul></ul></li></ul></li></ul></li></ul>"
      ],
      "text/plain": [
       "TraceCalls.Trace(#17, (), (), TraceCalls.Trace[TraceCalls.Trace(my_factorial, (3,), (), TraceCalls.Trace[TraceCalls.Trace(my_factorial, (2,), (), TraceCalls.Trace[TraceCalls.Trace(my_factorial, (1,), (), TraceCalls.Trace[TraceCalls.Trace(my_factorial, (0,), (), TraceCalls.Trace[], 1)], 1)], 2)], 6), TraceCalls.Trace(my_factorial, (1,), (), TraceCalls.Trace[TraceCalls.Trace(my_factorial, (0,), (), TraceCalls.Trace[], 1)], 1), TraceCalls.Trace(my_factorial, (2,), (), TraceCalls.Trace[TraceCalls.Trace(my_factorial, (1,), (), TraceCalls.Trace[TraceCalls.Trace(my_factorial, (0,), (), TraceCalls.Trace[], 1)], 1)], 2)], 3.0)"
      ]
     },
     "execution_count": 6,
     "metadata": {},
     "output_type": "execute_result"
    }
   ],
   "source": [
    "@traceable function my_factorial(n)\n",
    "    if n==0\n",
    "        return 1\n",
    "    else\n",
    "        return n * my_factorial(n-1)\n",
    "    end\n",
    "end\n",
    "\n",
    "# How many ways there are of selecting k objects amongst n. See https://en.wikipedia.org/wiki/Combination\n",
    "combination(k, n) = my_factorial(n) / (my_factorial(n-k) * my_factorial(k))\n",
    "\n",
    "@trace combination(2, 3)"
   ]
  },
  {
   "cell_type": "markdown",
   "metadata": {},
   "source": [
    "In the example above, `my_factorial` is traced (each call to it will be recorded when `@trace` is used), but `combination` isn't. Crucially, the `@traceable` macro merely remembers the function definition, it does not modify it in any way, which means that **@traceable has zero impact on the performance of your code**. Sprinkle it liberally!\n",
    "\n",
    "When it's not practical to add `@traceable` annotations, you can trace entire modules or specific functions by passing them to the `@trace` macro:"
   ]
  },
  {
   "cell_type": "code",
   "execution_count": 7,
   "metadata": {},
   "outputs": [
    {
     "name": "stderr",
     "output_type": "stream",
     "text": [
      "\u001b[1m\u001b[33mWARNING: \u001b[39m\u001b[22m\u001b[33mOnly 0/1 methods of DataStructures.compare in /Users/cedric/.julia/v0.6/DataStructures/src/tokens2.jl were found.\u001b[39m\n"
     ]
    },
    {
     "data": {
      "text/html": [
       "<pre><a href=\"https://github.com/cstjean/TraceCalls.jl/tree/32ecf967e9f7197d5a6d0b63ba5e2d4d088aa93f//src/TraceCalls.jl#L265\" target=\"_blank\" style=\"color: black; text-decoration: none; border-bottom: 1px #C3C3C3 dotted\">#19</a>() => <b><font color=green>[68, 21, 14]</font></b></pre><ul><li><pre><a href=\"https://github.com/JuliaCollections/DataStructures.jl/tree/ba696672be809f812dfef079819564b6065ffd36//src/heaps.jl#L5\" target=\"_blank\" style=\"color: black; text-decoration: none; border-bottom: 1px #C3C3C3 dotted\">DataStructures.nextreme</a>(DataStructures.LessThan(), 3, [0, 21, -12, 68, -25, 14]) => <b><font color=green>[68, 21, 14]</font></b></pre><ul><li><pre><a href=\"https://github.com/JuliaCollections/DataStructures.jl/tree/ba696672be809f812dfef079819564b6065ffd36//src/heaps.jl#L2\" target=\"_blank\" style=\"color: black; text-decoration: none; border-bottom: 1px #C3C3C3 dotted\">DataStructures.compare</a>(DataStructures.LessThan(), 21, 0) => <b><font color=green>false</font></b></pre><ul></ul></li><li><pre><a href=\"https://github.com/JuliaCollections/DataStructures.jl/tree/ba696672be809f812dfef079819564b6065ffd36//src/heaps.jl#L2\" target=\"_blank\" style=\"color: black; text-decoration: none; border-bottom: 1px #C3C3C3 dotted\">DataStructures.compare</a>(DataStructures.LessThan(), -12, 0) => <b><font color=green>true</font></b></pre><ul></ul></li><li><pre><a href=\"https://github.com/JuliaCollections/DataStructures.jl/tree/ba696672be809f812dfef079819564b6065ffd36//src/heaps.jl#L2\" target=\"_blank\" style=\"color: black; text-decoration: none; border-bottom: 1px #C3C3C3 dotted\">DataStructures.compare</a>(DataStructures.LessThan(), -12, 68) => <b><font color=green>true</font></b></pre><ul></ul></li><li><pre><a href=\"https://github.com/JuliaCollections/DataStructures.jl/tree/ba696672be809f812dfef079819564b6065ffd36//src/heaps.jl#L2\" target=\"_blank\" style=\"color: black; text-decoration: none; border-bottom: 1px #C3C3C3 dotted\">DataStructures.compare</a>(DataStructures.LessThan(), 21, 0) => <b><font color=green>false</font></b></pre><ul></ul></li><li><pre><a href=\"https://github.com/JuliaCollections/DataStructures.jl/tree/ba696672be809f812dfef079819564b6065ffd36//src/heaps.jl#L2\" target=\"_blank\" style=\"color: black; text-decoration: none; border-bottom: 1px #C3C3C3 dotted\">DataStructures.compare</a>(DataStructures.LessThan(), 68, 0) => <b><font color=green>false</font></b></pre><ul></ul></li><li><pre><a href=\"https://github.com/JuliaCollections/DataStructures.jl/tree/ba696672be809f812dfef079819564b6065ffd36//src/heaps.jl#L2\" target=\"_blank\" style=\"color: black; text-decoration: none; border-bottom: 1px #C3C3C3 dotted\">DataStructures.compare</a>(DataStructures.LessThan(), 0, -25) => <b><font color=green>false</font></b></pre><ul></ul></li><li><pre><a href=\"https://github.com/JuliaCollections/DataStructures.jl/tree/ba696672be809f812dfef079819564b6065ffd36//src/heaps.jl#L2\" target=\"_blank\" style=\"color: black; text-decoration: none; border-bottom: 1px #C3C3C3 dotted\">DataStructures.compare</a>(DataStructures.LessThan(), 0, 14) => <b><font color=green>true</font></b></pre><ul></ul></li><li><pre><a href=\"https://github.com/JuliaCollections/DataStructures.jl/tree/ba696672be809f812dfef079819564b6065ffd36//src/heaps.jl#L2\" target=\"_blank\" style=\"color: black; text-decoration: none; border-bottom: 1px #C3C3C3 dotted\">DataStructures.compare</a>(DataStructures.LessThan(), 21, 68) => <b><font color=green>true</font></b></pre><ul></ul></li><li><pre><a href=\"https://github.com/JuliaCollections/DataStructures.jl/tree/ba696672be809f812dfef079819564b6065ffd36//src/heaps.jl#L2\" target=\"_blank\" style=\"color: black; text-decoration: none; border-bottom: 1px #C3C3C3 dotted\">DataStructures.compare</a>(DataStructures.LessThan(), 14, 21) => <b><font color=green>true</font></b></pre><ul></ul></li><li><pre><a href=\"https://github.com/JuliaCollections/DataStructures.jl/tree/ba696672be809f812dfef079819564b6065ffd36//src/heaps.jl#L2\" target=\"_blank\" style=\"color: black; text-decoration: none; border-bottom: 1px #C3C3C3 dotted\">DataStructures.compare</a>(DataStructures.LessThan(), 68, 21) => <b><font color=green>false</font></b></pre><ul></ul></li></ul></li></ul>"
      ],
      "text/plain": [
       "TraceCalls.Trace(#19, (), (), TraceCalls.Trace[TraceCalls.Trace(DataStructures.nextreme, (DataStructures.LessThan(), 3, [0, 21, -12, 68, -25, 14]), (), TraceCalls.Trace[TraceCalls.Trace(DataStructures.compare, (DataStructures.LessThan(), 21, 0), (), TraceCalls.Trace[], false), TraceCalls.Trace(DataStructures.compare, (DataStructures.LessThan(), -12, 0), (), TraceCalls.Trace[], true), TraceCalls.Trace(DataStructures.compare, (DataStructures.LessThan(), -12, 68), (), TraceCalls.Trace[], true), TraceCalls.Trace(DataStructures.compare, (DataStructures.LessThan(), 21, 0), (), TraceCalls.Trace[], false), TraceCalls.Trace(DataStructures.compare, (DataStructures.LessThan(), 68, 0), (), TraceCalls.Trace[], false), TraceCalls.Trace(DataStructures.compare, (DataStructures.LessThan(), 0, -25), (), TraceCalls.Trace[], false), TraceCalls.Trace(DataStructures.compare, (DataStructures.LessThan(), 0, 14), (), TraceCalls.Trace[], true), TraceCalls.Trace(DataStructures.compare, (DataStructures.LessThan(), 21, 68), (), TraceCalls.Trace[], true), TraceCalls.Trace(DataStructures.compare, (DataStructures.LessThan(), 14, 21), (), TraceCalls.Trace[], true), TraceCalls.Trace(DataStructures.compare, (DataStructures.LessThan(), 68, 21), (), TraceCalls.Trace[], false)], [68, 21, 14])], [68, 21, 14])"
      ]
     },
     "execution_count": 7,
     "metadata": {},
     "output_type": "execute_result"
    }
   ],
   "source": [
    "using DataStructures\n",
    "to_trace = (DataStructures.nextreme, compare)\n",
    "@trace to_trace nlargest(3, [0,21,-12,68,-25,14])  # returns the 3 largest values in the vector"
   ]
  },
  {
   "cell_type": "markdown",
   "metadata": {},
   "source": [
    "`@trace` attempts to find the source of every method of the traced functions, and emits a warning (see above) when it is missing some. When tracing modules, `@trace` has to parse their source code looking for function definitions (using [Revise.jl](https://github.com/timholy/Revise.jl)). That is an inexact science; many functions will not be traced. In particular, `@trace` and `@traceable` ignore:\n",
    "\n",
    " - Inner constructors\n",
    " - Functions that are defined by `eval`\n",
    " - Function definitions inside a macro (eg. `@inline foo(x) = x+2`), unless `@traceable` is part of its function definition.\n",
    " - Callable objects (eg. `(func::Functor)(x) = ...`)\n",
    "\n",
    "#### Syntax\n",
    "\n",
    "The full syntax of `@trace` is:\n",
    "\n",
    "    @trace (object1, object2, ...) code_to_execute\n",
    "    \n",
    "where each `object` can be a function, a module, or a filename (that was already interactively `include`d). It will trace the methods defined in the objects, _and all methods that were defined with `@traceable`_. The shorthand `@trace code_to_trace` is equivalent to `@trace () code_to_trace`.\n",
    "\n",
    "#### Implementation of @trace\n",
    "\n",
    "`@trace some_fn foo(10)` performs these operations:\n",
    "\n",
    "1. Replace the definition(s) of `some_fn` with a tracing version (using `eval`)\n",
    "2. Run `foo(10)`\n",
    "3. Restore the original definition(s) of `some_fn` (using `eval`)\n",
    "\n",
    "The downside of this scheme is that `@trace` can cause significant JIT compiling time. Tracing large modules can be slow the first time around, but caching is used to avoid repeated computations."
   ]
  },
  {
   "cell_type": "markdown",
   "metadata": {},
   "source": [
    "# Manipulating traces\n",
    "\n",
    "Consider computing a [random walk](https://en.wikipedia.org/wiki/Random_walk) on a small graph, using [LightGraphs.jl](http://juliagraphs.github.io/LightGraphs.jl/latest/)"
   ]
  },
  {
   "cell_type": "code",
   "execution_count": 8,
   "metadata": {},
   "outputs": [
    {
     "data": {
      "text/html": [
       "<pre><a href=\"https://github.com/cstjean/TraceCalls.jl/tree/32ecf967e9f7197d5a6d0b63ba5e2d4d088aa93f//src/TraceCalls.jl#L265\" target=\"_blank\" style=\"color: black; text-decoration: none; border-bottom: 1px #C3C3C3 dotted\">#21</a>() => <b><font color=green>[2, 1, 2, 3, 2]</font></b></pre><ul><li><pre><a href=\"https://github.com/JuliaGraphs/LightGraphs.jl/tree/da0c350205820b03c4fd3e008fdc3e67d7e748fc//src/traversals/randomwalks.jl#L8\" target=\"_blank\" style=\"color: black; text-decoration: none; border-bottom: 1px #C3C3C3 dotted\">LightGraphs.randomwalk</a>({3, 2} undirected simple Int64 graph, 2, 5) => <b><font color=green>[2, 1, 2, 3, 2]</font></b></pre><ul><li><pre><a href=\"https://github.com/JuliaGraphs/LightGraphs.jl/tree/da0c350205820b03c4fd3e008fdc3e67d7e748fc//src/graphtypes/simplegraphs/simplegraph.jl#L2\" target=\"_blank\" style=\"color: black; text-decoration: none; border-bottom: 1px #C3C3C3 dotted\">eltype</a>({3, 2} undirected simple Int64 graph) => <b><font color=green>Int64</font></b></pre><ul></ul></li><li><pre><a href=\"https://github.com/JuliaGraphs/LightGraphs.jl/tree/da0c350205820b03c4fd3e008fdc3e67d7e748fc//src/graphtypes/simplegraphs/SimpleGraphs.jl#L44\" target=\"_blank\" style=\"color: black; text-decoration: none; border-bottom: 1px #C3C3C3 dotted\">LightGraphs.vertices</a>({3, 2} undirected simple Int64 graph) => <b><font color=green>1:3</font></b></pre><ul><li><pre><a href=\"https://github.com/JuliaGraphs/LightGraphs.jl/tree/da0c350205820b03c4fd3e008fdc3e67d7e748fc//src/graphtypes/simplegraphs/SimpleGraphs.jl#L43\" target=\"_blank\" style=\"color: black; text-decoration: none; border-bottom: 1px #C3C3C3 dotted\">LightGraphs.nv</a>({3, 2} undirected simple Int64 graph) => <b><font color=green>3</font></b></pre><ul><li><pre><a href=\"https://github.com/JuliaGraphs/LightGraphs.jl/tree/da0c350205820b03c4fd3e008fdc3e67d7e748fc//src/graphtypes/simplegraphs/simplegraph.jl#L2\" target=\"_blank\" style=\"color: black; text-decoration: none; border-bottom: 1px #C3C3C3 dotted\">eltype</a>({3, 2} undirected simple Int64 graph) => <b><font color=green>Int64</font></b></pre><ul></ul></li><li><pre><a href=\"https://github.com/JuliaGraphs/LightGraphs.jl/tree/da0c350205820b03c4fd3e008fdc3e67d7e748fc//src/graphtypes/simplegraphs/SimpleGraphs.jl#L50\" target=\"_blank\" style=\"color: black; text-decoration: none; border-bottom: 1px #C3C3C3 dotted\">LightGraphs.SimpleGraphs.fadj</a>({3, 2} undirected simple Int64 graph) => <b><font color=green>Array{Int64,1}[[2], [1, 3], [2]]</font></b></pre><ul></ul></li></ul></li></ul></li><li><pre><a href=\"https://github.com/JuliaGraphs/LightGraphs.jl/tree/da0c350205820b03c4fd3e008fdc3e67d7e748fc//src/graphtypes/simplegraphs/SimpleGraphs.jl#L65\" target=\"_blank\" style=\"color: black; text-decoration: none; border-bottom: 1px #C3C3C3 dotted\">LightGraphs.out_neighbors</a>({3, 2} undirected simple Int64 graph, 2) => <b><font color=green>[1, 3]</font></b></pre><ul><li><pre><a href=\"https://github.com/JuliaGraphs/LightGraphs.jl/tree/da0c350205820b03c4fd3e008fdc3e67d7e748fc//src/graphtypes/simplegraphs/SimpleGraphs.jl#L51\" target=\"_blank\" style=\"color: black; text-decoration: none; border-bottom: 1px #C3C3C3 dotted\">LightGraphs.SimpleGraphs.fadj</a>({3, 2} undirected simple Int64 graph, 2) => <b><font color=green>[1, 3]</font></b></pre><ul></ul></li></ul></li><li><pre><a href=\"https://github.com/JuliaGraphs/LightGraphs.jl/tree/da0c350205820b03c4fd3e008fdc3e67d7e748fc//src/graphtypes/simplegraphs/SimpleGraphs.jl#L65\" target=\"_blank\" style=\"color: black; text-decoration: none; border-bottom: 1px #C3C3C3 dotted\">LightGraphs.out_neighbors</a>({3, 2} undirected simple Int64 graph, 1) => <b><font color=green>[2]</font></b></pre><ul><li><pre><a href=\"https://github.com/JuliaGraphs/LightGraphs.jl/tree/da0c350205820b03c4fd3e008fdc3e67d7e748fc//src/graphtypes/simplegraphs/SimpleGraphs.jl#L51\" target=\"_blank\" style=\"color: black; text-decoration: none; border-bottom: 1px #C3C3C3 dotted\">LightGraphs.SimpleGraphs.fadj</a>({3, 2} undirected simple Int64 graph, 1) => <b><font color=green>[2]</font></b></pre><ul></ul></li></ul></li><li><pre><a href=\"https://github.com/JuliaGraphs/LightGraphs.jl/tree/da0c350205820b03c4fd3e008fdc3e67d7e748fc//src/graphtypes/simplegraphs/SimpleGraphs.jl#L65\" target=\"_blank\" style=\"color: black; text-decoration: none; border-bottom: 1px #C3C3C3 dotted\">LightGraphs.out_neighbors</a>({3, 2} undirected simple Int64 graph, 2) => <b><font color=green>[1, 3]</font></b></pre><ul><li><pre><a href=\"https://github.com/JuliaGraphs/LightGraphs.jl/tree/da0c350205820b03c4fd3e008fdc3e67d7e748fc//src/graphtypes/simplegraphs/SimpleGraphs.jl#L51\" target=\"_blank\" style=\"color: black; text-decoration: none; border-bottom: 1px #C3C3C3 dotted\">LightGraphs.SimpleGraphs.fadj</a>({3, 2} undirected simple Int64 graph, 2) => <b><font color=green>[1, 3]</font></b></pre><ul></ul></li></ul></li><li><pre><a href=\"https://github.com/JuliaGraphs/LightGraphs.jl/tree/da0c350205820b03c4fd3e008fdc3e67d7e748fc//src/graphtypes/simplegraphs/SimpleGraphs.jl#L65\" target=\"_blank\" style=\"color: black; text-decoration: none; border-bottom: 1px #C3C3C3 dotted\">LightGraphs.out_neighbors</a>({3, 2} undirected simple Int64 graph, 3) => <b><font color=green>[2]</font></b></pre><ul><li><pre><a href=\"https://github.com/JuliaGraphs/LightGraphs.jl/tree/da0c350205820b03c4fd3e008fdc3e67d7e748fc//src/graphtypes/simplegraphs/SimpleGraphs.jl#L51\" target=\"_blank\" style=\"color: black; text-decoration: none; border-bottom: 1px #C3C3C3 dotted\">LightGraphs.SimpleGraphs.fadj</a>({3, 2} undirected simple Int64 graph, 3) => <b><font color=green>[2]</font></b></pre><ul></ul></li></ul></li><li><pre><a href=\"https://github.com/JuliaGraphs/LightGraphs.jl/tree/da0c350205820b03c4fd3e008fdc3e67d7e748fc//src/graphtypes/simplegraphs/SimpleGraphs.jl#L65\" target=\"_blank\" style=\"color: black; text-decoration: none; border-bottom: 1px #C3C3C3 dotted\">LightGraphs.out_neighbors</a>({3, 2} undirected simple Int64 graph, 2) => <b><font color=green>[1, 3]</font></b></pre><ul><li><pre><a href=\"https://github.com/JuliaGraphs/LightGraphs.jl/tree/da0c350205820b03c4fd3e008fdc3e67d7e748fc//src/graphtypes/simplegraphs/SimpleGraphs.jl#L51\" target=\"_blank\" style=\"color: black; text-decoration: none; border-bottom: 1px #C3C3C3 dotted\">LightGraphs.SimpleGraphs.fadj</a>({3, 2} undirected simple Int64 graph, 2) => <b><font color=green>[1, 3]</font></b></pre><ul></ul></li></ul></li></ul></li></ul>"
      ],
      "text/plain": [
       "TraceCalls.Trace(#21, (), (), TraceCalls.Trace[TraceCalls.Trace(LightGraphs.randomwalk, ({3, 2} undirected simple Int64 graph, 2, 5), (), TraceCalls.Trace[TraceCalls.Trace(eltype, ({3, 2} undirected simple Int64 graph,), (), TraceCalls.Trace[], Int64), TraceCalls.Trace(LightGraphs.vertices, ({3, 2} undirected simple Int64 graph,), (), TraceCalls.Trace[TraceCalls.Trace(LightGraphs.nv, ({3, 2} undirected simple Int64 graph,), (), TraceCalls.Trace[TraceCalls.Trace(eltype, ({3, 2} undirected simple Int64 graph,), (), TraceCalls.Trace[], Int64), TraceCalls.Trace(LightGraphs.SimpleGraphs.fadj, ({3, 2} undirected simple Int64 graph,), (), TraceCalls.Trace[], Array{Int64,1}[[2], [1, 3], [2]])], 3)], 1:3), TraceCalls.Trace(LightGraphs.out_neighbors, ({3, 2} undirected simple Int64 graph, 2), (), TraceCalls.Trace[TraceCalls.Trace(LightGraphs.SimpleGraphs.fadj, ({3, 2} undirected simple Int64 graph, 2), (), TraceCalls.Trace[], [1, 3])], [1, 3]), TraceCalls.Trace(LightGraphs.out_neighbors, ({3, 2} undirected simple Int64 graph, 1), (), TraceCalls.Trace[TraceCalls.Trace(LightGraphs.SimpleGraphs.fadj, ({3, 2} undirected simple Int64 graph, 1), (), TraceCalls.Trace[], [2])], [2]), TraceCalls.Trace(LightGraphs.out_neighbors, ({3, 2} undirected simple Int64 graph, 2), (), TraceCalls.Trace[TraceCalls.Trace(LightGraphs.SimpleGraphs.fadj, ({3, 2} undirected simple Int64 graph, 2), (), TraceCalls.Trace[], [1, 3])], [1, 3]), TraceCalls.Trace(LightGraphs.out_neighbors, ({3, 2} undirected simple Int64 graph, 3), (), TraceCalls.Trace[TraceCalls.Trace(LightGraphs.SimpleGraphs.fadj, ({3, 2} undirected simple Int64 graph, 3), (), TraceCalls.Trace[], [2])], [2]), TraceCalls.Trace(LightGraphs.out_neighbors, ({3, 2} undirected simple Int64 graph, 2), (), TraceCalls.Trace[TraceCalls.Trace(LightGraphs.SimpleGraphs.fadj, ({3, 2} undirected simple Int64 graph, 2), (), TraceCalls.Trace[], [1, 3])], [1, 3])], [2, 1, 2, 3, 2])], [2, 1, 2, 3, 2])"
      ]
     },
     "execution_count": 8,
     "metadata": {},
     "output_type": "execute_result"
    }
   ],
   "source": [
    "using LightGraphs\n",
    "\n",
    "graph = Graph(3)                                      # build an undirected graph with three connected vertices\n",
    "add_edge!(graph, 1, 2); add_edge!(graph, 2, 3) \n",
    "\n",
    "trace_walk = @trace LightGraphs randomwalk(graph, 2, 5)"
   ]
  },
  {
   "cell_type": "markdown",
   "metadata": {},
   "source": [
    "The trace can be indexed:"
   ]
  },
  {
   "cell_type": "code",
   "execution_count": 9,
   "metadata": {},
   "outputs": [
    {
     "data": {
      "text/html": [
       "<pre><a href=\"https://github.com/JuliaGraphs/LightGraphs.jl/tree/da0c350205820b03c4fd3e008fdc3e67d7e748fc//src/graphtypes/simplegraphs/SimpleGraphs.jl#L65\" target=\"_blank\" style=\"color: black; text-decoration: none; border-bottom: 1px #C3C3C3 dotted\">LightGraphs.out_neighbors</a>({3, 2} undirected simple Int64 graph, 2) => <b><font color=green>[1, 3]</font></b></pre><ul><li><pre><a href=\"https://github.com/JuliaGraphs/LightGraphs.jl/tree/da0c350205820b03c4fd3e008fdc3e67d7e748fc//src/graphtypes/simplegraphs/SimpleGraphs.jl#L51\" target=\"_blank\" style=\"color: black; text-decoration: none; border-bottom: 1px #C3C3C3 dotted\">LightGraphs.SimpleGraphs.fadj</a>({3, 2} undirected simple Int64 graph, 2) => <b><font color=green>[1, 3]</font></b></pre><ul></ul></li></ul>"
      ],
      "text/plain": [
       "TraceCalls.Trace(LightGraphs.out_neighbors, ({3, 2} undirected simple Int64 graph, 2), (), TraceCalls.Trace[TraceCalls.Trace(LightGraphs.SimpleGraphs.fadj, ({3, 2} undirected simple Int64 graph, 2), (), TraceCalls.Trace[], [1, 3])], [1, 3])"
      ]
     },
     "execution_count": 9,
     "metadata": {},
     "output_type": "execute_result"
    }
   ],
   "source": [
    "trace_walk[1][3]    # can also be written graph_trace[1,3]"
   ]
  },
  {
   "cell_type": "markdown",
   "metadata": {},
   "source": [
    "Called:"
   ]
  },
  {
   "cell_type": "code",
   "execution_count": 10,
   "metadata": {},
   "outputs": [
    {
     "data": {
      "text/plain": [
       "2-element Array{Int64,1}:\n",
       " 1\n",
       " 3"
      ]
     },
     "execution_count": 10,
     "metadata": {},
     "output_type": "execute_result"
    }
   ],
   "source": [
    "trace_walk[1,3]()   # call `LightGraphs.out_neighbors({2, 1} directed simple Int64 graph, 2)`"
   ]
  },
  {
   "cell_type": "markdown",
   "metadata": {},
   "source": [
    "Or pruned (very useful for exploring large traces):"
   ]
  },
  {
   "cell_type": "code",
   "execution_count": 11,
   "metadata": {},
   "outputs": [
    {
     "data": {
      "text/html": [
       "<pre><a href=\"https://github.com/cstjean/TraceCalls.jl/tree/32ecf967e9f7197d5a6d0b63ba5e2d4d088aa93f//src/TraceCalls.jl#L265\" target=\"_blank\" style=\"color: black; text-decoration: none; border-bottom: 1px #C3C3C3 dotted\">#21</a>() => <b><font color=green>[2, 1, 2, 3, 2]</font></b></pre><ul><li><pre><a href=\"https://github.com/JuliaGraphs/LightGraphs.jl/tree/da0c350205820b03c4fd3e008fdc3e67d7e748fc//src/traversals/randomwalks.jl#L8\" target=\"_blank\" style=\"color: black; text-decoration: none; border-bottom: 1px #C3C3C3 dotted\">LightGraphs.randomwalk</a>({3, 2} undirected simple Int64 graph, 2, 5) => <b><font color=green>[2, 1, 2, 3, 2]</font></b></pre><ul><li><pre><a href=\"https://github.com/JuliaGraphs/LightGraphs.jl/tree/da0c350205820b03c4fd3e008fdc3e67d7e748fc//src/graphtypes/simplegraphs/simplegraph.jl#L2\" target=\"_blank\" style=\"color: black; text-decoration: none; border-bottom: 1px #C3C3C3 dotted\">eltype</a>({3, 2} undirected simple Int64 graph) => <b><font color=green>Int64</font></b></pre><ul></ul></li><li><pre><a href=\"https://github.com/JuliaGraphs/LightGraphs.jl/tree/da0c350205820b03c4fd3e008fdc3e67d7e748fc//src/graphtypes/simplegraphs/SimpleGraphs.jl#L44\" target=\"_blank\" style=\"color: black; text-decoration: none; border-bottom: 1px #C3C3C3 dotted\">LightGraphs.vertices</a>({3, 2} undirected simple Int64 graph) => <b><font color=green>1:3</font></b></pre><ul></ul></li><li><pre><a href=\"https://github.com/JuliaGraphs/LightGraphs.jl/tree/da0c350205820b03c4fd3e008fdc3e67d7e748fc//src/graphtypes/simplegraphs/SimpleGraphs.jl#L65\" target=\"_blank\" style=\"color: black; text-decoration: none; border-bottom: 1px #C3C3C3 dotted\">LightGraphs.out_neighbors</a>({3, 2} undirected simple Int64 graph, 2) => <b><font color=green>[1, 3]</font></b></pre><ul></ul></li><li><pre><a href=\"https://github.com/JuliaGraphs/LightGraphs.jl/tree/da0c350205820b03c4fd3e008fdc3e67d7e748fc//src/graphtypes/simplegraphs/SimpleGraphs.jl#L65\" target=\"_blank\" style=\"color: black; text-decoration: none; border-bottom: 1px #C3C3C3 dotted\">LightGraphs.out_neighbors</a>({3, 2} undirected simple Int64 graph, 1) => <b><font color=green>[2]</font></b></pre><ul></ul></li></ul></li></ul>"
      ],
      "text/plain": [
       "TraceCalls.Trace(#21, (), (), TraceCalls.Trace[TraceCalls.Trace(LightGraphs.randomwalk, ({3, 2} undirected simple Int64 graph, 2, 5), (), TraceCalls.Trace[TraceCalls.Trace(eltype, ({3, 2} undirected simple Int64 graph,), (), TraceCalls.Trace[], Int64), TraceCalls.Trace(LightGraphs.vertices, ({3, 2} undirected simple Int64 graph,), (), TraceCalls.Trace[], 1:3), TraceCalls.Trace(LightGraphs.out_neighbors, ({3, 2} undirected simple Int64 graph, 2), (), TraceCalls.Trace[], [1, 3]), TraceCalls.Trace(LightGraphs.out_neighbors, ({3, 2} undirected simple Int64 graph, 1), (), TraceCalls.Trace[], [2])], [2, 1, 2, 3, 2])], [2, 1, 2, 3, 2])"
      ]
     },
     "execution_count": 11,
     "metadata": {},
     "output_type": "execute_result"
    }
   ],
   "source": [
    "prune(trace_walk, \n",
    "    2,  # maximum depth\n",
    "    4)  # maximum length of each trace (eg. if foo() calls bar() 100 times)"
   ]
  },
  {
   "cell_type": "markdown",
   "metadata": {},
   "source": [
    "#### Custom text/HTML\n",
    "\n",
    "To display each argument and return value, `TraceCalls.show_val(io::IO, mime, x)` is called. It defaults to `show(io, x)`, but can be customized, either to highlight certain values, or to shorten objects that are not important for the task at hand."
   ]
  },
  {
   "cell_type": "code",
   "execution_count": 12,
   "metadata": {},
   "outputs": [
    {
     "data": {
      "text/html": [
       "<pre><a href=\"https://github.com/cstjean/TraceCalls.jl/tree/32ecf967e9f7197d5a6d0b63ba5e2d4d088aa93f//src/TraceCalls.jl#L265\" target=\"_blank\" style=\"color: black; text-decoration: none; border-bottom: 1px #C3C3C3 dotted\">#21</a>() => <b><font color=green>[<font color=red>2</font>,1,<font color=red>2</font>,3,<font color=red>2</font>]</font></b></pre><ul><li><pre><a href=\"https://github.com/JuliaGraphs/LightGraphs.jl/tree/da0c350205820b03c4fd3e008fdc3e67d7e748fc//src/traversals/randomwalks.jl#L8\" target=\"_blank\" style=\"color: black; text-decoration: none; border-bottom: 1px #C3C3C3 dotted\">LightGraphs.randomwalk</a>(AnyOldGraph, 2, 5) => <b><font color=green>[<font color=red>2</font>,1,<font color=red>2</font>,3,<font color=red>2</font>]</font></b></pre><ul><li><pre><a href=\"https://github.com/JuliaGraphs/LightGraphs.jl/tree/da0c350205820b03c4fd3e008fdc3e67d7e748fc//src/graphtypes/simplegraphs/simplegraph.jl#L2\" target=\"_blank\" style=\"color: black; text-decoration: none; border-bottom: 1px #C3C3C3 dotted\">eltype</a>(AnyOldGraph) => <b><font color=green>Int64</font></b></pre><ul></ul></li><li><pre><a href=\"https://github.com/JuliaGraphs/LightGraphs.jl/tree/da0c350205820b03c4fd3e008fdc3e67d7e748fc//src/graphtypes/simplegraphs/SimpleGraphs.jl#L44\" target=\"_blank\" style=\"color: black; text-decoration: none; border-bottom: 1px #C3C3C3 dotted\">LightGraphs.vertices</a>(AnyOldGraph) => <b><font color=green>1:3</font></b></pre><ul><li><pre><a href=\"https://github.com/JuliaGraphs/LightGraphs.jl/tree/da0c350205820b03c4fd3e008fdc3e67d7e748fc//src/graphtypes/simplegraphs/SimpleGraphs.jl#L43\" target=\"_blank\" style=\"color: black; text-decoration: none; border-bottom: 1px #C3C3C3 dotted\">LightGraphs.nv</a>(AnyOldGraph) => <b><font color=green>3</font></b></pre><ul><li><pre><a href=\"https://github.com/JuliaGraphs/LightGraphs.jl/tree/da0c350205820b03c4fd3e008fdc3e67d7e748fc//src/graphtypes/simplegraphs/simplegraph.jl#L2\" target=\"_blank\" style=\"color: black; text-decoration: none; border-bottom: 1px #C3C3C3 dotted\">eltype</a>(AnyOldGraph) => <b><font color=green>Int64</font></b></pre><ul></ul></li><li><pre><a href=\"https://github.com/JuliaGraphs/LightGraphs.jl/tree/da0c350205820b03c4fd3e008fdc3e67d7e748fc//src/graphtypes/simplegraphs/SimpleGraphs.jl#L50\" target=\"_blank\" style=\"color: black; text-decoration: none; border-bottom: 1px #C3C3C3 dotted\">LightGraphs.SimpleGraphs.fadj</a>(AnyOldGraph) => <b><font color=green>Array{Int64,1}[[2], [1, 3], [2]]</font></b></pre><ul></ul></li></ul></li></ul></li><li><pre><a href=\"https://github.com/JuliaGraphs/LightGraphs.jl/tree/da0c350205820b03c4fd3e008fdc3e67d7e748fc//src/graphtypes/simplegraphs/SimpleGraphs.jl#L65\" target=\"_blank\" style=\"color: black; text-decoration: none; border-bottom: 1px #C3C3C3 dotted\">LightGraphs.out_neighbors</a>(AnyOldGraph, 2) => <b><font color=green>[1,3]</font></b></pre><ul><li><pre><a href=\"https://github.com/JuliaGraphs/LightGraphs.jl/tree/da0c350205820b03c4fd3e008fdc3e67d7e748fc//src/graphtypes/simplegraphs/SimpleGraphs.jl#L51\" target=\"_blank\" style=\"color: black; text-decoration: none; border-bottom: 1px #C3C3C3 dotted\">LightGraphs.SimpleGraphs.fadj</a>(AnyOldGraph, 2) => <b><font color=green>[1,3]</font></b></pre><ul></ul></li></ul></li><li><pre><a href=\"https://github.com/JuliaGraphs/LightGraphs.jl/tree/da0c350205820b03c4fd3e008fdc3e67d7e748fc//src/graphtypes/simplegraphs/SimpleGraphs.jl#L65\" target=\"_blank\" style=\"color: black; text-decoration: none; border-bottom: 1px #C3C3C3 dotted\">LightGraphs.out_neighbors</a>(AnyOldGraph, 1) => <b><font color=green>[<font color=red>2</font>]</font></b></pre><ul><li><pre><a href=\"https://github.com/JuliaGraphs/LightGraphs.jl/tree/da0c350205820b03c4fd3e008fdc3e67d7e748fc//src/graphtypes/simplegraphs/SimpleGraphs.jl#L51\" target=\"_blank\" style=\"color: black; text-decoration: none; border-bottom: 1px #C3C3C3 dotted\">LightGraphs.SimpleGraphs.fadj</a>(AnyOldGraph, 1) => <b><font color=green>[<font color=red>2</font>]</font></b></pre><ul></ul></li></ul></li><li><pre><a href=\"https://github.com/JuliaGraphs/LightGraphs.jl/tree/da0c350205820b03c4fd3e008fdc3e67d7e748fc//src/graphtypes/simplegraphs/SimpleGraphs.jl#L65\" target=\"_blank\" style=\"color: black; text-decoration: none; border-bottom: 1px #C3C3C3 dotted\">LightGraphs.out_neighbors</a>(AnyOldGraph, 2) => <b><font color=green>[1,3]</font></b></pre><ul><li><pre><a href=\"https://github.com/JuliaGraphs/LightGraphs.jl/tree/da0c350205820b03c4fd3e008fdc3e67d7e748fc//src/graphtypes/simplegraphs/SimpleGraphs.jl#L51\" target=\"_blank\" style=\"color: black; text-decoration: none; border-bottom: 1px #C3C3C3 dotted\">LightGraphs.SimpleGraphs.fadj</a>(AnyOldGraph, 2) => <b><font color=green>[1,3]</font></b></pre><ul></ul></li></ul></li><li><pre><a href=\"https://github.com/JuliaGraphs/LightGraphs.jl/tree/da0c350205820b03c4fd3e008fdc3e67d7e748fc//src/graphtypes/simplegraphs/SimpleGraphs.jl#L65\" target=\"_blank\" style=\"color: black; text-decoration: none; border-bottom: 1px #C3C3C3 dotted\">LightGraphs.out_neighbors</a>(AnyOldGraph, 3) => <b><font color=green>[<font color=red>2</font>]</font></b></pre><ul><li><pre><a href=\"https://github.com/JuliaGraphs/LightGraphs.jl/tree/da0c350205820b03c4fd3e008fdc3e67d7e748fc//src/graphtypes/simplegraphs/SimpleGraphs.jl#L51\" target=\"_blank\" style=\"color: black; text-decoration: none; border-bottom: 1px #C3C3C3 dotted\">LightGraphs.SimpleGraphs.fadj</a>(AnyOldGraph, 3) => <b><font color=green>[<font color=red>2</font>]</font></b></pre><ul></ul></li></ul></li><li><pre><a href=\"https://github.com/JuliaGraphs/LightGraphs.jl/tree/da0c350205820b03c4fd3e008fdc3e67d7e748fc//src/graphtypes/simplegraphs/SimpleGraphs.jl#L65\" target=\"_blank\" style=\"color: black; text-decoration: none; border-bottom: 1px #C3C3C3 dotted\">LightGraphs.out_neighbors</a>(AnyOldGraph, 2) => <b><font color=green>[1,3]</font></b></pre><ul><li><pre><a href=\"https://github.com/JuliaGraphs/LightGraphs.jl/tree/da0c350205820b03c4fd3e008fdc3e67d7e748fc//src/graphtypes/simplegraphs/SimpleGraphs.jl#L51\" target=\"_blank\" style=\"color: black; text-decoration: none; border-bottom: 1px #C3C3C3 dotted\">LightGraphs.SimpleGraphs.fadj</a>(AnyOldGraph, 2) => <b><font color=green>[1,3]</font></b></pre><ul></ul></li></ul></li></ul></li></ul>"
      ],
      "text/plain": [
       "TraceCalls.Trace(#21, (), (), TraceCalls.Trace[TraceCalls.Trace(LightGraphs.randomwalk, ({3, 2} undirected simple Int64 graph, 2, 5), (), TraceCalls.Trace[TraceCalls.Trace(eltype, ({3, 2} undirected simple Int64 graph,), (), TraceCalls.Trace[], Int64), TraceCalls.Trace(LightGraphs.vertices, ({3, 2} undirected simple Int64 graph,), (), TraceCalls.Trace[TraceCalls.Trace(LightGraphs.nv, ({3, 2} undirected simple Int64 graph,), (), TraceCalls.Trace[TraceCalls.Trace(eltype, ({3, 2} undirected simple Int64 graph,), (), TraceCalls.Trace[], Int64), TraceCalls.Trace(LightGraphs.SimpleGraphs.fadj, ({3, 2} undirected simple Int64 graph,), (), TraceCalls.Trace[], Array{Int64,1}[[2], [1, 3], [2]])], 3)], 1:3), TraceCalls.Trace(LightGraphs.out_neighbors, ({3, 2} undirected simple Int64 graph, 2), (), TraceCalls.Trace[TraceCalls.Trace(LightGraphs.SimpleGraphs.fadj, ({3, 2} undirected simple Int64 graph, 2), (), TraceCalls.Trace[], [1, 3])], [1, 3]), TraceCalls.Trace(LightGraphs.out_neighbors, ({3, 2} undirected simple Int64 graph, 1), (), TraceCalls.Trace[TraceCalls.Trace(LightGraphs.SimpleGraphs.fadj, ({3, 2} undirected simple Int64 graph, 1), (), TraceCalls.Trace[], [2])], [2]), TraceCalls.Trace(LightGraphs.out_neighbors, ({3, 2} undirected simple Int64 graph, 2), (), TraceCalls.Trace[TraceCalls.Trace(LightGraphs.SimpleGraphs.fadj, ({3, 2} undirected simple Int64 graph, 2), (), TraceCalls.Trace[], [1, 3])], [1, 3]), TraceCalls.Trace(LightGraphs.out_neighbors, ({3, 2} undirected simple Int64 graph, 3), (), TraceCalls.Trace[TraceCalls.Trace(LightGraphs.SimpleGraphs.fadj, ({3, 2} undirected simple Int64 graph, 3), (), TraceCalls.Trace[], [2])], [2]), TraceCalls.Trace(LightGraphs.out_neighbors, ({3, 2} undirected simple Int64 graph, 2), (), TraceCalls.Trace[TraceCalls.Trace(LightGraphs.SimpleGraphs.fadj, ({3, 2} undirected simple Int64 graph, 2), (), TraceCalls.Trace[], [1, 3])], [1, 3])], [2, 1, 2, 3, 2])], [2, 1, 2, 3, 2])"
      ]
     },
     "execution_count": 12,
     "metadata": {},
     "output_type": "execute_result"
    }
   ],
   "source": [
    "TraceCalls.show_val(io::IO, ::MIME\"text/html\", v::Vector{Int}) = write(io, string(\"[\", join([x==2 ? \"<font color=red>2</font>\" : x for x in v], \",\"), \"]\"))\n",
    "TraceCalls.show_val(io::IO, ::MIME\"text/html\", ::Graph) = write(io, \"AnyOldGraph\")\n",
    "trace_walk"
   ]
  },
  {
   "cell_type": "markdown",
   "metadata": {},
   "source": [
    "See also `?TraceCalls.show_call` and `?TraceCalls.show_return_val`."
   ]
  },
  {
   "cell_type": "markdown",
   "metadata": {},
   "source": [
    "#### Map, filter, collect\n",
    "\n",
    "Each function call in a trace is represented by an instance of the `Trace` structure:\n",
    "\n",
    "```julia\n",
    "struct Trace\n",
    "    func::Function        # the function called\n",
    "    args::Tuple           # the positional arguments\n",
    "    kwargs::Tuple         # the keyword arguments\n",
    "    called::Vector{Trace} # the functions called within the execution of this function call \n",
    "    value                 # This is the return value of the func(args...; kwargs...) call, but it's also where\n",
    "                          # the result of `map(f, ::Trace)` will be stored.\n",
    "end\n",
    "```"
   ]
  },
  {
   "cell_type": "markdown",
   "metadata": {},
   "source": [
    "Filtering works as you might expect:"
   ]
  },
  {
   "cell_type": "code",
   "execution_count": 13,
   "metadata": {},
   "outputs": [
    {
     "data": {
      "text/html": [
       "<pre><a href=\"https://github.com/cstjean/TraceCalls.jl/tree/32ecf967e9f7197d5a6d0b63ba5e2d4d088aa93f//src/TraceCalls.jl#L265\" target=\"_blank\" style=\"color: black; text-decoration: none; border-bottom: 1px #C3C3C3 dotted\">#21</a>() => <b><font color=green>[<font color=red>2</font>,1,<font color=red>2</font>,3,<font color=red>2</font>]</font></b></pre><ul><li><pre><a href=\"https://github.com/JuliaGraphs/LightGraphs.jl/tree/da0c350205820b03c4fd3e008fdc3e67d7e748fc//src/traversals/randomwalks.jl#L8\" target=\"_blank\" style=\"color: black; text-decoration: none; border-bottom: 1px #C3C3C3 dotted\">LightGraphs.randomwalk</a>(AnyOldGraph, 2, 5) => <b><font color=green>[<font color=red>2</font>,1,<font color=red>2</font>,3,<font color=red>2</font>]</font></b></pre><ul><li><pre><a href=\"https://github.com/JuliaGraphs/LightGraphs.jl/tree/da0c350205820b03c4fd3e008fdc3e67d7e748fc//src/graphtypes/simplegraphs/simplegraph.jl#L2\" target=\"_blank\" style=\"color: black; text-decoration: none; border-bottom: 1px #C3C3C3 dotted\">eltype</a>(AnyOldGraph) => <b><font color=green>Int64</font></b></pre><ul></ul></li><li><pre><a href=\"https://github.com/JuliaGraphs/LightGraphs.jl/tree/da0c350205820b03c4fd3e008fdc3e67d7e748fc//src/graphtypes/simplegraphs/SimpleGraphs.jl#L44\" target=\"_blank\" style=\"color: black; text-decoration: none; border-bottom: 1px #C3C3C3 dotted\">LightGraphs.vertices</a>(AnyOldGraph) => <b><font color=green>1:3</font></b></pre><ul><li><pre><a href=\"https://github.com/JuliaGraphs/LightGraphs.jl/tree/da0c350205820b03c4fd3e008fdc3e67d7e748fc//src/graphtypes/simplegraphs/SimpleGraphs.jl#L43\" target=\"_blank\" style=\"color: black; text-decoration: none; border-bottom: 1px #C3C3C3 dotted\">LightGraphs.nv</a>(AnyOldGraph) => <b><font color=green>3</font></b></pre><ul><li><pre><a href=\"https://github.com/JuliaGraphs/LightGraphs.jl/tree/da0c350205820b03c4fd3e008fdc3e67d7e748fc//src/graphtypes/simplegraphs/simplegraph.jl#L2\" target=\"_blank\" style=\"color: black; text-decoration: none; border-bottom: 1px #C3C3C3 dotted\">eltype</a>(AnyOldGraph) => <b><font color=green>Int64</font></b></pre><ul></ul></li></ul></li></ul></li><li><pre><a href=\"https://github.com/JuliaGraphs/LightGraphs.jl/tree/da0c350205820b03c4fd3e008fdc3e67d7e748fc//src/graphtypes/simplegraphs/SimpleGraphs.jl#L65\" target=\"_blank\" style=\"color: black; text-decoration: none; border-bottom: 1px #C3C3C3 dotted\">LightGraphs.out_neighbors</a>(AnyOldGraph, 2) => <b><font color=green>[1,3]</font></b></pre><ul></ul></li><li><pre><a href=\"https://github.com/JuliaGraphs/LightGraphs.jl/tree/da0c350205820b03c4fd3e008fdc3e67d7e748fc//src/graphtypes/simplegraphs/SimpleGraphs.jl#L65\" target=\"_blank\" style=\"color: black; text-decoration: none; border-bottom: 1px #C3C3C3 dotted\">LightGraphs.out_neighbors</a>(AnyOldGraph, 1) => <b><font color=green>[<font color=red>2</font>]</font></b></pre><ul></ul></li><li><pre><a href=\"https://github.com/JuliaGraphs/LightGraphs.jl/tree/da0c350205820b03c4fd3e008fdc3e67d7e748fc//src/graphtypes/simplegraphs/SimpleGraphs.jl#L65\" target=\"_blank\" style=\"color: black; text-decoration: none; border-bottom: 1px #C3C3C3 dotted\">LightGraphs.out_neighbors</a>(AnyOldGraph, 2) => <b><font color=green>[1,3]</font></b></pre><ul></ul></li><li><pre><a href=\"https://github.com/JuliaGraphs/LightGraphs.jl/tree/da0c350205820b03c4fd3e008fdc3e67d7e748fc//src/graphtypes/simplegraphs/SimpleGraphs.jl#L65\" target=\"_blank\" style=\"color: black; text-decoration: none; border-bottom: 1px #C3C3C3 dotted\">LightGraphs.out_neighbors</a>(AnyOldGraph, 3) => <b><font color=green>[<font color=red>2</font>]</font></b></pre><ul></ul></li><li><pre><a href=\"https://github.com/JuliaGraphs/LightGraphs.jl/tree/da0c350205820b03c4fd3e008fdc3e67d7e748fc//src/graphtypes/simplegraphs/SimpleGraphs.jl#L65\" target=\"_blank\" style=\"color: black; text-decoration: none; border-bottom: 1px #C3C3C3 dotted\">LightGraphs.out_neighbors</a>(AnyOldGraph, 2) => <b><font color=green>[1,3]</font></b></pre><ul></ul></li></ul></li></ul>"
      ],
      "text/plain": [
       "TraceCalls.Trace(#21, (), (), TraceCalls.Trace[TraceCalls.Trace(LightGraphs.randomwalk, ({3, 2} undirected simple Int64 graph, 2, 5), (), TraceCalls.Trace[TraceCalls.Trace(eltype, ({3, 2} undirected simple Int64 graph,), (), TraceCalls.Trace[], Int64), TraceCalls.Trace(LightGraphs.vertices, ({3, 2} undirected simple Int64 graph,), (), TraceCalls.Trace[TraceCalls.Trace(LightGraphs.nv, ({3, 2} undirected simple Int64 graph,), (), TraceCalls.Trace[TraceCalls.Trace(eltype, ({3, 2} undirected simple Int64 graph,), (), TraceCalls.Trace[], Int64)], 3)], 1:3), TraceCalls.Trace(LightGraphs.out_neighbors, ({3, 2} undirected simple Int64 graph, 2), (), TraceCalls.Trace[], [1, 3]), TraceCalls.Trace(LightGraphs.out_neighbors, ({3, 2} undirected simple Int64 graph, 1), (), TraceCalls.Trace[], [2]), TraceCalls.Trace(LightGraphs.out_neighbors, ({3, 2} undirected simple Int64 graph, 2), (), TraceCalls.Trace[], [1, 3]), TraceCalls.Trace(LightGraphs.out_neighbors, ({3, 2} undirected simple Int64 graph, 3), (), TraceCalls.Trace[], [2]), TraceCalls.Trace(LightGraphs.out_neighbors, ({3, 2} undirected simple Int64 graph, 2), (), TraceCalls.Trace[], [1, 3])], [2, 1, 2, 3, 2])], [2, 1, 2, 3, 2])"
      ]
     },
     "execution_count": 13,
     "metadata": {},
     "output_type": "execute_result"
    }
   ],
   "source": [
    "# Get rid of the `fadj` calls\n",
    "filter(trace->trace.func != LightGraphs.SimpleGraphs.fadj, trace_walk)"
   ]
  },
  {
   "cell_type": "markdown",
   "metadata": {},
   "source": [
    "While `filter` is useful to cut out uninteresting intermediate functions (it keeps the filtered out Trace's children), `filter_cutting(f, trace)` will remove all descendents of the traces for which `f(trace)` is false.\n",
    "\n",
    "`map(f, trace)` applies `f` (whether a function or quoted macro such as `:@which`) to each `Trace`, and stores the result in `Trace`'s `value` field. It's most useful for [Profiling](#Profiling)."
   ]
  },
  {
   "cell_type": "code",
   "execution_count": 14,
   "metadata": {},
   "outputs": [
    {
     "data": {
      "text/html": [
       "<pre><a href=\"https://github.com/cstjean/TraceCalls.jl/tree/32ecf967e9f7197d5a6d0b63ba5e2d4d088aa93f//src/TraceCalls.jl#L265\" target=\"_blank\" style=\"color: black; text-decoration: none; border-bottom: 1px #C3C3C3 dotted\">#21</a>() => <b><font color=green>nothing</font></b></pre><ul><li><pre><a href=\"https://github.com/JuliaGraphs/LightGraphs.jl/tree/da0c350205820b03c4fd3e008fdc3e67d7e748fc//src/graphtypes/simplegraphs/SimpleGraphs.jl#L65\" target=\"_blank\" style=\"color: black; text-decoration: none; border-bottom: 1px #C3C3C3 dotted\">LightGraphs.out_neighbors</a>(AnyOldGraph, 2) => <b><font color=green>2</font></b></pre><ul></ul></li><li><pre><a href=\"https://github.com/JuliaGraphs/LightGraphs.jl/tree/da0c350205820b03c4fd3e008fdc3e67d7e748fc//src/graphtypes/simplegraphs/SimpleGraphs.jl#L65\" target=\"_blank\" style=\"color: black; text-decoration: none; border-bottom: 1px #C3C3C3 dotted\">LightGraphs.out_neighbors</a>(AnyOldGraph, 1) => <b><font color=green>1</font></b></pre><ul></ul></li><li><pre><a href=\"https://github.com/JuliaGraphs/LightGraphs.jl/tree/da0c350205820b03c4fd3e008fdc3e67d7e748fc//src/graphtypes/simplegraphs/SimpleGraphs.jl#L65\" target=\"_blank\" style=\"color: black; text-decoration: none; border-bottom: 1px #C3C3C3 dotted\">LightGraphs.out_neighbors</a>(AnyOldGraph, 2) => <b><font color=green>2</font></b></pre><ul></ul></li><li><pre><a href=\"https://github.com/JuliaGraphs/LightGraphs.jl/tree/da0c350205820b03c4fd3e008fdc3e67d7e748fc//src/graphtypes/simplegraphs/SimpleGraphs.jl#L65\" target=\"_blank\" style=\"color: black; text-decoration: none; border-bottom: 1px #C3C3C3 dotted\">LightGraphs.out_neighbors</a>(AnyOldGraph, 3) => <b><font color=green>3</font></b></pre><ul></ul></li><li><pre><a href=\"https://github.com/JuliaGraphs/LightGraphs.jl/tree/da0c350205820b03c4fd3e008fdc3e67d7e748fc//src/graphtypes/simplegraphs/SimpleGraphs.jl#L65\" target=\"_blank\" style=\"color: black; text-decoration: none; border-bottom: 1px #C3C3C3 dotted\">LightGraphs.out_neighbors</a>(AnyOldGraph, 2) => <b><font color=green>2</font></b></pre><ul></ul></li></ul>"
      ],
      "text/plain": [
       "TraceCalls.Trace(#21, (), (), TraceCalls.Trace[TraceCalls.Trace(LightGraphs.out_neighbors, ({3, 2} undirected simple Int64 graph, 2), (), TraceCalls.Trace[], 2), TraceCalls.Trace(LightGraphs.out_neighbors, ({3, 2} undirected simple Int64 graph, 1), (), TraceCalls.Trace[], 1), TraceCalls.Trace(LightGraphs.out_neighbors, ({3, 2} undirected simple Int64 graph, 2), (), TraceCalls.Trace[], 2), TraceCalls.Trace(LightGraphs.out_neighbors, ({3, 2} undirected simple Int64 graph, 3), (), TraceCalls.Trace[], 3), TraceCalls.Trace(LightGraphs.out_neighbors, ({3, 2} undirected simple Int64 graph, 2), (), TraceCalls.Trace[], 2)], nothing)"
      ]
     },
     "execution_count": 14,
     "metadata": {},
     "output_type": "execute_result"
    }
   ],
   "source": [
    "# Take the second argument of every call to LightGraphs.out_neighbors\n",
    "map(trace->trace.func == LightGraphs.out_neighbors ? trace.args[2] : nothing,\n",
    "    filter(trace->trace.func == LightGraphs.out_neighbors, trace_walk))"
   ]
  },
  {
   "cell_type": "markdown",
   "metadata": {},
   "source": [
    "`collect(trace)` returns a `Vector` of all `Trace` objects in `trace`. "
   ]
  },
  {
   "cell_type": "markdown",
   "metadata": {},
   "source": [
    "# Working with mutable state\n",
    "\n",
    "Because `@trace` stores the function call's arguments without copying them, tracing functions that modify their arguments can yield surprising results. Consider generating a vector of `n` 5s using `push!`:"
   ]
  },
  {
   "cell_type": "code",
   "execution_count": 16,
   "metadata": {},
   "outputs": [
    {
     "data": {
      "text/html": [
       "<pre><a href=\"https://github.com/cstjean/TraceCalls.jl/tree/32ecf967e9f7197d5a6d0b63ba5e2d4d088aa93f//src/TraceCalls.jl#L261\" target=\"_blank\" style=\"color: black; text-decoration: none; border-bottom: 1px #C3C3C3 dotted\">#31</a>() => <b><font color=green>[5,5,5]</font></b></pre><ul><li><pre>many_5s(3) => <b><font color=green>[5,5,5]</font></b></pre><ul><li><pre>push5!([5,5,5]) => <b><font color=green>[5,5,5]</font></b></pre><ul></ul></li><li><pre>push5!([5,5,5]) => <b><font color=green>[5,5,5]</font></b></pre><ul></ul></li><li><pre>push5!([5,5,5]) => <b><font color=green>[5,5,5]</font></b></pre><ul></ul></li></ul></li></ul>"
      ],
      "text/plain": [
       "TraceCalls.Trace(#31, (), (), TraceCalls.Trace[TraceCalls.Trace(many_5s, (3,), (), TraceCalls.Trace[TraceCalls.Trace(push5!, ([5, 5, 5],), (), TraceCalls.Trace[], [5, 5, 5]), TraceCalls.Trace(push5!, ([5, 5, 5],), (), TraceCalls.Trace[], [5, 5, 5]), TraceCalls.Trace(push5!, ([5, 5, 5],), (), TraceCalls.Trace[], [5, 5, 5])], [5, 5, 5])], [5, 5, 5])"
      ]
     },
     "execution_count": 16,
     "metadata": {},
     "output_type": "execute_result"
    }
   ],
   "source": [
    "@traceable push5!(vec::Vector) = push!(vec, 5)\n",
    "@traceable function many_5s(n)\n",
    "    vec = Int[]\n",
    "    for i in 1:n\n",
    "        push5!(vec)\n",
    "    end\n",
    "    return vec\n",
    "end\n",
    "\n",
    "@trace many_5s(3)"
   ]
  },
  {
   "cell_type": "markdown",
   "metadata": {},
   "source": [
    "When `push5!` was first called, `vec` was empty, but this trace makes it look like it already had three 5s in it. This is because all vectors in that trace are [the same object](http://www.johnmyleswhite.com/notebook/2014/09/06/values-vs-bindings-the-map-is-not-the-territory/). As long as you keep this behaviour in mind, it is not necessarily a problem. But if you do care, here are a few solutions. The simplest is to take the mutating functions out of the trace. This isn't perfect, but it's sometimes a good option for profiling."
   ]
  },
  {
   "cell_type": "code",
   "execution_count": 17,
   "metadata": {},
   "outputs": [
    {
     "data": {
      "text/html": [
       "<pre><a href=\"https://github.com/cstjean/TraceCalls.jl/tree/32ecf967e9f7197d5a6d0b63ba5e2d4d088aa93f//src/TraceCalls.jl#L261\" target=\"_blank\" style=\"color: black; text-decoration: none; border-bottom: 1px #C3C3C3 dotted\">#33</a>() => <b><font color=green>[5,5,5]</font></b></pre><ul><li><pre>many_5s(3) => <b><font color=green>[5,5,5]</font></b></pre><ul></ul></li></ul>"
      ],
      "text/plain": [
       "TraceCalls.Trace(#33, (), (), TraceCalls.Trace[TraceCalls.Trace(many_5s, (3,), (), TraceCalls.Trace[], [5, 5, 5])], [5, 5, 5])"
      ]
     },
     "execution_count": 17,
     "metadata": {},
     "output_type": "execute_result"
    }
   ],
   "source": [
    "tr = @trace many_5s(3)\n",
    "filter(!is_mutating, tr)    # filter out every function that ends with a ! (see https://docs.julialang.org/en/stable/manual/style-guide/#Append-!-to-names-of-functions-that-modify-their-arguments-1)"
   ]
  },
  {
   "cell_type": "markdown",
   "metadata": {},
   "source": [
    "Alternatively, you can tell TraceCalls to make a copy of each `Vector` argument when storing it:"
   ]
  },
  {
   "cell_type": "code",
   "execution_count": 18,
   "metadata": {},
   "outputs": [
    {
     "data": {
      "text/html": [
       "<pre><a href=\"https://github.com/cstjean/TraceCalls.jl/tree/32ecf967e9f7197d5a6d0b63ba5e2d4d088aa93f//src/TraceCalls.jl#L261\" target=\"_blank\" style=\"color: black; text-decoration: none; border-bottom: 1px #C3C3C3 dotted\">#35</a>() => <b><font color=green>[5,5,5]</font></b></pre><ul><li><pre>many_5s(3) => <b><font color=green>[5,5,5]</font></b></pre><ul><li><pre>push5!([]) => <b><font color=green>[5]</font></b></pre><ul></ul></li><li><pre>push5!([5]) => <b><font color=green>[5,5]</font></b></pre><ul></ul></li><li><pre>push5!([5,5]) => <b><font color=green>[5,5,5]</font></b></pre><ul></ul></li></ul></li></ul>"
      ],
      "text/plain": [
       "TraceCalls.Trace(#35, (), (), TraceCalls.Trace[TraceCalls.Trace(many_5s, (3,), (), TraceCalls.Trace[TraceCalls.Trace(push5!, (Int64[],), (), TraceCalls.Trace[], [5]), TraceCalls.Trace(push5!, ([5],), (), TraceCalls.Trace[], [5, 5]), TraceCalls.Trace(push5!, ([5, 5],), (), TraceCalls.Trace[], [5, 5, 5])], [5, 5, 5])], [5, 5, 5])"
      ]
     },
     "execution_count": 18,
     "metadata": {},
     "output_type": "execute_result"
    }
   ],
   "source": [
    "TraceCalls.store(x::Vector) = copy(x)\n",
    "@trace many_5s(3)"
   ]
  },
  {
   "cell_type": "markdown",
   "metadata": {},
   "source": [
    "The most drastic solution is to have TraceCalls store the HTML representation of every object:\n",
    "\n",
    "```julia\n",
    "TraceCalls.store(x) = REPR(x)\n",
    "```\n",
    "\n",
    "This essentially turns TraceCalls.jl into a traditional, non-inspectable tracing package, but it guarantees that each value is shown as it was when the call was made."
   ]
  },
  {
   "cell_type": "markdown",
   "metadata": {},
   "source": [
    "# Debugging with traces\n",
    "\n",
    "The starting point for debugging exceptions is `@stacktrace`. It's like `@trace`, but uses `filter` to keep only the part of the trace involved in the exception."
   ]
  },
  {
   "cell_type": "code",
   "execution_count": 19,
   "metadata": {},
   "outputs": [
    {
     "data": {
      "text/html": [
       "<pre><a href=\"https://github.com/cstjean/TraceCalls.jl/tree/32ecf967e9f7197d5a6d0b63ba5e2d4d088aa93f//src/TraceCalls.jl#L265\" target=\"_blank\" style=\"color: black; text-decoration: none; border-bottom: 1px #C3C3C3 dotted\">#37</a>() => <font color=red>DomainError()</font></pre><ul><li><pre><a href=\"https://github.com/JuliaNLSolvers/Optim.jl/tree/250b50ab5f9bb87576c623fa20fdafb981ce40a1//src/optimize.jl#L6\" target=\"_blank\" style=\"color: black; text-decoration: none; border-bottom: 1px #C3C3C3 dotted\">Optim.optimize</a>(logplus10, [0.0], Optim.BFGS{LineSearches.#hagerzhang!,Optim.##161#165}(LineSearches.hagerzhang!, Optim.#161, true), Optim.Options{Void}(1.0e-32, 1.0e-32, 1.0e-8, false, 1000, false, false, false, false, 1, nothing, NaN)) => <font color=red>DomainError()</font></pre><ul><li><pre><a href=\"https://github.com/JuliaNLSolvers/Optim.jl/tree/250b50ab5f9bb87576c623fa20fdafb981ce40a1//src/optimize.jl#L4\" target=\"_blank\" style=\"color: black; text-decoration: none; border-bottom: 1px #C3C3C3 dotted\">Optim.optimize</a>(Optim.OnceDifferentiable(logplus10, Optim.g!, Optim.fg!), [0.0], Optim.BFGS{LineSearches.#hagerzhang!,Optim.##161#165}(LineSearches.hagerzhang!, Optim.#161, true), Optim.Options{Void}(1.0e-32, 1.0e-32, 1.0e-8, false, 1000, false, false, false, false, 1, nothing, NaN)) => <font color=red>DomainError()</font></pre><ul><li><pre><a href=\"https://github.com/JuliaNLSolvers/Optim.jl/tree/250b50ab5f9bb87576c623fa20fdafb981ce40a1//src/bfgs.jl#L6\" target=\"_blank\" style=\"color: black; text-decoration: none; border-bottom: 1px #C3C3C3 dotted\">Optim.update_state!</a>(Optim.OnceDifferentiable(logplus10, Optim.g!, Optim.fg!), Optim.BFGSState{Float64,1,Array{Float64,1}}(\"BFGS\", 1, [0.0], 2.302585092994046, 1, 1, 0, [0.0], [0.1], [0.1], NaN, [0.0], [0.0], [0.0], [1.0], [-0.1], [-12.4999], [0.133333], 1.0, false, LineSearches.LineSearchResults{Float64}([0.0, 1.0, 5.0, 25.0], [2.30259, 2.29253, 2.25129, 2.0149], [-0.01, -0.010101, -0.0105263, -0.0133333], 0)), Optim.BFGS{LineSearches.#hagerzhang!,Optim.##161#165}(LineSearches.hagerzhang!, Optim.#161, true)) => <font color=red>DomainError()</font></pre><ul><li><pre><a href=\"https://github.com/JuliaNLSolvers/Optim.jl/tree/250b50ab5f9bb87576c623fa20fdafb981ce40a1//src/utilities/perform_linesearch.jl#L3\" target=\"_blank\" style=\"color: black; text-decoration: none; border-bottom: 1px #C3C3C3 dotted\">Optim.perform_linesearch!</a>(Optim.BFGSState{Float64,1,Array{Float64,1}}(\"BFGS\", 1, [0.0], 2.302585092994046, 1, 1, 0, [0.0], [0.1], [0.1], NaN, [0.0], [0.0], [0.0], [1.0], [-0.1], [-12.4999], [0.133333], 1.0, false, LineSearches.LineSearchResults{Float64}([0.0, 1.0, 5.0, 25.0], [2.30259, 2.29253, 2.25129, 2.0149], [-0.01, -0.010101, -0.0105263, -0.0133333], 0)), Optim.BFGS{LineSearches.#hagerzhang!,Optim.##161#165}(LineSearches.hagerzhang!, Optim.#161, true), Optim.OnceDifferentiable(logplus10, Optim.g!, Optim.fg!)) => <font color=red>DomainError()</font></pre><ul><li><pre><a href=\"https://github.com/johnmyleswhite/Calculus.jl/tree/f7b5556a9ebd0cdde45f15d1b2cde331fe5efdd4//src/finite_difference.jl#L13\" target=\"_blank\" style=\"color: black; text-decoration: none; border-bottom: 1px #C3C3C3 dotted\">Calculus.finite_difference!</a>(logplus10, [-12.5], [0.133333], :central) => <font color=red>DomainError()</font></pre><ul><li><pre>logplus10([-12.4999]) => <font color=red>DomainError()</font></pre><ul></ul></li></ul></li></ul></li></ul></li></ul></li></ul></li></ul>"
      ],
      "text/plain": [
       "TraceCalls.Trace(#37, (), (), TraceCalls.Trace[TraceCalls.Trace(Optim.optimize, (logplus10, [0.0], Optim.BFGS{LineSearches.#hagerzhang!,Optim.##161#165}(LineSearches.hagerzhang!, Optim.#161, true), Optim.Options{Void}(1.0e-32, 1.0e-32, 1.0e-8, false, 1000, false, false, false, false, 1, nothing, NaN)), (), TraceCalls.Trace[TraceCalls.Trace(Optim.optimize, (Optim.OnceDifferentiable(logplus10, Optim.g!, Optim.fg!), [0.0], Optim.BFGS{LineSearches.#hagerzhang!,Optim.##161#165}(LineSearches.hagerzhang!, Optim.#161, true), Optim.Options{Void}(1.0e-32, 1.0e-32, 1.0e-8, false, 1000, false, false, false, false, 1, nothing, NaN)), (), TraceCalls.Trace[TraceCalls.Trace(Optim.update_state!, (Optim.OnceDifferentiable(logplus10, Optim.g!, Optim.fg!), Optim.BFGSState{Float64,1,Array{Float64,1}}(\"BFGS\", 1, [0.0], 2.30259, 1, 1, 0, [0.0], [0.1], [0.1], NaN, [0.0], [0.0], [0.0], [1.0], [-0.1], [-12.4999], [0.133333], 1.0, false, LineSearches.LineSearchResults{Float64}([0.0, 1.0, 5.0, 25.0], [2.30259, 2.29253, 2.25129, 2.0149], [-0.01, -0.010101, -0.0105263, -0.0133333], 0)), Optim.BFGS{LineSearches.#hagerzhang!,Optim.##161#165}(LineSearches.hagerzhang!, Optim.#161, true)), (), TraceCalls.Trace[TraceCalls.Trace(Optim.perform_linesearch!, (Optim.BFGSState{Float64,1,Array{Float64,1}}(\"BFGS\", 1, [0.0], 2.30259, 1, 1, 0, [0.0], [0.1], [0.1], NaN, [0.0], [0.0], [0.0], [1.0], [-0.1], [-12.4999], [0.133333], 1.0, false, LineSearches.LineSearchResults{Float64}([0.0, 1.0, 5.0, 25.0], [2.30259, 2.29253, 2.25129, 2.0149], [-0.01, -0.010101, -0.0105263, -0.0133333], 0)), Optim.BFGS{LineSearches.#hagerzhang!,Optim.##161#165}(LineSearches.hagerzhang!, Optim.#161, true), Optim.OnceDifferentiable(logplus10, Optim.g!, Optim.fg!)), (), TraceCalls.Trace[TraceCalls.Trace(Calculus.finite_difference!, (logplus10, [-12.5], [0.133333], :central), (), TraceCalls.Trace[TraceCalls.Trace(logplus10, ([-12.4999],), (), TraceCalls.Trace[], DomainError())], DomainError())], DomainError())], DomainError())], DomainError())], DomainError())], DomainError())"
      ]
     },
     "execution_count": 19,
     "metadata": {},
     "output_type": "execute_result"
    }
   ],
   "source": [
    "using Optim, TraceCalls\n",
    "@traceable logplus10(x) = log(x[1]+10)\n",
    "TraceCalls.store(v::Vector) = copy(v)\n",
    "\n",
    "# Minimize the function x -> log(x[1]+10) starting at x = 0\n",
    "strace = @stacktrace (Optim, Calculus) optimize(logplus10, [0.0], BFGS())"
   ]
  },
  {
   "cell_type": "markdown",
   "metadata": {},
   "source": [
    "Then we can zoom in on the most interesting part of the stack-trace:"
   ]
  },
  {
   "cell_type": "code",
   "execution_count": 20,
   "metadata": {},
   "outputs": [
    {
     "data": {
      "text/html": [
       "<pre><a href=\"https://github.com/JuliaNLSolvers/Optim.jl/tree/250b50ab5f9bb87576c623fa20fdafb981ce40a1//src/utilities/perform_linesearch.jl#L3\" target=\"_blank\" style=\"color: black; text-decoration: none; border-bottom: 1px #C3C3C3 dotted\">Optim.perform_linesearch!</a>(Optim.BFGSState{Float64,1,Array{Float64,1}}(\"BFGS\", 1, [0.0], 2.302585092994046, 1, 1, 0, [0.0], [0.1], [0.1], NaN, [0.0], [0.0], [0.0], [1.0], [-0.1], [-12.4999], [0.133333], 1.0, false, LineSearches.LineSearchResults{Float64}([0.0, 1.0, 5.0, 25.0], [2.30259, 2.29253, 2.25129, 2.0149], [-0.01, -0.010101, -0.0105263, -0.0133333], 0)), Optim.BFGS{LineSearches.#hagerzhang!,Optim.##161#165}(LineSearches.hagerzhang!, Optim.#161, true), Optim.OnceDifferentiable(logplus10, Optim.g!, Optim.fg!)) => <font color=red>DomainError()</font></pre><ul><li><pre><a href=\"https://github.com/johnmyleswhite/Calculus.jl/tree/f7b5556a9ebd0cdde45f15d1b2cde331fe5efdd4//src/finite_difference.jl#L13\" target=\"_blank\" style=\"color: black; text-decoration: none; border-bottom: 1px #C3C3C3 dotted\">Calculus.finite_difference!</a>(logplus10, [-12.5], [0.133333], :central) => <font color=red>DomainError()</font></pre><ul><li><pre>logplus10([-12.4999]) => <font color=red>DomainError()</font></pre><ul></ul></li></ul></li></ul>"
      ],
      "text/plain": [
       "TraceCalls.Trace(Optim.perform_linesearch!, (Optim.BFGSState{Float64,1,Array{Float64,1}}(\"BFGS\", 1, [0.0], 2.302585092994046, 1, 1, 0, [0.0], [0.1], [0.1], NaN, [0.0], [0.0], [0.0], [1.0], [-0.1], [-12.4999], [0.133333], 1.0, false, LineSearches.LineSearchResults{Float64}([0.0, 1.0, 5.0, 25.0], [2.30259, 2.29253, 2.25129, 2.0149], [-0.01, -0.010101, -0.0105263, -0.0133333], 0)), Optim.BFGS{LineSearches.#hagerzhang!,Optim.##161#165}(LineSearches.hagerzhang!, Optim.#161, true), Optim.OnceDifferentiable(logplus10, Optim.g!, Optim.fg!)), (), TraceCalls.Trace[TraceCalls.Trace(Calculus.finite_difference!, (logplus10, [-12.5], [0.133333], :central), (), TraceCalls.Trace[TraceCalls.Trace(logplus10, ([-12.4999],), (), TraceCalls.Trace[], DomainError())], DomainError())], DomainError())"
      ]
     },
     "execution_count": 20,
     "metadata": {},
     "output_type": "execute_result"
    }
   ],
   "source": [
    "strace[1,1,1,1]"
   ]
  },
  {
   "cell_type": "markdown",
   "metadata": {},
   "source": [
    "Calling a `Trace` object repeats its computation. By tracing `strace[1,1,1,1]()`, we get the full trace for this part of the computation:"
   ]
  },
  {
   "cell_type": "code",
   "execution_count": 21,
   "metadata": {},
   "outputs": [
    {
     "data": {
      "text/html": [
       "<pre><a href=\"https://github.com/cstjean/TraceCalls.jl/tree/32ecf967e9f7197d5a6d0b63ba5e2d4d088aa93f//src/TraceCalls.jl#L265\" target=\"_blank\" style=\"color: black; text-decoration: none; border-bottom: 1px #C3C3C3 dotted\">#39</a>() => <font color=red>DomainError()</font></pre><ul><li><pre><a href=\"https://github.com/JuliaNLSolvers/Optim.jl/tree/250b50ab5f9bb87576c623fa20fdafb981ce40a1//src/utilities/perform_linesearch.jl#L3\" target=\"_blank\" style=\"color: black; text-decoration: none; border-bottom: 1px #C3C3C3 dotted\">Optim.perform_linesearch!</a>(Optim.BFGSState{Float64,1,Array{Float64,1}}(\"BFGS\", 1, [0.0], 2.302585092994046, 1, 1, 0, [0.0], [0.1], [0.1], NaN, [0.0], [0.0], [0.0], [1.0], [-0.1], [-12.4999], [0.133333], 1.0, false, LineSearches.LineSearchResults{Float64}([0.0, 1.0, 5.0, 25.0], [2.30259, 2.29253, 2.25129, 2.0149], [-0.01, -0.010101, -0.0105263, -0.0133333], 0)), Optim.BFGS{LineSearches.#hagerzhang!,Optim.##161#165}(LineSearches.hagerzhang!, Optim.#161, true), Optim.OnceDifferentiable(logplus10, Optim.g!, Optim.fg!)) => <font color=red>DomainError()</font></pre><ul><li><pre><a href=\"https://github.com/JuliaNLSolvers/Optim.jl/tree/250b50ab5f9bb87576c623fa20fdafb981ce40a1//src/utilities/perform_linesearch.jl#L3\" target=\"_blank\" style=\"color: black; text-decoration: none; border-bottom: 1px #C3C3C3 dotted\">Optim.checked_dphi0!</a>(Optim.BFGSState{Float64,1,Array{Float64,1}}(\"BFGS\", 1, [0.0], 2.302585092994046, 1, 1, 0, [0.0], [0.1], [0.1], NaN, [0.0], [0.0], [0.0], [1.0], [-0.1], [-12.4999], [0.133333], 1.0, false, LineSearches.LineSearchResults{Float64}([0.0, 1.0, 5.0, 25.0], [2.30259, 2.29253, 2.25129, 2.0149], [-0.01, -0.010101, -0.0105263, -0.0133333], 0)), Optim.BFGS{LineSearches.#hagerzhang!,Optim.##161#165}(LineSearches.hagerzhang!, Optim.#161, true)) => <b><font color=green>-0.009999999996070853</font></b></pre><ul></ul></li><li><pre><a href=\"https://github.com/JuliaNLSolvers/Optim.jl/tree/250b50ab5f9bb87576c623fa20fdafb981ce40a1//src/utilities/perform_linesearch.jl#L3\" target=\"_blank\" style=\"color: black; text-decoration: none; border-bottom: 1px #C3C3C3 dotted\">Optim.alphaguess!</a>(Optim.BFGSState{Float64,1,Array{Float64,1}}(\"BFGS\", 1, [0.0], 2.302585092994046, 1, 1, 0, [0.0], [0.1], [0.1], NaN, [0.0], [0.0], [0.0], [1.0], [-0.1], [-12.4999], [0.133333], 1.0, false, LineSearches.LineSearchResults{Float64}([0.0, 1.0, 5.0, 25.0], [2.30259, 2.29253, 2.25129, 2.0149], [-0.01, -0.010101, -0.0105263, -0.0133333], 0)), Optim.BFGS{LineSearches.#hagerzhang!,Optim.##161#165}(LineSearches.hagerzhang!, Optim.#161, true), -0.009999999996070853, Optim.OnceDifferentiable(logplus10, Optim.g!, Optim.fg!)) => <b><font color=green>1.0</font></b></pre><ul></ul></li><li><pre><a href=\"https://github.com/johnmyleswhite/Calculus.jl/tree/f7b5556a9ebd0cdde45f15d1b2cde331fe5efdd4//src/finite_difference.jl#L13\" target=\"_blank\" style=\"color: black; text-decoration: none; border-bottom: 1px #C3C3C3 dotted\">Calculus.finite_difference!</a>(logplus10, [-0.1], [0.133333], :central) => <b><font color=green>nothing</font></b></pre><ul><li><pre>logplus10([-0.0999939]) => <b><font color=green>2.2925353688044074</font></b></pre><ul></ul></li><li><pre>logplus10([-0.100006]) => <b><font color=green>2.2925341454802757</font></b></pre><ul></ul></li></ul></li><li><pre>logplus10([-0.1]) => <b><font color=green>2.2925347571425285</font></b></pre><ul></ul></li><li><pre><a href=\"https://github.com/johnmyleswhite/Calculus.jl/tree/f7b5556a9ebd0cdde45f15d1b2cde331fe5efdd4//src/finite_difference.jl#L13\" target=\"_blank\" style=\"color: black; text-decoration: none; border-bottom: 1px #C3C3C3 dotted\">Calculus.finite_difference!</a>(logplus10, [-0.5], [0.10101], :central) => <b><font color=green>nothing</font></b></pre><ul><li><pre>logplus10([-0.499994]) => <b><font color=green>2.25129243603289</font></b></pre><ul></ul></li><li><pre>logplus10([-0.500006]) => <b><font color=green>2.2512911612003736</font></b></pre><ul></ul></li></ul></li><li><pre>logplus10([-0.5]) => <b><font color=green>2.251291798616835</font></b></pre><ul></ul></li><li><pre><a href=\"https://github.com/johnmyleswhite/Calculus.jl/tree/f7b5556a9ebd0cdde45f15d1b2cde331fe5efdd4//src/finite_difference.jl#L13\" target=\"_blank\" style=\"color: black; text-decoration: none; border-bottom: 1px #C3C3C3 dotted\">Calculus.finite_difference!</a>(logplus10, [-2.5], [0.105263], :central) => <b><font color=green>nothing</font></b></pre><ul><li><pre>logplus10([-2.49998]) => <b><font color=green>2.01490503909053</font></b></pre><ul></ul></li><li><pre>logplus10([-2.50002]) => <b><font color=green>2.0149010021208964</font></b></pre><ul></ul></li></ul></li><li><pre>logplus10([-2.5]) => <b><font color=green>2.0149030206077505</font></b></pre><ul></ul></li><li><pre><a href=\"https://github.com/johnmyleswhite/Calculus.jl/tree/f7b5556a9ebd0cdde45f15d1b2cde331fe5efdd4//src/finite_difference.jl#L13\" target=\"_blank\" style=\"color: black; text-decoration: none; border-bottom: 1px #C3C3C3 dotted\">Calculus.finite_difference!</a>(logplus10, [-12.5], [0.133333], :central) => <font color=red>DomainError()</font></pre><ul><li><pre>logplus10([-12.4999]) => <font color=red>DomainError()</font></pre><ul></ul></li></ul></li></ul></li></ul>"
      ],
      "text/plain": [
       "TraceCalls.Trace(#39, (), (), TraceCalls.Trace[TraceCalls.Trace(Optim.perform_linesearch!, (Optim.BFGSState{Float64,1,Array{Float64,1}}(\"BFGS\", 1, [0.0], 2.30259, 1, 1, 0, [0.0], [0.1], [0.1], NaN, [0.0], [0.0], [0.0], [1.0], [-0.1], [-12.4999], [0.133333], 1.0, false, LineSearches.LineSearchResults{Float64}([0.0, 1.0, 5.0, 25.0], [2.30259, 2.29253, 2.25129, 2.0149], [-0.01, -0.010101, -0.0105263, -0.0133333], 0)), Optim.BFGS{LineSearches.#hagerzhang!,Optim.##161#165}(LineSearches.hagerzhang!, Optim.#161, true), Optim.OnceDifferentiable(logplus10, Optim.g!, Optim.fg!)), (), TraceCalls.Trace[TraceCalls.Trace(Optim.checked_dphi0!, (Optim.BFGSState{Float64,1,Array{Float64,1}}(\"BFGS\", 1, [0.0], 2.30259, 1, 1, 0, [0.0], [0.1], [0.1], NaN, [0.0], [0.0], [0.0], [1.0], [-0.1], [-12.4999], [0.133333], 1.0, false, LineSearches.LineSearchResults{Float64}([0.0, 1.0, 5.0, 25.0], [2.30259, 2.29253, 2.25129, 2.0149], [-0.01, -0.010101, -0.0105263, -0.0133333], 0)), Optim.BFGS{LineSearches.#hagerzhang!,Optim.##161#165}(LineSearches.hagerzhang!, Optim.#161, true)), (), TraceCalls.Trace[], -0.01), TraceCalls.Trace(Optim.alphaguess!, (Optim.BFGSState{Float64,1,Array{Float64,1}}(\"BFGS\", 1, [0.0], 2.30259, 1, 1, 0, [0.0], [0.1], [0.1], NaN, [0.0], [0.0], [0.0], [1.0], [-0.1], [-12.4999], [0.133333], 1.0, false, LineSearches.LineSearchResults{Float64}([0.0, 1.0, 5.0, 25.0], [2.30259, 2.29253, 2.25129, 2.0149], [-0.01, -0.010101, -0.0105263, -0.0133333], 0)), Optim.BFGS{LineSearches.#hagerzhang!,Optim.##161#165}(LineSearches.hagerzhang!, Optim.#161, true), -0.01, Optim.OnceDifferentiable(logplus10, Optim.g!, Optim.fg!)), (), TraceCalls.Trace[], 1.0), TraceCalls.Trace(Calculus.finite_difference!, (logplus10, [-0.1], [0.133333], :central), (), TraceCalls.Trace[TraceCalls.Trace(logplus10, ([-0.0999939],), (), TraceCalls.Trace[], 2.29254), TraceCalls.Trace(logplus10, ([-0.100006],), (), TraceCalls.Trace[], 2.29253)], nothing), TraceCalls.Trace(logplus10, ([-0.1],), (), TraceCalls.Trace[], 2.29253), TraceCalls.Trace(Calculus.finite_difference!, (logplus10, [-0.5], [0.10101], :central), (), TraceCalls.Trace[TraceCalls.Trace(logplus10, ([-0.499994],), (), TraceCalls.Trace[], 2.25129), TraceCalls.Trace(logplus10, ([-0.500006],), (), TraceCalls.Trace[], 2.25129)], nothing), TraceCalls.Trace(logplus10, ([-0.5],), (), TraceCalls.Trace[], 2.25129), TraceCalls.Trace(Calculus.finite_difference!, (logplus10, [-2.5], [0.105263], :central), (), TraceCalls.Trace[TraceCalls.Trace(logplus10, ([-2.49998],), (), TraceCalls.Trace[], 2.01491), TraceCalls.Trace(logplus10, ([-2.50002],), (), TraceCalls.Trace[], 2.0149)], nothing), TraceCalls.Trace(logplus10, ([-2.5],), (), TraceCalls.Trace[], 2.0149), TraceCalls.Trace(Calculus.finite_difference!, (logplus10, [-12.5], [0.133333], :central), (), TraceCalls.Trace[TraceCalls.Trace(logplus10, ([-12.4999],), (), TraceCalls.Trace[], DomainError())], DomainError())], DomainError())], DomainError())"
      ]
     },
     "execution_count": 21,
     "metadata": {},
     "output_type": "execute_result"
    }
   ],
   "source": [
    "linesearch_trace = @trace (Optim, Calculus) strace[1,1,1,1]()"
   ]
  },
  {
   "cell_type": "markdown",
   "metadata": {},
   "source": [
    "Focusing on just `finite_difference!` shows what happened: the line search keeps going for lower and lower values of `x`, until it tries `log(-12.5+10) == log(-2.5)`, which is a `DomainError`."
   ]
  },
  {
   "cell_type": "code",
   "execution_count": 22,
   "metadata": {},
   "outputs": [
    {
     "data": {
      "text/html": [
       "<pre><a href=\"https://github.com/cstjean/TraceCalls.jl/tree/32ecf967e9f7197d5a6d0b63ba5e2d4d088aa93f//src/TraceCalls.jl#L265\" target=\"_blank\" style=\"color: black; text-decoration: none; border-bottom: 1px #C3C3C3 dotted\">#39</a>() => <font color=red>DomainError()</font></pre><ul><li><pre><a href=\"https://github.com/johnmyleswhite/Calculus.jl/tree/f7b5556a9ebd0cdde45f15d1b2cde331fe5efdd4//src/finite_difference.jl#L13\" target=\"_blank\" style=\"color: black; text-decoration: none; border-bottom: 1px #C3C3C3 dotted\">Calculus.finite_difference!</a>(logplus10, [-0.1], [0.133333], :central) => <b><font color=green>nothing</font></b></pre><ul></ul></li><li><pre><a href=\"https://github.com/johnmyleswhite/Calculus.jl/tree/f7b5556a9ebd0cdde45f15d1b2cde331fe5efdd4//src/finite_difference.jl#L13\" target=\"_blank\" style=\"color: black; text-decoration: none; border-bottom: 1px #C3C3C3 dotted\">Calculus.finite_difference!</a>(logplus10, [-0.5], [0.10101], :central) => <b><font color=green>nothing</font></b></pre><ul></ul></li><li><pre><a href=\"https://github.com/johnmyleswhite/Calculus.jl/tree/f7b5556a9ebd0cdde45f15d1b2cde331fe5efdd4//src/finite_difference.jl#L13\" target=\"_blank\" style=\"color: black; text-decoration: none; border-bottom: 1px #C3C3C3 dotted\">Calculus.finite_difference!</a>(logplus10, [-2.5], [0.105263], :central) => <b><font color=green>nothing</font></b></pre><ul></ul></li><li><pre><a href=\"https://github.com/johnmyleswhite/Calculus.jl/tree/f7b5556a9ebd0cdde45f15d1b2cde331fe5efdd4//src/finite_difference.jl#L13\" target=\"_blank\" style=\"color: black; text-decoration: none; border-bottom: 1px #C3C3C3 dotted\">Calculus.finite_difference!</a>(logplus10, [-12.5], [0.133333], :central) => <font color=red>DomainError()</font></pre><ul></ul></li></ul>"
      ],
      "text/plain": [
       "TraceCalls.Trace(#39, (), (), TraceCalls.Trace[TraceCalls.Trace(Calculus.finite_difference!, (logplus10, [-0.1], [0.133333], :central), (), TraceCalls.Trace[], nothing), TraceCalls.Trace(Calculus.finite_difference!, (logplus10, [-0.5], [0.10101], :central), (), TraceCalls.Trace[], nothing), TraceCalls.Trace(Calculus.finite_difference!, (logplus10, [-2.5], [0.105263], :central), (), TraceCalls.Trace[], nothing), TraceCalls.Trace(Calculus.finite_difference!, (logplus10, [-12.5], [0.133333], :central), (), TraceCalls.Trace[], DomainError())], DomainError())"
      ]
     },
     "execution_count": 22,
     "metadata": {},
     "output_type": "execute_result"
    }
   ],
   "source": [
    "filter(tr->tr.func==Calculus.finite_difference!, linesearch_trace)"
   ]
  },
  {
   "cell_type": "markdown",
   "metadata": {},
   "source": [
    "`filter` is useful even when there is no exception to debug. By selecting only certain parts of the trace, it's the TraceCalls equivalent of setting a breakpoint. \n",
    "\n",
    "As a convenience, `which(::Trace)` and `edit(::Trace)` are implemented. They point to the source location for that function call."
   ]
  },
  {
   "cell_type": "markdown",
   "metadata": {},
   "source": [
    "#### Debugging test failures\n",
    "\n",
    "When a test used to pass, but now fails after a code change, `compare_past_trace` can be used to better understand the failure."
   ]
  },
  {
   "cell_type": "code",
   "execution_count": 23,
   "metadata": {},
   "outputs": [
    {
     "name": "stdout",
     "output_type": "stream",
     "text": [
      "search: \u001b[1mc\u001b[22m\u001b[1mo\u001b[22m\u001b[1mm\u001b[22m\u001b[1mp\u001b[22m\u001b[1ma\u001b[22m\u001b[1mr\u001b[22m\u001b[1me\u001b[22m\u001b[1m_\u001b[22m\u001b[1mp\u001b[22m\u001b[1ma\u001b[22m\u001b[1ms\u001b[22m\u001b[1mt\u001b[22m\u001b[1m_\u001b[22m\u001b[1mt\u001b[22m\u001b[1mr\u001b[22m\u001b[1ma\u001b[22m\u001b[1mc\u001b[22m\u001b[1me\u001b[22m\n",
      "\n"
     ]
    },
    {
     "data": {
      "text/markdown": [
       "`compare_past_trace(old_trace::Trace; filter_out_equal=true))` reruns every function call in `old_trace`, and shows in red where the new result differs from the old.  If `filter_out_equal==true`, only show the non-equal results. \n"
      ],
      "text/plain": [
       "`compare_past_trace(old_trace::Trace; filter_out_equal=true))` reruns every function call in `old_trace`, and shows in red where the new result differs from the old.  If `filter_out_equal==true`, only show the non-equal results. \n"
      ]
     },
     "execution_count": 23,
     "metadata": {},
     "output_type": "execute_result"
    }
   ],
   "source": [
    "?compare_past_trace"
   ]
  },
  {
   "cell_type": "markdown",
   "metadata": {},
   "source": [
    "To use it:\n",
    "\n",
    "1. Trace the failing test/computation under the correct code (it won't fail, of course)\n",
    "2. `git checkout` the bad code (or make the changes manually). `TraceCalls` imports `Revise.jl`, so the code changes will take effect automatically.\n",
    "3. Call `compare_past_trace` on the trace from step 1"
   ]
  },
  {
   "cell_type": "markdown",
   "metadata": {},
   "source": [
    "# Profiling\n",
    "\n",
    "`measure(:@measuring_macro, trace)` applies the given _quoted_ macro (put a `:` in front of the `@`) to every function call in `trace`. Useful macros are `@allocated`, `@elapsed` and [BenchmarkTools](https://github.com/JuliaCI/BenchmarkTools.jl)' `@belapsed`. Because measuring involves rerunning every function call in the trace, a good rule-of-thumb is to use the more accurate `@belapsed` when your code to profile takes less than a second, and `@elapsed` when it takes less than a minute.\n",
    "\n",
    "Remember that due to timing fluctuations, `f(x) = g(x) + ...` does not imply that `@elapsed(f(x)) >= @elapsed(g(x))`"
   ]
  },
  {
   "cell_type": "code",
   "execution_count": 24,
   "metadata": {
    "scrolled": false
   },
   "outputs": [
    {
     "data": {
      "text/html": [
       "<pre><a href=\"https://github.com/cstjean/TraceCalls.jl/tree/32ecf967e9f7197d5a6d0b63ba5e2d4d088aa93f//src/TraceCalls.jl#L265\" target=\"_blank\" style=\"color: black; text-decoration: none; border-bottom: 1px #C3C3C3 dotted\">#43</a>() => <b><font color=green><font color=ff0000>1.0</font></font></b></pre><ul><li><pre><a href=\"https://github.com/JuliaPy/PyCall.jl/tree/f863d82b34969017432be784954029575b2e3e61//src/PyCall.jl#L248\" target=\"_blank\" style=\"color: black; text-decoration: none; border-bottom: 1px #C3C3C3 dotted\">getindex</a>(PyObject <module 'math' from '/Users/cedric/.julia/v0.6/Conda/deps/usr/lib/python2.7/lib-dynload/math.so'>, :pi) => <b><font color=green><font color=f90600>0.9761</font></font></b></pre><ul><li><pre><a href=\"https://github.com/JuliaPy/PyCall.jl/tree/f863d82b34969017432be784954029575b2e3e61//src/PyCall.jl#L237\" target=\"_blank\" style=\"color: black; text-decoration: none; border-bottom: 1px #C3C3C3 dotted\">getindex</a>(PyObject <module 'math' from '/Users/cedric/.julia/v0.6/Conda/deps/usr/lib/python2.7/lib-dynload/math.so'>, \"pi\") => <b><font color=green><font color=1ee100>0.1164</font></font></b></pre><ul></ul></li><li><pre><a href=\"https://github.com/JuliaPy/PyCall.jl/tree/f863d82b34969017432be784954029575b2e3e61//src/conversions.jl#L3\" target=\"_blank\" style=\"color: black; text-decoration: none; border-bottom: 1px #C3C3C3 dotted\">convert</a>(PyCall.PyAny, PyObject 3.141592653589793) => <b><font color=green><font color=b84700>0.7235</font></font></b></pre><ul><li><pre><a href=\"https://github.com/JuliaPy/PyCall.jl/tree/f863d82b34969017432be784954029575b2e3e61//src/conversions.jl#L11\" target=\"_blank\" style=\"color: black; text-decoration: none; border-bottom: 1px #C3C3C3 dotted\">PyCall.pytype_query</a>(PyObject 3.141592653589793, PyCall.PyObject) => <b><font color=green><font color=7b8400>0.4843</font></font></b></pre><ul><li><pre><a href=\"https://github.com/JuliaPy/PyCall.jl/tree/f863d82b34969017432be784954029575b2e3e61//src/conversions.jl#L15\" target=\"_blank\" style=\"color: black; text-decoration: none; border-bottom: 1px #C3C3C3 dotted\">PyCall.pyint_query</a>(PyObject 3.141592653589793) => <b><font color=green><font color=23dc00>0.138</font></font></b></pre><ul><li><pre><a href=\"https://github.com/JuliaPy/PyCall.jl/tree/f863d82b34969017432be784954029575b2e3e61//src/PyCall.jl#L134\" target=\"_blank\" style=\"color: black; text-decoration: none; border-bottom: 1px #C3C3C3 dotted\">PyCall.pyisinstance</a>(PyObject 3.141592653589793, Ptr{PyCall.PyObject_struct} @0x00000001268e4c98) => <b><font color=green><font color=11ee00>0.0675</font></font></b></pre><ul></ul></li><li><pre><a href=\"https://github.com/JuliaPy/PyCall.jl/tree/f863d82b34969017432be784954029575b2e3e61//src/PyCall.jl#L134\" target=\"_blank\" style=\"color: black; text-decoration: none; border-bottom: 1px #C3C3C3 dotted\">PyCall.pyisinstance</a>(PyObject 3.141592653589793, Ptr{PyCall.PyObject_struct} @0x00000001268e6aa8) => <b><font color=green><font color=11ee00>0.0678</font></font></b></pre><ul></ul></li></ul></li></ul></li><li><pre><a href=\"https://github.com/JuliaPy/PyCall.jl/tree/f863d82b34969017432be784954029575b2e3e61//src/conversions.jl#L2\" target=\"_blank\" style=\"color: black; text-decoration: none; border-bottom: 1px #C3C3C3 dotted\">convert</a>(Float64, PyObject 3.141592653589793) => <b><font color=green><font color=03fc00>0.0102</font></font></b></pre><ul><li><pre><a href=\"https://github.com/JuliaPy/PyCall.jl/tree/f863d82b34969017432be784954029575b2e3e61//src/conversions.jl#L6\" target=\"_blank\" style=\"color: black; text-decoration: none; border-bottom: 1px #C3C3C3 dotted\">PyCall.asscalar</a>(PyObject 3.141592653589793) => <b><font color=green><font color=02fd00>0.0059</font></font></b></pre><ul></ul></li><li><pre><a href=\"https://github.com/JuliaPy/PyCall.jl/tree/f863d82b34969017432be784954029575b2e3e61//src/exception.jl#L3\" target=\"_blank\" style=\"color: black; text-decoration: none; border-bottom: 1px #C3C3C3 dotted\">PyCall.pyerr_check</a>(\"ccall(@pysym(:PyFloat_AsDouble), Cdouble, (PyPtr,), asscalar(po))\", 3.141592653589793) => <b><font color=green><font color=01fe00>0.0051</font></font></b></pre><ul></ul></li></ul></li></ul></li></ul></li></ul>"
      ],
      "text/plain": [
       "TraceCalls.Trace(#43, (), (), TraceCalls.Trace[TraceCalls.Trace(getindex, (PyObject <module 'math' from '/Users/cedric/.julia/v0.6/Conda/deps/usr/lib/python2.7/lib-dynload/math.so'>, :pi), (), TraceCalls.Trace[TraceCalls.Trace(getindex, (PyObject <module 'math' from '/Users/cedric/.julia/v0.6/Conda/deps/usr/lib/python2.7/lib-dynload/math.so'>, \"pi\"), (), TraceCalls.Trace[], TraceCalls.FontColor(\"1ee100\", 0.1164)), TraceCalls.Trace(convert, (PyCall.PyAny, PyObject 3.141592653589793), (), TraceCalls.Trace[TraceCalls.Trace(PyCall.pytype_query, (PyObject 3.141592653589793, PyCall.PyObject), (), TraceCalls.Trace[TraceCalls.Trace(PyCall.pyint_query, (PyObject 3.141592653589793,), (), TraceCalls.Trace[TraceCalls.Trace(PyCall.pyisinstance, (PyObject 3.141592653589793, Ptr{PyCall.PyObject_struct} @0x00000001268e4c98), (), TraceCalls.Trace[], TraceCalls.FontColor(\"11ee00\", 0.0675)), TraceCalls.Trace(PyCall.pyisinstance, (PyObject 3.141592653589793, Ptr{PyCall.PyObject_struct} @0x00000001268e6aa8), (), TraceCalls.Trace[], TraceCalls.FontColor(\"11ee00\", 0.0678))], TraceCalls.FontColor(\"23dc00\", 0.138))], TraceCalls.FontColor(\"7b8400\", 0.4843)), TraceCalls.Trace(convert, (Float64, PyObject 3.141592653589793), (), TraceCalls.Trace[TraceCalls.Trace(PyCall.asscalar, (PyObject 3.141592653589793,), (), TraceCalls.Trace[], TraceCalls.FontColor(\"02fd00\", 0.0059)), TraceCalls.Trace(PyCall.pyerr_check, (\"ccall(@pysym(:PyFloat_AsDouble), Cdouble, (PyPtr,), asscalar(po))\", 3.14159), (), TraceCalls.Trace[], TraceCalls.FontColor(\"01fe00\", 0.0051))], TraceCalls.FontColor(\"03fc00\", 0.0102))], TraceCalls.FontColor(\"b84700\", 0.7235))], TraceCalls.FontColor(\"f90600\", 0.9761))], TraceCalls.FontColor(\"ff0000\", 1.0))"
      ]
     },
     "execution_count": 24,
     "metadata": {},
     "output_type": "execute_result"
    }
   ],
   "source": [
    "## Profile the PyCall code for accessing Python's `math.pi` \n",
    "using PyCall, TraceCalls\n",
    "\n",
    "math = pyimport(:math)\n",
    "trace_pycall = @trace PyCall math[:pi];\n",
    "\n",
    "using BenchmarkTools: @belapsed\n",
    "measure(:@belapsed, trace_pycall; normalize=true, threshold=0.005)  # only show calls that take >0.5% of total runtime"
   ]
  }
 ],
 "metadata": {
  "kernelspec": {
   "display_name": "Julia 0.6.0-pre.beta",
   "language": "julia",
   "name": "julia-0.6"
  },
  "language_info": {
   "file_extension": ".jl",
   "mimetype": "application/julia",
   "name": "julia",
   "version": "0.6.0"
  }
 },
 "nbformat": 4,
 "nbformat_minor": 2
}
