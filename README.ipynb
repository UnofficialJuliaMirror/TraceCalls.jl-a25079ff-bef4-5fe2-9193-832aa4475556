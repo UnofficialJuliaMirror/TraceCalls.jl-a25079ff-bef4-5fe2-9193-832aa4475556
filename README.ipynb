{
 "cells": [
  {
   "cell_type": "markdown",
   "metadata": {},
   "source": [
    "# Overview"
   ]
  },
  {
   "cell_type": "code",
   "execution_count": 13,
   "metadata": {},
   "outputs": [
    {
     "data": {
      "text/html": [
       "<pre><a href=\"https://github.com/cstjean/TraceCalls.jl/tree/ceb7ce13b0e2c232bc6e9f682500747da75dddf1//src/TraceCalls.jl#L252\" target=\"_blank\" style=\"color: black; text-decoration: none; border-bottom: 1px #C3C3C3 dotted\">TraceCalls.#18</a>() => <b><font color=green>\n",
       "  [2, 1]  =  1\n",
       "  [3, 1]  =  1\n",
       "  [1, 2]  =  1\n",
       "  [3, 2]  =  1\n",
       "  [1, 3]  =  1\n",
       "  [2, 3]  =  1</font></b></pre><ul><li><pre><a href=\"https://github.com/JuliaGraphs/LightGraphs.jl/tree/6b5b5c341c0d7785675018821d8b210f8398394c//src/linalg/spectral.jl#L15\" target=\"_blank\" style=\"color: black; text-decoration: none; border-bottom: 1px #C3C3C3 dotted\">LightGraphs.adjacency_matrix</a>({3, 3} undirected simple Int64 graph, :out, Int64) => <b><font color=green>\n",
       "  [2, 1]  =  1\n",
       "  [3, 1]  =  1\n",
       "  [1, 2]  =  1\n",
       "  [3, 2]  =  1\n",
       "  [1, 3]  =  1\n",
       "  [2, 3]  =  1</font></b></pre><ul><li><pre><a href=\"https://github.com/JuliaGraphs/LightGraphs.jl/tree/6b5b5c341c0d7785675018821d8b210f8398394c//src/core.jl#L8\" target=\"_blank\" style=\"color: black; text-decoration: none; border-bottom: 1px #C3C3C3 dotted\">LightGraphs.indegree</a>({3, 3} undirected simple Int64 graph, 1) => <b><font color=green>2</font></b></pre><ul></ul></li><li><pre><a href=\"https://github.com/JuliaGraphs/LightGraphs.jl/tree/6b5b5c341c0d7785675018821d8b210f8398394c//src/core.jl#L8\" target=\"_blank\" style=\"color: black; text-decoration: none; border-bottom: 1px #C3C3C3 dotted\">LightGraphs.indegree</a>({3, 3} undirected simple Int64 graph, 1) => <b><font color=green>2</font></b></pre><ul></ul></li><li><pre><a href=\"https://github.com/JuliaGraphs/LightGraphs.jl/tree/6b5b5c341c0d7785675018821d8b210f8398394c//src/core.jl#L8\" target=\"_blank\" style=\"color: black; text-decoration: none; border-bottom: 1px #C3C3C3 dotted\">LightGraphs.indegree</a>({3, 3} undirected simple Int64 graph, 2) => <b><font color=green>2</font></b></pre><ul></ul></li><li><pre><a href=\"https://github.com/JuliaGraphs/LightGraphs.jl/tree/6b5b5c341c0d7785675018821d8b210f8398394c//src/core.jl#L8\" target=\"_blank\" style=\"color: black; text-decoration: none; border-bottom: 1px #C3C3C3 dotted\">LightGraphs.indegree</a>({3, 3} undirected simple Int64 graph, 2) => <b><font color=green>2</font></b></pre><ul></ul></li><li><pre><a href=\"https://github.com/JuliaGraphs/LightGraphs.jl/tree/6b5b5c341c0d7785675018821d8b210f8398394c//src/core.jl#L8\" target=\"_blank\" style=\"color: black; text-decoration: none; border-bottom: 1px #C3C3C3 dotted\">LightGraphs.indegree</a>({3, 3} undirected simple Int64 graph, 3) => <b><font color=green>2</font></b></pre><ul></ul></li><li><pre><a href=\"https://github.com/JuliaGraphs/LightGraphs.jl/tree/6b5b5c341c0d7785675018821d8b210f8398394c//src/core.jl#L8\" target=\"_blank\" style=\"color: black; text-decoration: none; border-bottom: 1px #C3C3C3 dotted\">LightGraphs.indegree</a>({3, 3} undirected simple Int64 graph, 3) => <b><font color=green>2</font></b></pre><ul></ul></li></ul></li></ul>"
      ],
      "text/plain": [
       "TraceCalls.Trace(TraceCalls.#18, (), (), TraceCalls.Trace[TraceCalls.Trace(LightGraphs.adjacency_matrix, ({3, 3} undirected simple Int64 graph, :out, Int64), (), TraceCalls.Trace[TraceCalls.Trace(LightGraphs.indegree, ({3, 3} undirected simple Int64 graph, 1), (), TraceCalls.Trace[], 2), TraceCalls.Trace(LightGraphs.indegree, ({3, 3} undirected simple Int64 graph, 1), (), TraceCalls.Trace[], 2), TraceCalls.Trace(LightGraphs.indegree, ({3, 3} undirected simple Int64 graph, 2), (), TraceCalls.Trace[], 2), TraceCalls.Trace(LightGraphs.indegree, ({3, 3} undirected simple Int64 graph, 2), (), TraceCalls.Trace[], 2), TraceCalls.Trace(LightGraphs.indegree, ({3, 3} undirected simple Int64 graph, 3), (), TraceCalls.Trace[], 2), TraceCalls.Trace(LightGraphs.indegree, ({3, 3} undirected simple Int64 graph, 3), (), TraceCalls.Trace[], 2)], \n",
       "  [2, 1]  =  1\n",
       "  [3, 1]  =  1\n",
       "  [1, 2]  =  1\n",
       "  [3, 2]  =  1\n",
       "  [1, 3]  =  1\n",
       "  [2, 3]  =  1)], \n",
       "  [2, 1]  =  1\n",
       "  [3, 1]  =  1\n",
       "  [1, 2]  =  1\n",
       "  [3, 2]  =  1\n",
       "  [1, 3]  =  1\n",
       "  [2, 3]  =  1)"
      ]
     },
     "execution_count": 13,
     "metadata": {},
     "output_type": "execute_result"
    }
   ],
   "source": [
    "using LightGraphs, TraceCalls\n",
    "A = [\n",
    "    0 1 1\n",
    "    1 0 1\n",
    "    1 1 0\n",
    "]\n",
    "g = Graph(A)\n",
    "@trace LightGraphs adjacency_matrix(g)"
   ]
  },
  {
   "cell_type": "code",
   "execution_count": 12,
   "metadata": {},
   "outputs": [
    {
     "data": {
      "text/html": [
       "<pre><a href=\"https://github.com/cstjean/TraceCalls.jl/tree/ceb7ce13b0e2c232bc6e9f682500747da75dddf1//src/TraceCalls.jl#L252\" target=\"_blank\" style=\"color: black; text-decoration: none; border-bottom: 1px #C3C3C3 dotted\">TraceCalls.#18</a>() => <b><font color=green>[1, 2, 1, 3, 1, 2, 3, 2, 1, 2]</font></b></pre><ul><li><pre><a href=\"https://github.com/JuliaGraphs/LightGraphs.jl/tree/6b5b5c341c0d7785675018821d8b210f8398394c//src/traversals/randomwalks.jl#L8\" target=\"_blank\" style=\"color: black; text-decoration: none; border-bottom: 1px #C3C3C3 dotted\">LightGraphs.randomwalk</a>({3, 3} undirected simple Int64 graph, 1, 10) => <b><font color=green>[1, 2, 1, 3, 1, 2, 3, 2, 1, 2]</font></b></pre><ul></ul></li></ul>"
      ],
      "text/plain": [
       "TraceCalls.Trace(TraceCalls.#18, (), (), TraceCalls.Trace[TraceCalls.Trace(LightGraphs.randomwalk, ({3, 3} undirected simple Int64 graph, 1, 10), (), TraceCalls.Trace[], [1, 2, 1, 3, 1, 2, 3, 2, 1, 2])], [1, 2, 1, 3, 1, 2, 3, 2, 1, 2])"
      ]
     },
     "execution_count": 12,
     "metadata": {},
     "output_type": "execute_result"
    }
   ],
   "source": [
    "@trace LightGraphs randomwalk(g, 1, 10)"
   ]
  },
  {
   "cell_type": "code",
   "execution_count": 7,
   "metadata": {},
   "outputs": [
    {
     "data": {
      "text/html": [
       "add_edge!(g::<b>LightGraphs.SimpleGraphs.AbstractSimpleGraph</b>, x, y) at <a href=\"https://github.com/JuliaGraphs/LightGraphs.jl/tree/6b5b5c341c0d7785675018821d8b210f8398394c//src/graphtypes/simplegraphs/SimpleGraphs.jl#L62\" target=\"_blank\">/Users/cedric/.julia/v0.6/LightGraphs/src/graphtypes/simplegraphs/SimpleGraphs.jl:62</a>"
      ],
      "text/plain": [
       "add_edge!(g::LightGraphs.SimpleGraphs.AbstractSimpleGraph, x, y) in LightGraphs.SimpleGraphs at /Users/cedric/.julia/v0.6/LightGraphs/src/graphtypes/simplegraphs/SimpleGraphs.jl:62"
      ]
     },
     "execution_count": 7,
     "metadata": {},
     "output_type": "execute_result"
    }
   ],
   "source": [
    "@which add_edge!(g, 1, 2)"
   ]
  },
  {
   "cell_type": "code",
   "execution_count": 2,
   "metadata": {},
   "outputs": [
    {
     "data": {
      "text/html": [
       "<pre><a href=\"https://github.com/cstjean/TraceCalls.jl/tree/ceb7ce13b0e2c232bc6e9f682500747da75dddf1//src/TraceCalls.jl#L252\" target=\"_blank\" style=\"color: black; text-decoration: none; border-bottom: 1px #C3C3C3 dotted\">TraceCalls.#18</a>() => <b><font color=green>{3, 3} undirected simple Int64 graph</font></b></pre><ul><li><pre><a href=\"https://github.com/JuliaGraphs/LightGraphs.jl/tree/6b5b5c341c0d7785675018821d8b210f8398394c//src/core.jl#L3\" target=\"_blank\" style=\"color: black; text-decoration: none; border-bottom: 1px #C3C3C3 dotted\">LightGraphs._insert_and_dedup!</a>([2, 3], 2) => <b><font color=green>true</font></b></pre><ul></ul></li><li><pre><a href=\"https://github.com/JuliaGraphs/LightGraphs.jl/tree/6b5b5c341c0d7785675018821d8b210f8398394c//src/core.jl#L3\" target=\"_blank\" style=\"color: black; text-decoration: none; border-bottom: 1px #C3C3C3 dotted\">LightGraphs._insert_and_dedup!</a>([1, 3], 1) => <b><font color=green>true</font></b></pre><ul></ul></li><li><pre><a href=\"https://github.com/JuliaGraphs/LightGraphs.jl/tree/6b5b5c341c0d7785675018821d8b210f8398394c//src/core.jl#L3\" target=\"_blank\" style=\"color: black; text-decoration: none; border-bottom: 1px #C3C3C3 dotted\">LightGraphs._insert_and_dedup!</a>([2, 3], 3) => <b><font color=green>true</font></b></pre><ul></ul></li><li><pre><a href=\"https://github.com/JuliaGraphs/LightGraphs.jl/tree/6b5b5c341c0d7785675018821d8b210f8398394c//src/core.jl#L3\" target=\"_blank\" style=\"color: black; text-decoration: none; border-bottom: 1px #C3C3C3 dotted\">LightGraphs._insert_and_dedup!</a>([1, 2], 1) => <b><font color=green>true</font></b></pre><ul></ul></li><li><pre><a href=\"https://github.com/JuliaGraphs/LightGraphs.jl/tree/6b5b5c341c0d7785675018821d8b210f8398394c//src/core.jl#L3\" target=\"_blank\" style=\"color: black; text-decoration: none; border-bottom: 1px #C3C3C3 dotted\">LightGraphs._insert_and_dedup!</a>([1, 3], 3) => <b><font color=green>true</font></b></pre><ul></ul></li><li><pre><a href=\"https://github.com/JuliaGraphs/LightGraphs.jl/tree/6b5b5c341c0d7785675018821d8b210f8398394c//src/core.jl#L3\" target=\"_blank\" style=\"color: black; text-decoration: none; border-bottom: 1px #C3C3C3 dotted\">LightGraphs._insert_and_dedup!</a>([1, 2], 2) => <b><font color=green>true</font></b></pre><ul></ul></li></ul>"
      ],
      "text/plain": [
       "TraceCalls.Trace(TraceCalls.#18, (), (), TraceCalls.Trace[TraceCalls.Trace(LightGraphs._insert_and_dedup!, ([2, 3], 2), (), TraceCalls.Trace[], true), TraceCalls.Trace(LightGraphs._insert_and_dedup!, ([1, 3], 1), (), TraceCalls.Trace[], true), TraceCalls.Trace(LightGraphs._insert_and_dedup!, ([2, 3], 3), (), TraceCalls.Trace[], true), TraceCalls.Trace(LightGraphs._insert_and_dedup!, ([1, 2], 1), (), TraceCalls.Trace[], true), TraceCalls.Trace(LightGraphs._insert_and_dedup!, ([1, 3], 3), (), TraceCalls.Trace[], true), TraceCalls.Trace(LightGraphs._insert_and_dedup!, ([1, 2], 2), (), TraceCalls.Trace[], true)], {3, 3} undirected simple Int64 graph)"
      ]
     },
     "execution_count": 2,
     "metadata": {},
     "output_type": "execute_result"
    }
   ],
   "source": [
    "A = [\n",
    "    0 1 1\n",
    "    1 0 1\n",
    "    1 1 0\n",
    "]\n",
    "\n",
    "@trace LightGraphs Graph(A)"
   ]
  },
  {
   "cell_type": "code",
   "execution_count": 3,
   "metadata": {},
   "outputs": [],
   "source": [
    "upd = TraceCalls.traceable_update(LightGraphs);"
   ]
  },
  {
   "cell_type": "code",
   "execution_count": 3,
   "metadata": {},
   "outputs": [
    {
     "name": "stderr",
     "output_type": "stream",
     "text": [
      "\u001b[1m\u001b[36mINFO: \u001b[39m\u001b[22m\u001b[36mTesting ClobberingReload\n",
      "\u001b[39m\u001b[1m\u001b[36mINFO: \u001b[39m\u001b[22m\u001b[36mReloading AA\n",
      "\u001b[39m\u001b[1m\u001b[36mINFO: \u001b[39m\u001b[22m\u001b[36mReloading BB\n",
      "\u001b[39m\u001b[1m\u001b[36mINFO: \u001b[39m\u001b[22m\u001b[36mReloading ParametricTypeAlias\n",
      "\u001b[39m\u001b[1m\u001b[36mINFO: \u001b[39m\u001b[22m\u001b[36mClobberingReload tests passed\n",
      "\u001b[39m"
     ]
    }
   ],
   "source": [
    "Pkg.test(\"ClobberingReload\")"
   ]
  },
  {
   "cell_type": "code",
   "execution_count": 1,
   "metadata": {
    "collapsed": true
   },
   "outputs": [],
   "source": [
    "using TraceCalls"
   ]
  },
  {
   "cell_type": "code",
   "execution_count": 2,
   "metadata": {},
   "outputs": [
    {
     "data": {
      "text/plain": [
       "true"
      ]
     },
     "execution_count": 2,
     "metadata": {},
     "output_type": "execute_result"
    }
   ],
   "source": [
    "using LightGraphs\n",
    "A = [\n",
    "    0 1 1\n",
    "    1 0 1\n",
    "    1 1 0\n",
    "]\n",
    "graph = Graph(A)\n",
    "TraceCalls.tree_size(@trace LightGraphs adjacency_matrix(graph)) > 5\n"
   ]
  },
  {
   "cell_type": "code",
   "execution_count": 6,
   "metadata": {},
   "outputs": [],
   "source": [
    "tr = @trace LightGraphs is_connected(graph);"
   ]
  },
  {
   "cell_type": "code",
   "execution_count": 28,
   "metadata": {},
   "outputs": [
    {
     "data": {
      "text/html": [
       "LightGraphs.DummyEdgeMap() at <a href=\"https://github.com/JuliaGraphs/LightGraphs.jl/tree/6b5b5c341c0d7785675018821d8b210f8398394c//src/traversals/graphvisit.jl#L35\" target=\"_blank\">/Users/cedric/.julia/v0.6/LightGraphs/src/traversals/graphvisit.jl:35</a>"
      ],
      "text/plain": [
       "LightGraphs.DummyEdgeMap() in LightGraphs at /Users/cedric/.julia/v0.6/LightGraphs/src/traversals/graphvisit.jl:35"
      ]
     },
     "execution_count": 28,
     "metadata": {},
     "output_type": "execute_result"
    }
   ],
   "source": [
    "@which LightGraphs.DummyEdgeMap()"
   ]
  },
  {
   "cell_type": "code",
   "execution_count": 27,
   "metadata": {},
   "outputs": [
    {
     "ename": "MethodError",
     "evalue": "\u001b[91mMethodError: no method matching length(::LightGraphs.DummyEdgeMap)\u001b[0m\nClosest candidates are:\n  length(\u001b[91m::SimpleVector\u001b[39m) at essentials.jl:256\n  length(\u001b[91m::Base.MethodList\u001b[39m) at reflection.jl:558\n  length(\u001b[91m::MethodTable\u001b[39m) at reflection.jl:634\n  ...\u001b[39m",
     "output_type": "error",
     "traceback": [
      "\u001b[91mMethodError: no method matching length(::LightGraphs.DummyEdgeMap)\u001b[0m\nClosest candidates are:\n  length(\u001b[91m::SimpleVector\u001b[39m) at essentials.jl:256\n  length(\u001b[91m::Base.MethodList\u001b[39m) at reflection.jl:558\n  length(\u001b[91m::MethodTable\u001b[39m) at reflection.jl:634\n  ...\u001b[39m",
      "",
      "Stacktrace:",
      " [1] \u001b[1msummary\u001b[22m\u001b[22m\u001b[1m(\u001b[22m\u001b[22m::LightGraphs.DummyEdgeMap\u001b[1m)\u001b[22m\u001b[22m at \u001b[1m./associative.jl:24\u001b[22m\u001b[22m",
      " [2] \u001b[1mshow\u001b[22m\u001b[22m\u001b[1m(\u001b[22m\u001b[22m::IOContext{Base.AbstractIOBuffer{Array{UInt8,1}}}, ::MIME{Symbol(\"text/plain\")}, ::LightGraphs.DummyEdgeMap\u001b[1m)\u001b[22m\u001b[22m at \u001b[1m./replutil.jl:45\u001b[22m\u001b[22m",
      " [3] \u001b[1mlimitstringmime\u001b[22m\u001b[22m\u001b[1m(\u001b[22m\u001b[22m::MIME{Symbol(\"text/plain\")}, ::LightGraphs.DummyEdgeMap\u001b[1m)\u001b[22m\u001b[22m at \u001b[1m/Users/cedric/.julia/v0.6/IJulia/src/inline.jl:25\u001b[22m\u001b[22m",
      " [4] \u001b[1mdisplay_dict\u001b[22m\u001b[22m\u001b[1m(\u001b[22m\u001b[22m::LightGraphs.DummyEdgeMap\u001b[1m)\u001b[22m\u001b[22m at \u001b[1m/Users/cedric/.julia/v0.6/IJulia/src/execute_request.jl:27\u001b[22m\u001b[22m",
      " [5] \u001b[1mexecute_request\u001b[22m\u001b[22m\u001b[1m(\u001b[22m\u001b[22m::ZMQ.Socket, ::IJulia.Msg\u001b[1m)\u001b[22m\u001b[22m at \u001b[1m/Users/cedric/.julia/v0.6/IJulia/src/execute_request.jl:188\u001b[22m\u001b[22m",
      " [6] \u001b[1meventloop\u001b[22m\u001b[22m\u001b[1m(\u001b[22m\u001b[22m::ZMQ.Socket\u001b[1m)\u001b[22m\u001b[22m at \u001b[1m/Users/cedric/.julia/v0.6/IJulia/src/eventloop.jl:8\u001b[22m\u001b[22m",
      " [7] \u001b[1m(::IJulia.##11#14)\u001b[22m\u001b[22m\u001b[1m(\u001b[22m\u001b[22m\u001b[1m)\u001b[22m\u001b[22m at \u001b[1m./task.jl:335\u001b[22m\u001b[22m"
     ]
    }
   ],
   "source": [
    "tr[1,2,2].args[1]"
   ]
  },
  {
   "cell_type": "code",
   "execution_count": 14,
   "metadata": {},
   "outputs": [
    {
     "name": "stderr",
     "output_type": "stream",
     "text": [
      "\u001b[1m\u001b[36mINFO: \u001b[39m\u001b[22m\u001b[36mComputing test dependencies for TraceCalls...\n",
      "\u001b[39m\u001b[1m\u001b[36mINFO: \u001b[39m\u001b[22m\u001b[36mNo packages to install, update or remove\n",
      "\u001b[39m\u001b[1m\u001b[36mINFO: \u001b[39m\u001b[22m\u001b[36mTesting TraceCalls\n",
      "\u001b[39m"
     ]
    },
    {
     "name": "stdout",
     "output_type": "stream",
     "text": [
      "Max 5 x + 3 y\n",
      "Subject to\n",
      " x + 5 y ≤ 3\n",
      " 0 ≤ x ≤ 2\n",
      " 0 ≤ y ≤ 30\n",
      "Objective value: 10.6\n",
      "x = 2.0\n",
      "y = 0.2\n"
     ]
    },
    {
     "name": "stderr",
     "output_type": "stream",
     "text": [
      "\u001b[1m\u001b[33mWARNING: \u001b[39m\u001b[22m\u001b[33mOnly 12/3 methods of DataStructures.OrderedDict in /Users/cedric/.julia/v0.6/DataStructures/src/ordered_dict.jl were found.\u001b[39m\n",
      "\u001b[1m\u001b[33mWARNING: \u001b[39m\u001b[22m\u001b[33mOnly 0/1 methods of DataStructures.OrderedDict in /Applications/Julia-0.6.app/Contents/Resources/julia/bin/../share/julia/base/sysimg.jl were found.\u001b[39m\n",
      "WARNING: Method definition count() in module IterTools at deprecated.jl:56 overwritten in module Iterators at deprecated.jl:56.\n",
      "WARNING: Method definition count(Number) in module IterTools at deprecated.jl:56 overwritten in module Iterators at deprecated.jl:56.\n",
      "WARNING: Method definition count(Number, Number) in module IterTools at deprecated.jl:56 overwritten in module Iterators at deprecated.jl:56.\n",
      "\u001b[1m\u001b[91mERROR: \u001b[39m\u001b[22mLoadError: \u001b[91minvalid redefinition of constant g\u001b[39m\n",
      "Stacktrace:\n",
      " [1] \u001b[1minclude_from_node1\u001b[22m\u001b[22m\u001b[1m(\u001b[22m\u001b[22m::String\u001b[1m)\u001b[22m\u001b[22m at \u001b[1m./loading.jl:569\u001b[22m\u001b[22m\n",
      " [2] \u001b[1minclude\u001b[22m\u001b[22m\u001b[1m(\u001b[22m\u001b[22m::String\u001b[1m)\u001b[22m\u001b[22m at \u001b[1m./sysimg.jl:14\u001b[22m\u001b[22m\n",
      " [3] \u001b[1mprocess_options\u001b[22m\u001b[22m\u001b[1m(\u001b[22m\u001b[22m::Base.JLOptions\u001b[1m)\u001b[22m\u001b[22m at \u001b[1m./client.jl:305\u001b[22m\u001b[22m\n",
      " [4] \u001b[1m_start\u001b[22m\u001b[22m\u001b[1m(\u001b[22m\u001b[22m\u001b[1m)\u001b[22m\u001b[22m at \u001b[1m./client.jl:371\u001b[22m\u001b[22m\n",
      "while loading /Users/cedric/.julia/v0.6/TraceCalls/test/runtests.jl, in expression starting on line 98\n",
      "\u001b[1m\u001b[33m\u001b[39m\u001b[22m\u001b[33m=============================[ ERROR: TraceCalls ]==============================\u001b[39m\n",
      "\n",
      "\u001b[1m\u001b[33m\u001b[39m\u001b[22m\u001b[33mfailed process: Process(`/Applications/Julia-0.6.app/Contents/Resources/julia/bin/julia -Ccore2 -J/Applications/Julia-0.6.app/Contents/Resources/julia/lib/julia/sys.dylib --compile=yes --depwarn=yes --check-bounds=yes --code-coverage=none --color=yes --compilecache=yes /Users/cedric/.julia/v0.6/TraceCalls/test/runtests.jl`, ProcessExited(1)) [1]\u001b[39m\n",
      "\n",
      "\u001b[1m\u001b[33m\u001b[39m\u001b[22m\u001b[33m================================================================================\u001b[39m\n",
      "\u001b[1m\u001b[36mINFO: \u001b[39m\u001b[22m\u001b[36mNo packages to install, update or remove\n",
      "\u001b[39m"
     ]
    },
    {
     "ename": "LoadError",
     "evalue": "\u001b[91mTraceCalls had test errors\u001b[39m",
     "output_type": "error",
     "traceback": [
      "\u001b[91mTraceCalls had test errors\u001b[39m",
      "",
      "Stacktrace:",
      " [1] \u001b[1m#test#62\u001b[22m\u001b[22m\u001b[1m(\u001b[22m\u001b[22m::Bool, ::Function, ::Array{AbstractString,1}\u001b[1m)\u001b[22m\u001b[22m at \u001b[1m./pkg/entry.jl:757\u001b[22m\u001b[22m",
      " [2] \u001b[1m(::Base.Pkg.Entry.#kw##test)\u001b[22m\u001b[22m\u001b[1m(\u001b[22m\u001b[22m::Array{Any,1}, ::Base.Pkg.Entry.#test, ::Array{AbstractString,1}\u001b[1m)\u001b[22m\u001b[22m at \u001b[1m./<missing>:0\u001b[22m\u001b[22m",
      " [3] \u001b[1m(::Base.Pkg.Dir.##4#7{Array{Any,1},Base.Pkg.Entry.#test,Tuple{Array{AbstractString,1}}})\u001b[22m\u001b[22m\u001b[1m(\u001b[22m\u001b[22m\u001b[1m)\u001b[22m\u001b[22m at \u001b[1m./pkg/dir.jl:36\u001b[22m\u001b[22m",
      " [4] \u001b[1mcd\u001b[22m\u001b[22m\u001b[1m(\u001b[22m\u001b[22m::Base.Pkg.Dir.##4#7{Array{Any,1},Base.Pkg.Entry.#test,Tuple{Array{AbstractString,1}}}, ::String\u001b[1m)\u001b[22m\u001b[22m at \u001b[1m./file.jl:70\u001b[22m\u001b[22m",
      " [5] \u001b[1m#cd#1\u001b[22m\u001b[22m\u001b[1m(\u001b[22m\u001b[22m::Array{Any,1}, ::Function, ::Function, ::Array{AbstractString,1}, ::Vararg{Array{AbstractString,1},N} where N\u001b[1m)\u001b[22m\u001b[22m at \u001b[1m./pkg/dir.jl:36\u001b[22m\u001b[22m",
      " [6] \u001b[1m(::Base.Pkg.Dir.#kw##cd)\u001b[22m\u001b[22m\u001b[1m(\u001b[22m\u001b[22m::Array{Any,1}, ::Base.Pkg.Dir.#cd, ::Function, ::Array{AbstractString,1}, ::Vararg{Array{AbstractString,1},N} where N\u001b[1m)\u001b[22m\u001b[22m at \u001b[1m./<missing>:0\u001b[22m\u001b[22m",
      " [7] \u001b[1m#test#3\u001b[22m\u001b[22m\u001b[1m(\u001b[22m\u001b[22m::Bool, ::Function, ::String, ::Vararg{String,N} where N\u001b[1m)\u001b[22m\u001b[22m at \u001b[1m./pkg/pkg.jl:276\u001b[22m\u001b[22m",
      " [8] \u001b[1mtest\u001b[22m\u001b[22m\u001b[1m(\u001b[22m\u001b[22m::String, ::Vararg{String,N} where N\u001b[1m)\u001b[22m\u001b[22m at \u001b[1m./pkg/pkg.jl:276\u001b[22m\u001b[22m"
     ]
    }
   ],
   "source": [
    "Pkg.test(\"TraceCalls\")"
   ]
  },
  {
   "cell_type": "code",
   "execution_count": 3,
   "metadata": {
    "scrolled": false
   },
   "outputs": [
    {
     "data": {
      "text/html": [
       "<pre><a href=\"https://github.com/cstjean/TraceCalls.jl/tree/d6f1b25bc4a84efb25395fb80b5797835cc8eb98//src/TraceCalls.jl#L251\" target=\"_blank\" style=\"color: black; text-decoration: none; border-bottom: 1px #C3C3C3 dotted\">TraceCalls.#18</a>() => <b><font color=green>DataStructures.SortedDict(1=>2,3=>4)</font></b></pre><ul><li><pre><a href=\"https://github.com/JuliaCollections/DataStructures.jl/tree/ba696672be809f812dfef079819564b6065ffd36//src/sorted_dict.jl#L4\" target=\"_blank\" style=\"color: black; text-decoration: none; border-bottom: 1px #C3C3C3 dotted\">DataStructures.SortedDict</a>(1=>2, 3=>4) => <b><font color=green>DataStructures.SortedDict(1=>2,3=>4)</font></b></pre><ul><li><pre><a href=\"https://github.com/JuliaCollections/DataStructures.jl/tree/ba696672be809f812dfef079819564b6065ffd36//src/sorted_dict.jl#L2\" target=\"_blank\" style=\"color: black; text-decoration: none; border-bottom: 1px #C3C3C3 dotted\">DataStructures.SortedDict</a>(Base.Order.ForwardOrdering(), (1=>2, 3=>4)) => <b><font color=green>DataStructures.SortedDict(1=>2,3=>4)</font></b></pre><ul><li><pre><a href=\"https://github.com/JuliaCollections/DataStructures.jl/tree/ba696672be809f812dfef079819564b6065ffd36//src/sorted_dict.jl#L2\" target=\"_blank\" style=\"color: black; text-decoration: none; border-bottom: 1px #C3C3C3 dotted\">DataStructures._sorted_dict_with_eltype</a>(Base.Order.ForwardOrdering(), (1=>2, 3=>4), Pair{Int64,Int64}) => <b><font color=green>DataStructures.SortedDict(1=>2,3=>4)</font></b></pre><ul><li><pre><a href=\"https://github.com/JuliaCollections/DataStructures.jl/tree/ba696672be809f812dfef079819564b6065ffd36//src/balanced_tree.jl#L9\" target=\"_blank\" style=\"color: black; text-decoration: none; border-bottom: 1px #C3C3C3 dotted\">DataStructures.initializeTree!</a>(DataStructures.TreeNode{Int64}[DataStructures.TreeNode{Int64}(1, 3, 0, 3, 1, 1), DataStructures.TreeNode{Int64}(4, 2, 0, 3, 1, 1), DataStructures.TreeNode{Int64}(1, 2, 0, 0, 3, 3)]) => <b><font color=green>nothing</font></b></pre><ul></ul></li><li><pre><a href=\"https://github.com/JuliaCollections/DataStructures.jl/tree/ba696672be809f812dfef079819564b6065ffd36//src/balanced_tree.jl#L3\" target=\"_blank\" style=\"color: black; text-decoration: none; border-bottom: 1px #C3C3C3 dotted\">DataStructures.initializeData!</a>(DataStructures.KDRec{Int64,Int64}[DataStructures.KDRec{Int64,Int64}(1, 1, 2), DataStructures.KDRec{Int64,Int64}(2, 1, 2), DataStructures.KDRec{Int64,Int64}(1, 1, 2), DataStructures.KDRec{Int64,Int64}(2, 3, 4)]) => <b><font color=green>nothing</font></b></pre><ul></ul></li><li><pre><a href=\"https://github.com/JuliaCollections/DataStructures.jl/tree/ba696672be809f812dfef079819564b6065ffd36//src/int_set.jl#L1\" target=\"_blank\" style=\"color: black; text-decoration: none; border-bottom: 1px #C3C3C3 dotted\">push!</a>(IntSet([1, 2, 3, 4]), 1, 2) => <b><font color=green>IntSet([1, 2, 3, 4])</font></b></pre><ul><li><pre><a href=\"https://github.com/JuliaCollections/DataStructures.jl/tree/ba696672be809f812dfef079819564b6065ffd36//src/int_set.jl#L3\" target=\"_blank\" style=\"color: black; text-decoration: none; border-bottom: 1px #C3C3C3 dotted\">push!</a>(IntSet([1, 2, 3, 4]), 1) => <b><font color=green>IntSet([1, 2, 3, 4])</font></b></pre><ul></ul></li><li><pre><a href=\"https://github.com/JuliaCollections/DataStructures.jl/tree/ba696672be809f812dfef079819564b6065ffd36//src/int_set.jl#L3\" target=\"_blank\" style=\"color: black; text-decoration: none; border-bottom: 1px #C3C3C3 dotted\">push!</a>(IntSet([1, 2, 3, 4]), 2) => <b><font color=green>IntSet([1, 2, 3, 4])</font></b></pre><ul></ul></li></ul></li><li><pre><a href=\"https://github.com/JuliaCollections/DataStructures.jl/tree/ba696672be809f812dfef079819564b6065ffd36//src/balanced_tree.jl#L18\" target=\"_blank\" style=\"color: black; text-decoration: none; border-bottom: 1px #C3C3C3 dotted\">insert!</a>(DataStructures.BalancedTree23{Int64,Int64,Base.Order.ForwardOrdering}(Base.Order.ForwardOrdering(), DataStructures.KDRec{Int64,Int64}[DataStructures.KDRec{Int64,Int64}(1, 1, 2), DataStructures.KDRec{Int64,Int64}(2, 1, 2), DataStructures.KDRec{Int64,Int64}(1, 1, 2), DataStructures.KDRec{Int64,Int64}(2, 3, 4)], DataStructures.TreeNode{Int64}[DataStructures.TreeNode{Int64}(1, 3, 0, 3, 1, 1), DataStructures.TreeNode{Int64}(4, 2, 0, 3, 1, 1), DataStructures.TreeNode{Int64}(1, 2, 0, 0, 3, 3)], 3, 2, Int64[], Int64[], IntSet([1, 2, 3, 4]), [4950670392, 4664686416, 4611129552], [4950669912, 4664686416, 4611129552]), 1, 2, false) => <b><font color=green>(true, 3)</font></b></pre><ul><li><pre><a href=\"https://github.com/JuliaCollections/DataStructures.jl/tree/ba696672be809f812dfef079819564b6065ffd36//src/balanced_tree.jl#L12\" target=\"_blank\" style=\"color: black; text-decoration: none; border-bottom: 1px #C3C3C3 dotted\">DataStructures.findkey</a>(DataStructures.BalancedTree23{Int64,Int64,Base.Order.ForwardOrdering}(Base.Order.ForwardOrdering(), DataStructures.KDRec{Int64,Int64}[DataStructures.KDRec{Int64,Int64}(1, 1, 2), DataStructures.KDRec{Int64,Int64}(2, 1, 2), DataStructures.KDRec{Int64,Int64}(1, 1, 2), DataStructures.KDRec{Int64,Int64}(2, 3, 4)], DataStructures.TreeNode{Int64}[DataStructures.TreeNode{Int64}(1, 3, 0, 3, 1, 1), DataStructures.TreeNode{Int64}(4, 2, 0, 3, 1, 1), DataStructures.TreeNode{Int64}(1, 2, 0, 0, 3, 3)], 3, 2, Int64[], Int64[], IntSet([1, 2, 3, 4]), [4950670392, 4664686416, 4611129552], [4950669912, 4664686416, 4611129552]), 1) => <b><font color=green>(1, false)</font></b></pre><ul></ul></li><li><pre><a href=\"https://github.com/JuliaCollections/DataStructures.jl/tree/ba696672be809f812dfef079819564b6065ffd36//src/balanced_tree.jl#L11\" target=\"_blank\" style=\"color: black; text-decoration: none; border-bottom: 1px #C3C3C3 dotted\">DataStructures.push_or_reuse!</a>(DataStructures.KDRec{Int64,Int64}[DataStructures.KDRec{Int64,Int64}(1, 1, 2), DataStructures.KDRec{Int64,Int64}(2, 1, 2), DataStructures.KDRec{Int64,Int64}(1, 1, 2), DataStructures.KDRec{Int64,Int64}(2, 3, 4)], Int64[], DataStructures.KDRec{Int64,Int64}(0, 1, 2)) => <b><font color=green>3</font></b></pre><ul></ul></li><li><pre><a href=\"https://github.com/JuliaCollections/DataStructures.jl/tree/ba696672be809f812dfef079819564b6065ffd36//src/balanced_tree.jl#L9\" target=\"_blank\" style=\"color: black; text-decoration: none; border-bottom: 1px #C3C3C3 dotted\">DataStructures.replaceparent!</a>(DataStructures.KDRec{Int64,Int64}[DataStructures.KDRec{Int64,Int64}(1, 1, 2), DataStructures.KDRec{Int64,Int64}(2, 1, 2), DataStructures.KDRec{Int64,Int64}(1, 1, 2), DataStructures.KDRec{Int64,Int64}(2, 3, 4)], 3, 1) => <b><font color=green>nothing</font></b></pre><ul></ul></li><li><pre><a href=\"https://github.com/JuliaCollections/DataStructures.jl/tree/ba696672be809f812dfef079819564b6065ffd36//src/int_set.jl#L3\" target=\"_blank\" style=\"color: black; text-decoration: none; border-bottom: 1px #C3C3C3 dotted\">push!</a>(IntSet([1, 2, 3, 4]), 3) => <b><font color=green>IntSet([1, 2, 3, 4])</font></b></pre><ul></ul></li></ul></li><li><pre><a href=\"https://github.com/JuliaCollections/DataStructures.jl/tree/ba696672be809f812dfef079819564b6065ffd36//src/balanced_tree.jl#L18\" target=\"_blank\" style=\"color: black; text-decoration: none; border-bottom: 1px #C3C3C3 dotted\">insert!</a>(DataStructures.BalancedTree23{Int64,Int64,Base.Order.ForwardOrdering}(Base.Order.ForwardOrdering(), DataStructures.KDRec{Int64,Int64}[DataStructures.KDRec{Int64,Int64}(1, 1, 2), DataStructures.KDRec{Int64,Int64}(2, 1, 2), DataStructures.KDRec{Int64,Int64}(1, 1, 2), DataStructures.KDRec{Int64,Int64}(2, 3, 4)], DataStructures.TreeNode{Int64}[DataStructures.TreeNode{Int64}(1, 3, 0, 3, 1, 1), DataStructures.TreeNode{Int64}(4, 2, 0, 3, 1, 1), DataStructures.TreeNode{Int64}(1, 2, 0, 0, 3, 3)], 3, 2, Int64[], Int64[], IntSet([1, 2, 3, 4]), [4950670392, 4664686416, 4611129552], [4950669912, 4664686416, 4611129552]), 3, 4, false) => <b><font color=green>(true, 4)</font></b></pre><ul><li><pre><a href=\"https://github.com/JuliaCollections/DataStructures.jl/tree/ba696672be809f812dfef079819564b6065ffd36//src/balanced_tree.jl#L12\" target=\"_blank\" style=\"color: black; text-decoration: none; border-bottom: 1px #C3C3C3 dotted\">DataStructures.findkey</a>(DataStructures.BalancedTree23{Int64,Int64,Base.Order.ForwardOrdering}(Base.Order.ForwardOrdering(), DataStructures.KDRec{Int64,Int64}[DataStructures.KDRec{Int64,Int64}(1, 1, 2), DataStructures.KDRec{Int64,Int64}(2, 1, 2), DataStructures.KDRec{Int64,Int64}(1, 1, 2), DataStructures.KDRec{Int64,Int64}(2, 3, 4)], DataStructures.TreeNode{Int64}[DataStructures.TreeNode{Int64}(1, 3, 0, 3, 1, 1), DataStructures.TreeNode{Int64}(4, 2, 0, 3, 1, 1), DataStructures.TreeNode{Int64}(1, 2, 0, 0, 3, 3)], 3, 2, Int64[], Int64[], IntSet([1, 2, 3, 4]), [4950670392, 4664686416, 4611129552], [4950669912, 4664686416, 4611129552]), 3) => <b><font color=green>(3, false)</font></b></pre><ul><li><pre><a href=\"https://github.com/JuliaCollections/DataStructures.jl/tree/ba696672be809f812dfef079819564b6065ffd36//src/balanced_tree.jl#L5\" target=\"_blank\" style=\"color: black; text-decoration: none; border-bottom: 1px #C3C3C3 dotted\">DataStructures.eq</a>(Base.Order.ForwardOrdering(), 1, 3) => <b><font color=green>false</font></b></pre><ul></ul></li></ul></li><li><pre><a href=\"https://github.com/JuliaCollections/DataStructures.jl/tree/ba696672be809f812dfef079819564b6065ffd36//src/balanced_tree.jl#L11\" target=\"_blank\" style=\"color: black; text-decoration: none; border-bottom: 1px #C3C3C3 dotted\">DataStructures.push_or_reuse!</a>(DataStructures.KDRec{Int64,Int64}[DataStructures.KDRec{Int64,Int64}(1, 1, 2), DataStructures.KDRec{Int64,Int64}(2, 1, 2), DataStructures.KDRec{Int64,Int64}(1, 1, 2), DataStructures.KDRec{Int64,Int64}(2, 3, 4)], Int64[], DataStructures.KDRec{Int64,Int64}(0, 3, 4)) => <b><font color=green>4</font></b></pre><ul></ul></li><li><pre><a href=\"https://github.com/JuliaCollections/DataStructures.jl/tree/ba696672be809f812dfef079819564b6065ffd36//src/balanced_tree.jl#L11\" target=\"_blank\" style=\"color: black; text-decoration: none; border-bottom: 1px #C3C3C3 dotted\">DataStructures.push_or_reuse!</a>(DataStructures.TreeNode{Int64}[DataStructures.TreeNode{Int64}(1, 3, 0, 3, 1, 1), DataStructures.TreeNode{Int64}(4, 2, 0, 3, 1, 1), DataStructures.TreeNode{Int64}(1, 2, 0, 0, 3, 3)], Int64[], DataStructures.TreeNode{Int64}(4, 2, 0, 0, 1, 1)) => <b><font color=green>2</font></b></pre><ul></ul></li><li><pre><a href=\"https://github.com/JuliaCollections/DataStructures.jl/tree/ba696672be809f812dfef079819564b6065ffd36//src/balanced_tree.jl#L9\" target=\"_blank\" style=\"color: black; text-decoration: none; border-bottom: 1px #C3C3C3 dotted\">DataStructures.replaceparent!</a>(DataStructures.KDRec{Int64,Int64}[DataStructures.KDRec{Int64,Int64}(1, 1, 2), DataStructures.KDRec{Int64,Int64}(2, 1, 2), DataStructures.KDRec{Int64,Int64}(1, 1, 2), DataStructures.KDRec{Int64,Int64}(2, 3, 4)], 4, 2) => <b><font color=green>nothing</font></b></pre><ul></ul></li><li><pre><a href=\"https://github.com/JuliaCollections/DataStructures.jl/tree/ba696672be809f812dfef079819564b6065ffd36//src/int_set.jl#L3\" target=\"_blank\" style=\"color: black; text-decoration: none; border-bottom: 1px #C3C3C3 dotted\">push!</a>(IntSet([1, 2, 3, 4]), 4) => <b><font color=green>IntSet([1, 2, 3, 4])</font></b></pre><ul></ul></li><li><pre><a href=\"https://github.com/JuliaCollections/DataStructures.jl/tree/ba696672be809f812dfef079819564b6065ffd36//src/balanced_tree.jl#L9\" target=\"_blank\" style=\"color: black; text-decoration: none; border-bottom: 1px #C3C3C3 dotted\">DataStructures.replaceparent!</a>(DataStructures.KDRec{Int64,Int64}[DataStructures.KDRec{Int64,Int64}(1, 1, 2), DataStructures.KDRec{Int64,Int64}(2, 1, 2), DataStructures.KDRec{Int64,Int64}(1, 1, 2), DataStructures.KDRec{Int64,Int64}(2, 3, 4)], 4, 2) => <b><font color=green>nothing</font></b></pre><ul></ul></li><li><pre><a href=\"https://github.com/JuliaCollections/DataStructures.jl/tree/ba696672be809f812dfef079819564b6065ffd36//src/balanced_tree.jl#L9\" target=\"_blank\" style=\"color: black; text-decoration: none; border-bottom: 1px #C3C3C3 dotted\">DataStructures.replaceparent!</a>(DataStructures.KDRec{Int64,Int64}[DataStructures.KDRec{Int64,Int64}(1, 1, 2), DataStructures.KDRec{Int64,Int64}(2, 1, 2), DataStructures.KDRec{Int64,Int64}(1, 1, 2), DataStructures.KDRec{Int64,Int64}(2, 3, 4)], 2, 2) => <b><font color=green>nothing</font></b></pre><ul></ul></li><li><pre><a href=\"https://github.com/JuliaCollections/DataStructures.jl/tree/ba696672be809f812dfef079819564b6065ffd36//src/balanced_tree.jl#L11\" target=\"_blank\" style=\"color: black; text-decoration: none; border-bottom: 1px #C3C3C3 dotted\">DataStructures.push_or_reuse!</a>(DataStructures.TreeNode{Int64}[DataStructures.TreeNode{Int64}(1, 3, 0, 3, 1, 1), DataStructures.TreeNode{Int64}(4, 2, 0, 3, 1, 1), DataStructures.TreeNode{Int64}(1, 2, 0, 0, 3, 3)], Int64[], DataStructures.TreeNode{Int64}(1, 2, 0, 0, 3, 3)) => <b><font color=green>3</font></b></pre><ul></ul></li><li><pre><a href=\"https://github.com/JuliaCollections/DataStructures.jl/tree/ba696672be809f812dfef079819564b6065ffd36//src/balanced_tree.jl#L3\" target=\"_blank\" style=\"color: black; text-decoration: none; border-bottom: 1px #C3C3C3 dotted\">DataStructures.replaceparent!</a>(DataStructures.TreeNode{Int64}[DataStructures.TreeNode{Int64}(1, 3, 0, 3, 1, 1), DataStructures.TreeNode{Int64}(4, 2, 0, 3, 1, 1), DataStructures.TreeNode{Int64}(1, 2, 0, 0, 3, 3)], 1, 3) => <b><font color=green>nothing</font></b></pre><ul></ul></li><li><pre><a href=\"https://github.com/JuliaCollections/DataStructures.jl/tree/ba696672be809f812dfef079819564b6065ffd36//src/balanced_tree.jl#L3\" target=\"_blank\" style=\"color: black; text-decoration: none; border-bottom: 1px #C3C3C3 dotted\">DataStructures.replaceparent!</a>(DataStructures.TreeNode{Int64}[DataStructures.TreeNode{Int64}(1, 3, 0, 3, 1, 1), DataStructures.TreeNode{Int64}(4, 2, 0, 3, 1, 1), DataStructures.TreeNode{Int64}(1, 2, 0, 0, 3, 3)], 2, 3) => <b><font color=green>nothing</font></b></pre><ul></ul></li></ul></li></ul></li></ul></li></ul></li></ul>"
      ],
      "text/plain": [
       "TraceCalls.Trace(TraceCalls.#18, (), (), TraceCalls.Trace[TraceCalls.Trace(DataStructures.SortedDict, (1=>2, 3=>4), (), TraceCalls.Trace[TraceCalls.Trace(DataStructures.SortedDict, (Base.Order.ForwardOrdering(), (1=>2, 3=>4)), (), TraceCalls.Trace[TraceCalls.Trace(DataStructures._sorted_dict_with_eltype, (Base.Order.ForwardOrdering(), (1=>2, 3=>4), Pair{Int64,Int64}), (), TraceCalls.Trace[TraceCalls.Trace(DataStructures.initializeTree!, (DataStructures.TreeNode{Int64}[DataStructures.TreeNode{Int64}(1, 3, 0, 3, 1, 1), DataStructures.TreeNode{Int64}(4, 2, 0, 3, 1, 1), DataStructures.TreeNode{Int64}(1, 2, 0, 0, 3, 3)],), (), TraceCalls.Trace[], nothing), TraceCalls.Trace(DataStructures.initializeData!, (DataStructures.KDRec{Int64,Int64}[DataStructures.KDRec{Int64,Int64}(1, 1, 2), DataStructures.KDRec{Int64,Int64}(2, 1, 2), DataStructures.KDRec{Int64,Int64}(1, 1, 2), DataStructures.KDRec{Int64,Int64}(2, 3, 4)],), (), TraceCalls.Trace[], nothing), TraceCalls.Trace(push!, (IntSet([1, 2, 3, 4]), 1, 2), (), TraceCalls.Trace[TraceCalls.Trace(push!, (IntSet([1, 2, 3, 4]), 1), (), TraceCalls.Trace[], IntSet([1, 2, 3, 4])), TraceCalls.Trace(push!, (IntSet([1, 2, 3, 4]), 2), (), TraceCalls.Trace[], IntSet([1, 2, 3, 4]))], IntSet([1, 2, 3, 4])), TraceCalls.Trace(insert!, (DataStructures.BalancedTree23{Int64,Int64,Base.Order.ForwardOrdering}(Base.Order.ForwardOrdering(), DataStructures.KDRec{Int64,Int64}[DataStructures.KDRec{Int64,Int64}(1, 1, 2), DataStructures.KDRec{Int64,Int64}(2, 1, 2), DataStructures.KDRec{Int64,Int64}(1, 1, 2), DataStructures.KDRec{Int64,Int64}(2, 3, 4)], DataStructures.TreeNode{Int64}[DataStructures.TreeNode{Int64}(1, 3, 0, 3, 1, 1), DataStructures.TreeNode{Int64}(4, 2, 0, 3, 1, 1), DataStructures.TreeNode{Int64}(1, 2, 0, 0, 3, 3)], 3, 2, Int64[], Int64[], IntSet([1, 2, 3, 4]), [4950670392, 4664686416, 4611129552], [4950669912, 4664686416, 4611129552]), 1, 2, false), (), TraceCalls.Trace[TraceCalls.Trace(DataStructures.findkey, (DataStructures.BalancedTree23{Int64,Int64,Base.Order.ForwardOrdering}(Base.Order.ForwardOrdering(), DataStructures.KDRec{Int64,Int64}[DataStructures.KDRec{Int64,Int64}(1, 1, 2), DataStructures.KDRec{Int64,Int64}(2, 1, 2), DataStructures.KDRec{Int64,Int64}(1, 1, 2), DataStructures.KDRec{Int64,Int64}(2, 3, 4)], DataStructures.TreeNode{Int64}[DataStructures.TreeNode{Int64}(1, 3, 0, 3, 1, 1), DataStructures.TreeNode{Int64}(4, 2, 0, 3, 1, 1), DataStructures.TreeNode{Int64}(1, 2, 0, 0, 3, 3)], 3, 2, Int64[], Int64[], IntSet([1, 2, 3, 4]), [4950670392, 4664686416, 4611129552], [4950669912, 4664686416, 4611129552]), 1), (), TraceCalls.Trace[], (1, false)), TraceCalls.Trace(DataStructures.push_or_reuse!, (DataStructures.KDRec{Int64,Int64}[DataStructures.KDRec{Int64,Int64}(1, 1, 2), DataStructures.KDRec{Int64,Int64}(2, 1, 2), DataStructures.KDRec{Int64,Int64}(1, 1, 2), DataStructures.KDRec{Int64,Int64}(2, 3, 4)], Int64[], DataStructures.KDRec{Int64,Int64}(0, 1, 2)), (), TraceCalls.Trace[], 3), TraceCalls.Trace(DataStructures.replaceparent!, (DataStructures.KDRec{Int64,Int64}[DataStructures.KDRec{Int64,Int64}(1, 1, 2), DataStructures.KDRec{Int64,Int64}(2, 1, 2), DataStructures.KDRec{Int64,Int64}(1, 1, 2), DataStructures.KDRec{Int64,Int64}(2, 3, 4)], 3, 1), (), TraceCalls.Trace[], nothing), TraceCalls.Trace(push!, (IntSet([1, 2, 3, 4]), 3), (), TraceCalls.Trace[], IntSet([1, 2, 3, 4]))], (true, 3)), TraceCalls.Trace(insert!, (DataStructures.BalancedTree23{Int64,Int64,Base.Order.ForwardOrdering}(Base.Order.ForwardOrdering(), DataStructures.KDRec{Int64,Int64}[DataStructures.KDRec{Int64,Int64}(1, 1, 2), DataStructures.KDRec{Int64,Int64}(2, 1, 2), DataStructures.KDRec{Int64,Int64}(1, 1, 2), DataStructures.KDRec{Int64,Int64}(2, 3, 4)], DataStructures.TreeNode{Int64}[DataStructures.TreeNode{Int64}(1, 3, 0, 3, 1, 1), DataStructures.TreeNode{Int64}(4, 2, 0, 3, 1, 1), DataStructures.TreeNode{Int64}(1, 2, 0, 0, 3, 3)], 3, 2, Int64[], Int64[], IntSet([1, 2, 3, 4]), [4950670392, 4664686416, 4611129552], [4950669912, 4664686416, 4611129552]), 3, 4, false), (), TraceCalls.Trace[TraceCalls.Trace(DataStructures.findkey, (DataStructures.BalancedTree23{Int64,Int64,Base.Order.ForwardOrdering}(Base.Order.ForwardOrdering(), DataStructures.KDRec{Int64,Int64}[DataStructures.KDRec{Int64,Int64}(1, 1, 2), DataStructures.KDRec{Int64,Int64}(2, 1, 2), DataStructures.KDRec{Int64,Int64}(1, 1, 2), DataStructures.KDRec{Int64,Int64}(2, 3, 4)], DataStructures.TreeNode{Int64}[DataStructures.TreeNode{Int64}(1, 3, 0, 3, 1, 1), DataStructures.TreeNode{Int64}(4, 2, 0, 3, 1, 1), DataStructures.TreeNode{Int64}(1, 2, 0, 0, 3, 3)], 3, 2, Int64[], Int64[], IntSet([1, 2, 3, 4]), [4950670392, 4664686416, 4611129552], [4950669912, 4664686416, 4611129552]), 3), (), TraceCalls.Trace[TraceCalls.Trace(DataStructures.eq, (Base.Order.ForwardOrdering(), 1, 3), (), TraceCalls.Trace[], false)], (3, false)), TraceCalls.Trace(DataStructures.push_or_reuse!, (DataStructures.KDRec{Int64,Int64}[DataStructures.KDRec{Int64,Int64}(1, 1, 2), DataStructures.KDRec{Int64,Int64}(2, 1, 2), DataStructures.KDRec{Int64,Int64}(1, 1, 2), DataStructures.KDRec{Int64,Int64}(2, 3, 4)], Int64[], DataStructures.KDRec{Int64,Int64}(0, 3, 4)), (), TraceCalls.Trace[], 4), TraceCalls.Trace(DataStructures.push_or_reuse!, (DataStructures.TreeNode{Int64}[DataStructures.TreeNode{Int64}(1, 3, 0, 3, 1, 1), DataStructures.TreeNode{Int64}(4, 2, 0, 3, 1, 1), DataStructures.TreeNode{Int64}(1, 2, 0, 0, 3, 3)], Int64[], DataStructures.TreeNode{Int64}(4, 2, 0, 0, 1, 1)), (), TraceCalls.Trace[], 2), TraceCalls.Trace(DataStructures.replaceparent!, (DataStructures.KDRec{Int64,Int64}[DataStructures.KDRec{Int64,Int64}(1, 1, 2), DataStructures.KDRec{Int64,Int64}(2, 1, 2), DataStructures.KDRec{Int64,Int64}(1, 1, 2), DataStructures.KDRec{Int64,Int64}(2, 3, 4)], 4, 2), (), TraceCalls.Trace[], nothing), TraceCalls.Trace(push!, (IntSet([1, 2, 3, 4]), 4), (), TraceCalls.Trace[], IntSet([1, 2, 3, 4])), TraceCalls.Trace(DataStructures.replaceparent!, (DataStructures.KDRec{Int64,Int64}[DataStructures.KDRec{Int64,Int64}(1, 1, 2), DataStructures.KDRec{Int64,Int64}(2, 1, 2), DataStructures.KDRec{Int64,Int64}(1, 1, 2), DataStructures.KDRec{Int64,Int64}(2, 3, 4)], 4, 2), (), TraceCalls.Trace[], nothing), TraceCalls.Trace(DataStructures.replaceparent!, (DataStructures.KDRec{Int64,Int64}[DataStructures.KDRec{Int64,Int64}(1, 1, 2), DataStructures.KDRec{Int64,Int64}(2, 1, 2), DataStructures.KDRec{Int64,Int64}(1, 1, 2), DataStructures.KDRec{Int64,Int64}(2, 3, 4)], 2, 2), (), TraceCalls.Trace[], nothing), TraceCalls.Trace(DataStructures.push_or_reuse!, (DataStructures.TreeNode{Int64}[DataStructures.TreeNode{Int64}(1, 3, 0, 3, 1, 1), DataStructures.TreeNode{Int64}(4, 2, 0, 3, 1, 1), DataStructures.TreeNode{Int64}(1, 2, 0, 0, 3, 3)], Int64[], DataStructures.TreeNode{Int64}(1, 2, 0, 0, 3, 3)), (), TraceCalls.Trace[], 3), TraceCalls.Trace(DataStructures.replaceparent!, (DataStructures.TreeNode{Int64}[DataStructures.TreeNode{Int64}(1, 3, 0, 3, 1, 1), DataStructures.TreeNode{Int64}(4, 2, 0, 3, 1, 1), DataStructures.TreeNode{Int64}(1, 2, 0, 0, 3, 3)], 1, 3), (), TraceCalls.Trace[], nothing), TraceCalls.Trace(DataStructures.replaceparent!, (DataStructures.TreeNode{Int64}[DataStructures.TreeNode{Int64}(1, 3, 0, 3, 1, 1), DataStructures.TreeNode{Int64}(4, 2, 0, 3, 1, 1), DataStructures.TreeNode{Int64}(1, 2, 0, 0, 3, 3)], 2, 3), (), TraceCalls.Trace[], nothing)], (true, 4))], DataStructures.SortedDict(1=>2,3=>4))], DataStructures.SortedDict(1=>2,3=>4))], DataStructures.SortedDict(1=>2,3=>4))], DataStructures.SortedDict(1=>2,3=>4))"
      ]
     },
     "execution_count": 3,
     "metadata": {},
     "output_type": "execute_result"
    }
   ],
   "source": [
    "using TraceCalls, DataStructures\n",
    "\n",
    "trace_ordered_dict = @trace DataStructures SortedDict(1=>2, 3=>4)"
   ]
  },
  {
   "cell_type": "code",
   "execution_count": 2,
   "metadata": {},
   "outputs": [
    {
     "data": {
      "text/html": [
       "<pre><a href=\"https://github.com/cstjean/TraceCalls.jl/tree/d6f1b25bc4a84efb25395fb80b5797835cc8eb98//src/TraceCalls.jl#L251\" target=\"_blank\" style=\"color: black; text-decoration: none; border-bottom: 1px #C3C3C3 dotted\">TraceCalls.#18</a>() => <b><font color=green><font color=ff0000>1.0</font></font></b></pre><ul><li><pre><a href=\"https://github.com/JuliaCollections/DataStructures.jl/tree/ba696672be809f812dfef079819564b6065ffd36//src/ordered_dict.jl#L1\" target=\"_blank\" style=\"color: black; text-decoration: none; border-bottom: 1px #C3C3C3 dotted\">DataStructures.OrderedDict</a>(1=>2, 3=>4) => <b><font color=green><font color=ff0000>1.4381</font></font></b></pre><ul><li><pre><a href=\"https://github.com/JuliaCollections/DataStructures.jl/tree/ba696672be809f812dfef079819564b6065ffd36//src/ordered_dict.jl#L3\" target=\"_blank\" style=\"color: black; text-decoration: none; border-bottom: 1px #C3C3C3 dotted\">setindex!</a>(DataStructures.OrderedDict(1=>2,3=>4,1=>2,3=>4), 2, 1) => <b><font color=green><font color=c93600>0.7867</font></font></b></pre><ul><li><pre><a href=\"https://github.com/JuliaCollections/DataStructures.jl/tree/ba696672be809f812dfef079819564b6065ffd36//src/ordered_dict.jl#L6\" target=\"_blank\" style=\"color: black; text-decoration: none; border-bottom: 1px #C3C3C3 dotted\">DataStructures.ht_keyindex2</a>(DataStructures.OrderedDict(1=>2,3=>4,1=>2,3=>4), 1) => <b><font color=green><font color=ff0000>1.6643</font></font></b></pre><ul><li><pre><a href=\"https://github.com/JuliaCollections/DataStructures.jl/tree/ba696672be809f812dfef079819564b6065ffd36//src/dict_support.jl#L1\" target=\"_blank\" style=\"color: black; text-decoration: none; border-bottom: 1px #C3C3C3 dotted\">DataStructures.hashindex</a>(1, 16) => <b><font color=green><font color=4fb000>0.3094</font></font></b></pre><ul></ul></li></ul></li><li><pre><a href=\"https://github.com/JuliaCollections/DataStructures.jl/tree/ba696672be809f812dfef079819564b6065ffd36//src/ordered_dict.jl#L3\" target=\"_blank\" style=\"color: black; text-decoration: none; border-bottom: 1px #C3C3C3 dotted\">DataStructures._setindex!</a>(DataStructures.OrderedDict(1=>2,3=>4,1=>2,3=>4), 2, 1, 16) => <b><font color=green><font color=ff0000>1.1347</font></font></b></pre><ul><li><pre><a href=\"https://github.com/JuliaCollections/DataStructures.jl/tree/ba696672be809f812dfef079819564b6065ffd36//src/ordered_dict.jl#L3\" target=\"_blank\" style=\"color: black; text-decoration: none; border-bottom: 1px #C3C3C3 dotted\">DataStructures.rehash!</a>(DataStructures.OrderedDict(1=>2,3=>4,1=>2,3=>4), 4) => <b><font color=green><font color=00ff00>0.001</font></font></b></pre><ul><li><pre><a href=\"https://github.com/JuliaCollections/DataStructures.jl/tree/ba696672be809f812dfef079819564b6065ffd36//src/dict_support.jl#L5\" target=\"_blank\" style=\"color: black; text-decoration: none; border-bottom: 1px #C3C3C3 dotted\">DataStructures._tablesz</a>(4) => <b><font color=green><font color=00ff00>0.0006</font></font></b></pre><ul></ul></li><li><pre><a href=\"https://github.com/JuliaCollections/DataStructures.jl/tree/ba696672be809f812dfef079819564b6065ffd36//src/ordered_dict.jl#L2\" target=\"_blank\" style=\"color: black; text-decoration: none; border-bottom: 1px #C3C3C3 dotted\">length</a>(DataStructures.OrderedDict(1=>2,3=>4,1=>2,3=>4)) => <b><font color=green><font color=3fc000>0.2455</font></font></b></pre><ul></ul></li><li><pre><a href=\"https://github.com/JuliaCollections/DataStructures.jl/tree/ba696672be809f812dfef079819564b6065ffd36//src/dict_support.jl#L1\" target=\"_blank\" style=\"color: black; text-decoration: none; border-bottom: 1px #C3C3C3 dotted\">DataStructures.hashindex</a>(1, 16) => <b><font color=green><font color=00ff00>0.0003</font></font></b></pre><ul></ul></li></ul></li></ul></li></ul></li><li><pre><a href=\"https://github.com/JuliaCollections/DataStructures.jl/tree/ba696672be809f812dfef079819564b6065ffd36//src/ordered_dict.jl#L3\" target=\"_blank\" style=\"color: black; text-decoration: none; border-bottom: 1px #C3C3C3 dotted\">setindex!</a>(DataStructures.OrderedDict(1=>2,3=>4,1=>2,3=>4), 4, 3) => <b><font color=green><font color=00ff00>0.0003</font></font></b></pre><ul><li><pre><a href=\"https://github.com/JuliaCollections/DataStructures.jl/tree/ba696672be809f812dfef079819564b6065ffd36//src/ordered_dict.jl#L6\" target=\"_blank\" style=\"color: black; text-decoration: none; border-bottom: 1px #C3C3C3 dotted\">DataStructures.ht_keyindex2</a>(DataStructures.OrderedDict(1=>2,3=>4,1=>2,3=>4), 3) => <b><font color=green><font color=00ff00>0.0002</font></font></b></pre><ul><li><pre><a href=\"https://github.com/JuliaCollections/DataStructures.jl/tree/ba696672be809f812dfef079819564b6065ffd36//src/dict_support.jl#L1\" target=\"_blank\" style=\"color: black; text-decoration: none; border-bottom: 1px #C3C3C3 dotted\">DataStructures.hashindex</a>(3, 16) => <b><font color=green><font color=00ff00>0.0003</font></font></b></pre><ul></ul></li></ul></li><li><pre><a href=\"https://github.com/JuliaCollections/DataStructures.jl/tree/ba696672be809f812dfef079819564b6065ffd36//src/ordered_dict.jl#L3\" target=\"_blank\" style=\"color: black; text-decoration: none; border-bottom: 1px #C3C3C3 dotted\">DataStructures._setindex!</a>(DataStructures.OrderedDict(1=>2,3=>4,1=>2,3=>4), 4, 3, 7) => <b><font color=green><font color=00ff00>0.0003</font></font></b></pre><ul></ul></li></ul></li></ul></li></ul>"
      ],
      "text/plain": [
       "TraceCalls.Trace(TraceCalls.#18, (), (), TraceCalls.Trace[TraceCalls.Trace(DataStructures.OrderedDict, (1=>2, 3=>4), (), TraceCalls.Trace[TraceCalls.Trace(setindex!, (DataStructures.OrderedDict(1=>2,3=>4,1=>2,3=>4), 2, 1), (), TraceCalls.Trace[TraceCalls.Trace(DataStructures.ht_keyindex2, (DataStructures.OrderedDict(1=>2,3=>4,1=>2,3=>4), 1), (), TraceCalls.Trace[TraceCalls.Trace(DataStructures.hashindex, (1, 16), (), TraceCalls.Trace[], TraceCalls.FontColor(\"4fb000\", 0.3094))], TraceCalls.FontColor(\"ff0000\", 1.6643)), TraceCalls.Trace(DataStructures._setindex!, (DataStructures.OrderedDict(1=>2,3=>4,1=>2,3=>4), 2, 1, 16), (), TraceCalls.Trace[TraceCalls.Trace(DataStructures.rehash!, (DataStructures.OrderedDict(1=>2,3=>4,1=>2,3=>4), 4), (), TraceCalls.Trace[TraceCalls.Trace(DataStructures._tablesz, (4,), (), TraceCalls.Trace[], TraceCalls.FontColor(\"00ff00\", 0.0006)), TraceCalls.Trace(length, (DataStructures.OrderedDict(1=>2,3=>4,1=>2,3=>4),), (), TraceCalls.Trace[], TraceCalls.FontColor(\"3fc000\", 0.2455)), TraceCalls.Trace(DataStructures.hashindex, (1, 16), (), TraceCalls.Trace[], TraceCalls.FontColor(\"00ff00\", 0.0003))], TraceCalls.FontColor(\"00ff00\", 0.001))], TraceCalls.FontColor(\"ff0000\", 1.1347))], TraceCalls.FontColor(\"c93600\", 0.7867)), TraceCalls.Trace(setindex!, (DataStructures.OrderedDict(1=>2,3=>4,1=>2,3=>4), 4, 3), (), TraceCalls.Trace[TraceCalls.Trace(DataStructures.ht_keyindex2, (DataStructures.OrderedDict(1=>2,3=>4,1=>2,3=>4), 3), (), TraceCalls.Trace[TraceCalls.Trace(DataStructures.hashindex, (3, 16), (), TraceCalls.Trace[], TraceCalls.FontColor(\"00ff00\", 0.0003))], TraceCalls.FontColor(\"00ff00\", 0.0002)), TraceCalls.Trace(DataStructures._setindex!, (DataStructures.OrderedDict(1=>2,3=>4,1=>2,3=>4), 4, 3, 7), (), TraceCalls.Trace[], TraceCalls.FontColor(\"00ff00\", 0.0003))], TraceCalls.FontColor(\"00ff00\", 0.0003))], TraceCalls.FontColor(\"ff0000\", 1.4381))], TraceCalls.FontColor(\"ff0000\", 1.0))"
      ]
     },
     "execution_count": 2,
     "metadata": {},
     "output_type": "execute_result"
    }
   ],
   "source": [
    "measure(:@elapsed, trace_ordered_dict)"
   ]
  },
  {
   "cell_type": "code",
   "execution_count": null,
   "metadata": {
    "collapsed": true
   },
   "outputs": [],
   "source": []
  }
 ],
 "metadata": {
  "kernelspec": {
   "display_name": "Julia 0.6.0-pre.beta",
   "language": "julia",
   "name": "julia-0.6"
  },
  "language_info": {
   "file_extension": ".jl",
   "mimetype": "application/julia",
   "name": "julia",
   "version": "0.6.0"
  }
 },
 "nbformat": 4,
 "nbformat_minor": 2
}
